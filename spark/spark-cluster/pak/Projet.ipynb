{
 "cells": [
  {
   "cell_type": "markdown",
   "id": "94a4cfe0",
   "metadata": {},
   "source": [
    "0) chargement des données : "
   ]
  },
  {
   "cell_type": "code",
   "execution_count": 1,
   "id": "f3a5482b",
   "metadata": {},
   "outputs": [
    {
     "name": "stderr",
     "output_type": "stream",
     "text": [
      "22/11/17 10:20:54 WARN NativeCodeLoader: Unable to load native-hadoop library for your platform... using builtin-java classes where applicable\n",
      "Using Spark's default log4j profile: org/apache/spark/log4j-defaults.properties\n",
      "Setting default log level to \"WARN\".\n",
      "To adjust logging level use sc.setLogLevel(newLevel). For SparkR, use setLogLevel(newLevel).\n"
     ]
    }
   ],
   "source": [
    "from pyspark.sql import SparkSession\n",
    "\n",
    "\n",
    "import pandas as pd\n",
    "import pyspark.sql as sparksql\n",
    "import seaborn as sns\n",
    "import matplotlib.pyplot as plt\n",
    "import numpy as np\n",
    "\n",
    "spark = SparkSession.\\\n",
    "        builder.\\\n",
    "        appName(\"pyspark-notebook\").\\\n",
    "        master(\"spark://spark-master:7077\").\\\n",
    "        config(\"spark.executor.memory\", \"1g\").\\\n",
    "        getOrCreate()"
   ]
  },
  {
   "cell_type": "markdown",
   "id": "6501a213",
   "metadata": {},
   "source": [
    "1) Lire la données : \n"
   ]
  },
  {
   "cell_type": "markdown",
   "id": "7013bc59",
   "metadata": {},
   "source": [
    "1.1) Lecture de la donnée :"
   ]
  },
  {
   "cell_type": "code",
   "execution_count": 2,
   "id": "cc4d02be",
   "metadata": {},
   "outputs": [
    {
     "name": "stderr",
     "output_type": "stream",
     "text": [
      "                                                                                \r"
     ]
    },
    {
     "name": "stdout",
     "output_type": "stream",
     "text": [
      "+------------+-----+----+--------------------+------+--------------------+\n",
      "|Id_pollution|Annee|Mois|             Qualite|Nombre|Niveau de pollution |\n",
      "+------------+-----+----+--------------------+------+--------------------+\n",
      "|           1| 2019|aout|Extremement mauvaise|   0.0|                   5|\n",
      "|           2| 2019|aout|Extremement mauvaise|  60.0|                   5|\n",
      "|           3| 2019|aout|Extremement mauvaise|   1.0|                   5|\n",
      "|           4| 2019|aout|Extremement mauvaise|   0.0|                   5|\n",
      "|           5| 2019|aout|Extremement mauvaise|  22.0|                   5|\n",
      "|           6| 2019|aout|Extremement mauvaise|   0.0|                   5|\n",
      "|           7| 2019|aout|Extremement mauvaise|  13.0|                   5|\n",
      "|           8| 2019|aout|Extremement mauvaise|  14.0|                   5|\n",
      "|           9| 2019|aout|Extremement mauvaise|   0.0|                   5|\n",
      "|          10| 2019|aout|Extremement mauvaise|  60.0|                   5|\n",
      "|          11| 2019|aout|Extremement mauvaise|   1.0|                   5|\n",
      "|          12| 2019|aout|Extremement mauvaise|   0.0|                   5|\n",
      "|          13| 2019|aout|Extremement mauvaise|  22.0|                   5|\n",
      "|          14| 2019|aout|Extremement mauvaise|   0.0|                   5|\n",
      "|          15| 2019|aout|Extremement mauvaise|  13.0|                   5|\n",
      "|          16| 2019|aout|Extremement mauvaise|  14.0|                   5|\n",
      "|          17| 2019|aout|Extremement mauvaise|   0.0|                   5|\n",
      "|          18| 2019|aout|Extremement mauvaise|  60.0|                   5|\n",
      "|          19| 2019|aout|Extremement mauvaise|   1.0|                   5|\n",
      "|          20| 2019|aout|Extremement mauvaise|   0.0|                   5|\n",
      "+------------+-----+----+--------------------+------+--------------------+\n",
      "only showing top 20 rows\n",
      "\n"
     ]
    }
   ],
   "source": [
    "path  = 'hdfs://namenode:9000/ma_base/pollution/'\n",
    "dataframe_pollution = spark.read.format('csv').options(header=True, sep=\";\").load(path)\n",
    "dataframe_pollution.show()"
   ]
  },
  {
   "cell_type": "code",
   "execution_count": 3,
   "id": "857ab6e1",
   "metadata": {},
   "outputs": [
    {
     "data": {
      "text/plain": [
       "197316"
      ]
     },
     "execution_count": 3,
     "metadata": {},
     "output_type": "execute_result"
    }
   ],
   "source": []
  },
  {
   "cell_type": "code",
   "execution_count": 4,
   "id": "fc20c1cf",
   "metadata": {},
   "outputs": [
    {
     "data": {
      "text/plain": [
       "StructType(List(StructField(Id_pollution,StringType,true),StructField(Annee,StringType,true),StructField(Mois,StringType,true),StructField(Qualite,StringType,true),StructField(Nombre,StringType,true),StructField(Niveau de pollution ,StringType,true)))"
      ]
     },
     "execution_count": 4,
     "metadata": {},
     "output_type": "execute_result"
    }
   ],
   "source": [
    "dataframe_pollution.schema"
   ]
  },
  {
   "cell_type": "code",
   "execution_count": 5,
   "id": "32e3243b",
   "metadata": {},
   "outputs": [],
   "source": [
    "#dataframe_pollution = dataframe_pollution.withColumnRenamed(\"Id_circulation\",\"Id_pollution\")"
   ]
  },
  {
   "cell_type": "code",
   "execution_count": 6,
   "id": "00f2541a",
   "metadata": {},
   "outputs": [
    {
     "name": "stdout",
     "output_type": "stream",
     "text": [
      "+------------+-----+----+--------------------+------+--------------------+\n",
      "|Id_pollution|Annee|Mois|             Qualite|Nombre|Niveau de pollution |\n",
      "+------------+-----+----+--------------------+------+--------------------+\n",
      "|           1| 2019|aout|Extremement mauvaise|   0.0|                   5|\n",
      "|           2| 2019|aout|Extremement mauvaise|  60.0|                   5|\n",
      "|           3| 2019|aout|Extremement mauvaise|   1.0|                   5|\n",
      "|           4| 2019|aout|Extremement mauvaise|   0.0|                   5|\n",
      "|           5| 2019|aout|Extremement mauvaise|  22.0|                   5|\n",
      "|           6| 2019|aout|Extremement mauvaise|   0.0|                   5|\n",
      "|           7| 2019|aout|Extremement mauvaise|  13.0|                   5|\n",
      "|           8| 2019|aout|Extremement mauvaise|  14.0|                   5|\n",
      "|           9| 2019|aout|Extremement mauvaise|   0.0|                   5|\n",
      "|          10| 2019|aout|Extremement mauvaise|  60.0|                   5|\n",
      "|          11| 2019|aout|Extremement mauvaise|   1.0|                   5|\n",
      "|          12| 2019|aout|Extremement mauvaise|   0.0|                   5|\n",
      "|          13| 2019|aout|Extremement mauvaise|  22.0|                   5|\n",
      "|          14| 2019|aout|Extremement mauvaise|   0.0|                   5|\n",
      "|          15| 2019|aout|Extremement mauvaise|  13.0|                   5|\n",
      "|          16| 2019|aout|Extremement mauvaise|  14.0|                   5|\n",
      "|          17| 2019|aout|Extremement mauvaise|   0.0|                   5|\n",
      "|          18| 2019|aout|Extremement mauvaise|  60.0|                   5|\n",
      "|          19| 2019|aout|Extremement mauvaise|   1.0|                   5|\n",
      "|          20| 2019|aout|Extremement mauvaise|   0.0|                   5|\n",
      "+------------+-----+----+--------------------+------+--------------------+\n",
      "only showing top 20 rows\n",
      "\n"
     ]
    }
   ],
   "source": [
    "dataframe_pollution.show()"
   ]
  },
  {
   "cell_type": "code",
   "execution_count": 249,
   "id": "2739bd9b",
   "metadata": {},
   "outputs": [
    {
     "data": {
      "text/plain": [
       "197316"
      ]
     },
     "execution_count": 249,
     "metadata": {},
     "output_type": "execute_result"
    }
   ],
   "source": [
    "dataframe_pollution.count()"
   ]
  },
  {
   "cell_type": "code",
   "execution_count": 248,
   "id": "705a4de2",
   "metadata": {},
   "outputs": [
    {
     "name": "stdout",
     "output_type": "stream",
     "text": [
      "+-------+------------------+\n",
      "|summary|            Nombre|\n",
      "+-------+------------------+\n",
      "|  count|            197268|\n",
      "|   mean|15.173334245797594|\n",
      "| stddev|24.633260316635027|\n",
      "|    min|               0.0|\n",
      "|    max|              78.0|\n",
      "+-------+------------------+\n",
      "\n"
     ]
    }
   ],
   "source": [
    "\n",
    "dataframe_pollution.describe([\"Nombre\"]).show()"
   ]
  },
  {
   "cell_type": "code",
   "execution_count": 247,
   "id": "be74829c",
   "metadata": {},
   "outputs": [
    {
     "data": {
      "text/plain": [
       "[Row(avg(Niveau de pollution )=2.9311900561672446)]"
      ]
     },
     "execution_count": 247,
     "metadata": {},
     "output_type": "execute_result"
    }
   ],
   "source": [
    "dataframe_pollution.agg({'Niveau de pollution ': 'mean'}).collect()"
   ]
  },
  {
   "cell_type": "code",
   "execution_count": 8,
   "id": "e635cf78",
   "metadata": {},
   "outputs": [
    {
     "name": "stdout",
     "output_type": "stream",
     "text": [
      "+-----+----+--------------------+\n",
      "|Annee|Mois|             Qualite|\n",
      "+-----+----+--------------------+\n",
      "| 2019|aout|Extremement mauvaise|\n",
      "| 2019|aout|Extremement mauvaise|\n",
      "| 2019|aout|Extremement mauvaise|\n",
      "| 2019|aout|Extremement mauvaise|\n",
      "| 2019|aout|Extremement mauvaise|\n",
      "| 2019|aout|Extremement mauvaise|\n",
      "| 2019|aout|Extremement mauvaise|\n",
      "| 2019|aout|Extremement mauvaise|\n",
      "| 2019|aout|Extremement mauvaise|\n",
      "| 2019|aout|Extremement mauvaise|\n",
      "| 2019|aout|Extremement mauvaise|\n",
      "| 2019|aout|Extremement mauvaise|\n",
      "| 2019|aout|Extremement mauvaise|\n",
      "| 2019|aout|Extremement mauvaise|\n",
      "| 2019|aout|Extremement mauvaise|\n",
      "| 2019|aout|Extremement mauvaise|\n",
      "| 2019|aout|Extremement mauvaise|\n",
      "| 2019|aout|Extremement mauvaise|\n",
      "| 2019|aout|Extremement mauvaise|\n",
      "| 2019|aout|Extremement mauvaise|\n",
      "+-----+----+--------------------+\n",
      "only showing top 20 rows\n",
      "\n"
     ]
    }
   ],
   "source": [
    "dataframe_pollution.select([\"Annee\",\"Mois\",\"Qualite\"]).show()"
   ]
  },
  {
   "cell_type": "code",
   "execution_count": 250,
   "id": "df5953da",
   "metadata": {},
   "outputs": [
    {
     "data": {
      "text/plain": [
       "197316"
      ]
     },
     "execution_count": 250,
     "metadata": {},
     "output_type": "execute_result"
    }
   ],
   "source": [
    "dataframe_pollution.count()"
   ]
  },
  {
   "cell_type": "code",
   "execution_count": 9,
   "id": "979b9b47",
   "metadata": {},
   "outputs": [
    {
     "name": "stderr",
     "output_type": "stream",
     "text": [
      "                                                                                \r"
     ]
    },
    {
     "name": "stdout",
     "output_type": "stream",
     "text": [
      "Bonne :  0\n",
      "Extremement mauvaise :  1130\n",
      "Mauvaise :  1039\n",
      "Moyenne:  0\n",
      "Degradee :  1937\n"
     ]
    },
    {
     "data": {
      "text/plain": [
       "1937"
      ]
     },
     "execution_count": 9,
     "metadata": {},
     "output_type": "execute_result"
    }
   ],
   "source": [
    "dataframe_pollution_janvierB2018 = dataframe_pollution.filter((dataframe_pollution.Annee ==\"2018\") & (dataframe_pollution.Mois ==\"Janvier\") & (dataframe_pollution.Qualite == \"Bonne\")).count()\n",
    "print(\"Bonne : \",dataframe_pollution_janvierB2018)\n",
    "dataframe_pollution_janvierEM2018 = dataframe_pollution.filter((dataframe_pollution.Annee ==\"2018\") & (dataframe_pollution.Mois ==\"Janvier\") & (dataframe_pollution.Qualite == \"Extremement mauvaise\")).count()\n",
    "print(\"Extremement mauvaise : \",dataframe_pollution_janvierEM2018)\n",
    "dataframe_pollution_janvierMA2018 = dataframe_pollution.filter((dataframe_pollution.Annee ==\"2018\") & (dataframe_pollution.Mois ==\"Janvier\") & (dataframe_pollution.Qualite == \"Mauvaise\")).count()\n",
    "print(\"Mauvaise : \" , dataframe_pollution_janvierMA2018)\n",
    "dataframe_pollution_janvierMO2018 = dataframe_pollution.filter((dataframe_pollution.Annee ==\"2018\") & (dataframe_pollution.Mois ==\"Janvier\") & (dataframe_pollution.Qualite == \"Moyenne\")).count()\n",
    "print(\"Moyenne: \" , dataframe_pollution_janvierMO2018)\n",
    "dataframe_pollution_janvierD2018 = dataframe_pollution.filter((dataframe_pollution.Annee ==\"2018\") & (dataframe_pollution.Mois ==\"Janvier\") & (dataframe_pollution.Qualite == \"Degradee\")).count()\n",
    "print(\"Degradee : \" , dataframe_pollution_janvierD2018)\n",
    "max(dataframe_pollution_janvierB2018 , dataframe_pollution_janvierEM2018 , dataframe_pollution_janvierMA2018 , dataframe_pollution_janvierMO2018 ,  dataframe_pollution_janvierD2018)"
   ]
  },
  {
   "cell_type": "code",
   "execution_count": 10,
   "id": "e37e6bd4",
   "metadata": {},
   "outputs": [
    {
     "name": "stdout",
     "output_type": "stream",
     "text": [
      "Bonne :  1570\n",
      "Extremement mauvaise :  0\n",
      "Mauvaise :  526\n",
      "Moyenne:  1998\n",
      "Degradee :  0\n"
     ]
    },
    {
     "data": {
      "text/plain": [
       "1998"
      ]
     },
     "execution_count": 10,
     "metadata": {},
     "output_type": "execute_result"
    }
   ],
   "source": [
    "dataframe_pollution_fevrierB2018 = dataframe_pollution.filter((dataframe_pollution.Annee ==\"2018\") & (dataframe_pollution.Mois ==\"fevrier\") & (dataframe_pollution.Qualite == \"Bonne\")).count()\n",
    "print(\"Bonne : \",dataframe_pollution_fevrierB2018)\n",
    "dataframe_pollution_fevrierEM2018 = dataframe_pollution.filter((dataframe_pollution.Annee ==\"2018\") & (dataframe_pollution.Mois ==\"fevrier\") & (dataframe_pollution.Qualite == \"Extremement mauvaise\")).count()\n",
    "print(\"Extremement mauvaise : \",dataframe_pollution_fevrierEM2018)\n",
    "dataframe_pollution_fevrierMA2018 = dataframe_pollution.filter((dataframe_pollution.Annee ==\"2018\") & (dataframe_pollution.Mois ==\"fevrier\") & (dataframe_pollution.Qualite == \"Mauvaise\")).count()\n",
    "print(\"Mauvaise : \" , dataframe_pollution_fevrierMA2018)\n",
    "dataframe_pollution_fevrierMO2018 = dataframe_pollution.filter((dataframe_pollution.Annee ==\"2018\") & (dataframe_pollution.Mois ==\"fevrier\") & (dataframe_pollution.Qualite == \"Moyenne\")).count()\n",
    "print(\"Moyenne: \" , dataframe_pollution_fevrierMO2018)\n",
    "dataframe_pollution_fevrierD2018 = dataframe_pollution.filter((dataframe_pollution.Annee ==\"2018\") & (dataframe_pollution.Mois ==\"fevrier\") & (dataframe_pollution.Qualite == \"Degradee\")).count()\n",
    "print(\"Degradee : \" , dataframe_pollution_fevrierD2018)\n",
    "max(dataframe_pollution_fevrierB2018 , dataframe_pollution_fevrierEM2018 , dataframe_pollution_fevrierMA2018 , dataframe_pollution_fevrierMO2018 ,  dataframe_pollution_fevrierD2018)"
   ]
  },
  {
   "cell_type": "code",
   "execution_count": 11,
   "id": "28455322",
   "metadata": {},
   "outputs": [
    {
     "name": "stdout",
     "output_type": "stream",
     "text": [
      "Bonne :  1216\n",
      "Extremement mauvaise :  0\n",
      "Mauvaise :  1111\n",
      "Moyenne:  1672\n",
      "Degradee :  106\n"
     ]
    },
    {
     "data": {
      "text/plain": [
       "1672"
      ]
     },
     "execution_count": 11,
     "metadata": {},
     "output_type": "execute_result"
    }
   ],
   "source": [
    "dataframe_pollution_marsB2018 = dataframe_pollution.filter((dataframe_pollution.Annee ==\"2018\") & (dataframe_pollution.Mois ==\"mars\") & (dataframe_pollution.Qualite == \"Bonne\")).count()\n",
    "print(\"Bonne : \",dataframe_pollution_marsB2018)\n",
    "dataframe_pollution_marsEM2018 = dataframe_pollution.filter((dataframe_pollution.Annee ==\"2018\") & (dataframe_pollution.Mois ==\"mars\") & (dataframe_pollution.Qualite == \"Extremement mauvaise\")).count()\n",
    "print(\"Extremement mauvaise : \",dataframe_pollution_marsEM2018)\n",
    "dataframe_pollution_marsMA2018 = dataframe_pollution.filter((dataframe_pollution.Annee ==\"2018\") & (dataframe_pollution.Mois ==\"mars\") & (dataframe_pollution.Qualite == \"Mauvaise\")).count()\n",
    "print(\"Mauvaise : \" , dataframe_pollution_marsMA2018)\n",
    "dataframe_pollution_marsMO2018 = dataframe_pollution.filter((dataframe_pollution.Annee ==\"2018\") & (dataframe_pollution.Mois ==\"mars\") & (dataframe_pollution.Qualite == \"Moyenne\")).count()\n",
    "print(\"Moyenne: \" , dataframe_pollution_marsMO2018)\n",
    "dataframe_pollution_marsD2018 = dataframe_pollution.filter((dataframe_pollution.Annee ==\"2018\") & (dataframe_pollution.Mois ==\"mars\") & (dataframe_pollution.Qualite == \"Degradee\")).count()\n",
    "print(\"Degradee : \" , dataframe_pollution_marsD2018)\n",
    "max(dataframe_pollution_marsB2018 , dataframe_pollution_marsEM2018 , dataframe_pollution_marsMA2018 , dataframe_pollution_marsMO2018 ,  dataframe_pollution_marsD2018)"
   ]
  },
  {
   "cell_type": "code",
   "execution_count": 12,
   "id": "e3875e37",
   "metadata": {},
   "outputs": [
    {
     "name": "stdout",
     "output_type": "stream",
     "text": [
      "Bonne :  2047\n",
      "Extremement mauvaise :  0\n",
      "Mauvaise :  266\n",
      "Moyenne:  1786\n",
      "Degradee :  0\n"
     ]
    },
    {
     "data": {
      "text/plain": [
       "2047"
      ]
     },
     "execution_count": 12,
     "metadata": {},
     "output_type": "execute_result"
    }
   ],
   "source": [
    "dataframe_pollution_AvrilB2018 = dataframe_pollution.filter((dataframe_pollution.Annee ==\"2018\") & (dataframe_pollution.Mois ==\"Avril\") & (dataframe_pollution.Qualite == \"Bonne\")).count()\n",
    "print(\"Bonne : \",dataframe_pollution_AvrilB2018)\n",
    "dataframe_pollution_AvrilEM2018 = dataframe_pollution.filter((dataframe_pollution.Annee ==\"2018\") & (dataframe_pollution.Mois ==\"Avril\") & (dataframe_pollution.Qualite == \"Extremement mauvaise\")).count()\n",
    "print(\"Extremement mauvaise : \",dataframe_pollution_AvrilEM2018)\n",
    "dataframe_pollution_AvrilMA2018 = dataframe_pollution.filter((dataframe_pollution.Annee ==\"2018\") & (dataframe_pollution.Mois ==\"Avril\") & (dataframe_pollution.Qualite == \"Mauvaise\")).count()\n",
    "print(\"Mauvaise : \" , dataframe_pollution_AvrilMA2018)\n",
    "dataframe_pollution_AvrilMO2018 = dataframe_pollution.filter((dataframe_pollution.Annee ==\"2018\") & (dataframe_pollution.Mois ==\"Avril\") & (dataframe_pollution.Qualite == \"Moyenne\")).count()\n",
    "print(\"Moyenne: \" , dataframe_pollution_AvrilMO2018)\n",
    "dataframe_pollution_AvrilD2018 = dataframe_pollution.filter((dataframe_pollution.Annee ==\"2018\") & (dataframe_pollution.Mois ==\"Avril\") & (dataframe_pollution.Qualite == \"Degradee\")).count()\n",
    "print(\"Degradee : \" , dataframe_pollution_AvrilD2018)\n",
    "max(dataframe_pollution_AvrilB2018 , dataframe_pollution_AvrilEM2018 , dataframe_pollution_AvrilMA2018 , dataframe_pollution_AvrilMO2018 ,  dataframe_pollution_AvrilD2018)"
   ]
  },
  {
   "cell_type": "code",
   "execution_count": 13,
   "id": "cc37b23b",
   "metadata": {},
   "outputs": [
    {
     "name": "stdout",
     "output_type": "stream",
     "text": [
      "Bonne :  0\n",
      "Extremement mauvaise :  0\n",
      "Mauvaise :  947\n",
      "Moyenne:  1632\n",
      "Degradee :  1551\n"
     ]
    },
    {
     "data": {
      "text/plain": [
       "1632"
      ]
     },
     "execution_count": 13,
     "metadata": {},
     "output_type": "execute_result"
    }
   ],
   "source": [
    "dataframe_pollution_maiB2018 = dataframe_pollution.filter((dataframe_pollution.Annee ==\"2018\") & (dataframe_pollution.Mois ==\"mai\") & (dataframe_pollution.Qualite == \"Bonne\")).count()\n",
    "print(\"Bonne : \",dataframe_pollution_maiB2018)\n",
    "dataframe_pollution_maiEM2018 = dataframe_pollution.filter((dataframe_pollution.Annee ==\"2018\") & (dataframe_pollution.Mois ==\"mai\") & (dataframe_pollution.Qualite == \"Extremement mauvaise\")).count()\n",
    "print(\"Extremement mauvaise : \",dataframe_pollution_maiEM2018)\n",
    "dataframe_pollution_maiMA2018 = dataframe_pollution.filter((dataframe_pollution.Annee ==\"2018\") & (dataframe_pollution.Mois ==\"mai\") & (dataframe_pollution.Qualite == \"Mauvaise\")).count()\n",
    "print(\"Mauvaise : \" , dataframe_pollution_maiMA2018)\n",
    "dataframe_pollution_maiMO2018 = dataframe_pollution.filter((dataframe_pollution.Annee ==\"2018\") & (dataframe_pollution.Mois ==\"mai\") & (dataframe_pollution.Qualite == \"Moyenne\")).count()\n",
    "print(\"Moyenne: \" , dataframe_pollution_maiMO2018)\n",
    "dataframe_pollution_maiD2018 = dataframe_pollution.filter((dataframe_pollution.Annee ==\"2018\") & (dataframe_pollution.Mois ==\"mai\") & (dataframe_pollution.Qualite == \"Degradee\")).count()\n",
    "print(\"Degradee : \" , dataframe_pollution_maiD2018)\n",
    "max(dataframe_pollution_maiB2018 , dataframe_pollution_maiEM2018 , dataframe_pollution_maiMA2018 , dataframe_pollution_maiMO2018 ,  dataframe_pollution_maiD2018)"
   ]
  },
  {
   "cell_type": "code",
   "execution_count": 14,
   "id": "f4a5b9ef",
   "metadata": {},
   "outputs": [
    {
     "name": "stdout",
     "output_type": "stream",
     "text": [
      "Bonne :  0\n",
      "Extremement mauvaise :  0\n",
      "Mauvaise :  1048\n",
      "Moyenne:  1911\n",
      "Degradee :  1170\n"
     ]
    },
    {
     "data": {
      "text/plain": [
       "1911"
      ]
     },
     "execution_count": 14,
     "metadata": {},
     "output_type": "execute_result"
    }
   ],
   "source": [
    "dataframe_pollution_juinB2018 = dataframe_pollution.filter((dataframe_pollution.Annee ==\"2018\") & (dataframe_pollution.Mois ==\"juin\") & (dataframe_pollution.Qualite == \"Bonne\")).count()\n",
    "print(\"Bonne : \",dataframe_pollution_juinB2018)\n",
    "dataframe_pollution_juinEM2018 = dataframe_pollution.filter((dataframe_pollution.Annee ==\"2018\") & (dataframe_pollution.Mois ==\"juin\") & (dataframe_pollution.Qualite == \"Extremement mauvaise\")).count()\n",
    "print(\"Extremement mauvaise : \",dataframe_pollution_juinEM2018)\n",
    "dataframe_pollution_juinMA2018 = dataframe_pollution.filter((dataframe_pollution.Annee ==\"2018\") & (dataframe_pollution.Mois ==\"juin\") & (dataframe_pollution.Qualite == \"Mauvaise\")).count()\n",
    "print(\"Mauvaise : \" , dataframe_pollution_juinMA2018)\n",
    "dataframe_pollution_juinMO2018 = dataframe_pollution.filter((dataframe_pollution.Annee ==\"2018\") & (dataframe_pollution.Mois ==\"juin\") & (dataframe_pollution.Qualite == \"Moyenne\")).count()\n",
    "print(\"Moyenne: \" , dataframe_pollution_juinMO2018)\n",
    "dataframe_pollution_juinD2018 = dataframe_pollution.filter((dataframe_pollution.Annee ==\"2018\") & (dataframe_pollution.Mois ==\"juin\") & (dataframe_pollution.Qualite == \"Degradee\")).count()\n",
    "print(\"Degradee : \" , dataframe_pollution_juinD2018)\n",
    "max(dataframe_pollution_juinB2018 , dataframe_pollution_juinEM2018 , dataframe_pollution_juinMA2018 , dataframe_pollution_juinMO2018 ,  dataframe_pollution_juinD2018)"
   ]
  },
  {
   "cell_type": "code",
   "execution_count": 15,
   "id": "f18ed2c1",
   "metadata": {},
   "outputs": [
    {
     "name": "stdout",
     "output_type": "stream",
     "text": [
      "Bonne :  0\n",
      "Extremement mauvaise :  1281\n",
      "Mauvaise :  1104\n",
      "Moyenne:  0\n",
      "Degradee :  1698\n"
     ]
    },
    {
     "data": {
      "text/plain": [
       "1698"
      ]
     },
     "execution_count": 15,
     "metadata": {},
     "output_type": "execute_result"
    }
   ],
   "source": [
    "dataframe_pollution_juilletB2018 = dataframe_pollution.filter((dataframe_pollution.Annee ==\"2018\") & (dataframe_pollution.Mois ==\"juillet\") & (dataframe_pollution.Qualite == \"Bonne\")).count()\n",
    "print(\"Bonne : \",dataframe_pollution_juilletB2018)\n",
    "dataframe_pollution_juilletEM2018 = dataframe_pollution.filter((dataframe_pollution.Annee ==\"2018\") & (dataframe_pollution.Mois ==\"juillet\") & (dataframe_pollution.Qualite == \"Extremement mauvaise\")).count()\n",
    "print(\"Extremement mauvaise : \",dataframe_pollution_juilletEM2018)\n",
    "dataframe_pollution_juilletMA2018 = dataframe_pollution.filter((dataframe_pollution.Annee ==\"2018\") & (dataframe_pollution.Mois ==\"juillet\") & (dataframe_pollution.Qualite == \"Mauvaise\")).count()\n",
    "print(\"Mauvaise : \" , dataframe_pollution_juilletMA2018)\n",
    "dataframe_pollution_juilletMO2018 = dataframe_pollution.filter((dataframe_pollution.Annee ==\"2018\") & (dataframe_pollution.Mois ==\"juillet\") & (dataframe_pollution.Qualite == \"Moyenne\")).count()\n",
    "print(\"Moyenne: \" , dataframe_pollution_juilletMO2018)\n",
    "dataframe_pollution_juilletD2018 = dataframe_pollution.filter((dataframe_pollution.Annee ==\"2018\") & (dataframe_pollution.Mois ==\"juillet\") & (dataframe_pollution.Qualite == \"Degradee\")).count()\n",
    "print(\"Degradee : \" , dataframe_pollution_juilletD2018)\n",
    "max(dataframe_pollution_juilletB2018 , dataframe_pollution_juilletEM2018 , dataframe_pollution_juilletMA2018 , dataframe_pollution_juilletMO2018 ,  dataframe_pollution_juilletD2018)"
   ]
  },
  {
   "cell_type": "code",
   "execution_count": 16,
   "id": "cd1c297e",
   "metadata": {},
   "outputs": [
    {
     "name": "stdout",
     "output_type": "stream",
     "text": [
      "Bonne :  0\n",
      "Extremement mauvaise :  3214\n",
      "Mauvaise :  126\n",
      "Moyenne:  0\n",
      "Degradee :  805\n"
     ]
    },
    {
     "data": {
      "text/plain": [
       "3214"
      ]
     },
     "execution_count": 16,
     "metadata": {},
     "output_type": "execute_result"
    }
   ],
   "source": [
    "dataframe_pollution_aoutB2018 = dataframe_pollution.filter((dataframe_pollution.Annee ==\"2018\") & (dataframe_pollution.Mois ==\"aout\") & (dataframe_pollution.Qualite == \"Bonne\")).count()\n",
    "print(\"Bonne : \",dataframe_pollution_aoutB2018)\n",
    "dataframe_pollution_aoutEM2018 = dataframe_pollution.filter((dataframe_pollution.Annee ==\"2018\") & (dataframe_pollution.Mois ==\"aout\") & (dataframe_pollution.Qualite == \"Extremement mauvaise\")).count()\n",
    "print(\"Extremement mauvaise : \",dataframe_pollution_aoutEM2018)\n",
    "dataframe_pollution_aoutMA2018 = dataframe_pollution.filter((dataframe_pollution.Annee ==\"2018\") & (dataframe_pollution.Mois ==\"aout\") & (dataframe_pollution.Qualite == \"Mauvaise\")).count()\n",
    "print(\"Mauvaise : \" , dataframe_pollution_aoutMA2018)\n",
    "dataframe_pollution_aoutMO2018 = dataframe_pollution.filter((dataframe_pollution.Annee ==\"2018\") & (dataframe_pollution.Mois ==\"aout\") & (dataframe_pollution.Qualite == \"Moyenne\")).count()\n",
    "print(\"Moyenne: \" , dataframe_pollution_aoutMO2018)\n",
    "dataframe_pollution_aoutD2018 = dataframe_pollution.filter((dataframe_pollution.Annee ==\"2018\") & (dataframe_pollution.Mois ==\"aout\") & (dataframe_pollution.Qualite == \"Degradee\")).count()\n",
    "print(\"Degradee : \" , dataframe_pollution_aoutD2018)\n",
    "max(dataframe_pollution_aoutB2018 , dataframe_pollution_aoutEM2018 , dataframe_pollution_aoutMA2018 , dataframe_pollution_aoutMO2018 ,  dataframe_pollution_aoutD2018)"
   ]
  },
  {
   "cell_type": "code",
   "execution_count": 17,
   "id": "33585f2f",
   "metadata": {},
   "outputs": [
    {
     "name": "stdout",
     "output_type": "stream",
     "text": [
      "Bonne :  17\n",
      "Extremement mauvaise :  98\n",
      "Mauvaise :  315\n",
      "Moyenne:  1097\n",
      "Degradee :  1236\n"
     ]
    },
    {
     "data": {
      "text/plain": [
       "1236"
      ]
     },
     "execution_count": 17,
     "metadata": {},
     "output_type": "execute_result"
    }
   ],
   "source": [
    "dataframe_pollution_septembreB2018 = dataframe_pollution.filter((dataframe_pollution.Annee ==\"2018\") & (dataframe_pollution.Mois ==\"septembre\") & (dataframe_pollution.Qualite == \"Bonne\")).count()\n",
    "print(\"Bonne : \",dataframe_pollution_septembreB2018)\n",
    "dataframe_pollution_septembreEM2018 = dataframe_pollution.filter((dataframe_pollution.Annee ==\"2018\") & (dataframe_pollution.Mois ==\"septembre\") & (dataframe_pollution.Qualite == \"Extremement mauvaise\")).count()\n",
    "print(\"Extremement mauvaise : \",dataframe_pollution_septembreEM2018)\n",
    "dataframe_pollution_septembreMA2018 = dataframe_pollution.filter((dataframe_pollution.Annee ==\"2018\") & (dataframe_pollution.Mois ==\"septembre\") & (dataframe_pollution.Qualite == \"Mauvaise\")).count()\n",
    "print(\"Mauvaise : \" , dataframe_pollution_septembreMA2018)\n",
    "dataframe_pollution_septembreMO2018 = dataframe_pollution.filter((dataframe_pollution.Annee ==\"2018\") & (dataframe_pollution.Mois ==\"septembre\") & (dataframe_pollution.Qualite == \"Moyenne\")).count()\n",
    "print(\"Moyenne: \" , dataframe_pollution_septembreMO2018)\n",
    "dataframe_pollution_septembreD2018 = dataframe_pollution.filter((dataframe_pollution.Annee ==\"2018\") & (dataframe_pollution.Mois ==\"septembre\") & (dataframe_pollution.Qualite == \"Degradee\")).count()\n",
    "print(\"Degradee : \" , dataframe_pollution_septembreD2018)\n",
    "max(dataframe_pollution_septembreB2018 , dataframe_pollution_septembreEM2018 , dataframe_pollution_septembreMA2018 , dataframe_pollution_septembreMO2018 ,  dataframe_pollution_septembreD2018)"
   ]
  },
  {
   "cell_type": "code",
   "execution_count": 18,
   "id": "167d4f3a",
   "metadata": {},
   "outputs": [
    {
     "name": "stdout",
     "output_type": "stream",
     "text": [
      "Bonne :  0\n",
      "Extremement mauvaise :  30\n",
      "Mauvaise :  2459\n",
      "Moyenne:  1543\n",
      "Degradee :  48\n"
     ]
    },
    {
     "data": {
      "text/plain": [
       "2459"
      ]
     },
     "execution_count": 18,
     "metadata": {},
     "output_type": "execute_result"
    }
   ],
   "source": [
    "dataframe_pollution_octobreTM2018 = dataframe_pollution.filter((dataframe_pollution.Annee ==\"2018\") & (dataframe_pollution.Mois ==\"octobre\") & (dataframe_pollution.Qualite == \"Bonne\")).count()\n",
    "print(\"Bonne : \" , dataframe_pollution_octobreTM2018)\n",
    "dataframe_pollution_octobreEM2018 = dataframe_pollution.filter((dataframe_pollution.Annee ==\"2018\") & (dataframe_pollution.Mois ==\"octobre\") & (dataframe_pollution.Qualite == \"Extremement mauvaise\")).count()\n",
    "print(\"Extremement mauvaise : \",dataframe_pollution_octobreEM2018)\n",
    "dataframe_pollution_octobreMA2018 = dataframe_pollution.filter((dataframe_pollution.Annee ==\"2018\") & (dataframe_pollution.Mois ==\"octobre\") & (dataframe_pollution.Qualite == \"Mauvaise\")).count()\n",
    "print(\"Mauvaise : \" , dataframe_pollution_octobreMA2018)\n",
    "dataframe_pollution_octobreMO2018 = dataframe_pollution.filter((dataframe_pollution.Annee ==\"2018\") & (dataframe_pollution.Mois ==\"octobre\") & (dataframe_pollution.Qualite == \"Moyenne\")).count()\n",
    "print(\"Moyenne: \" , dataframe_pollution_octobreMO2018)\n",
    "dataframe_pollution_octobreD2018 = dataframe_pollution.filter((dataframe_pollution.Annee ==\"2018\") & (dataframe_pollution.Mois ==\"octobre\") & (dataframe_pollution.Qualite == \"Degradee\")).count()\n",
    "print(\"Degradee : \" , dataframe_pollution_octobreD2018)\n",
    "max(dataframe_pollution_octobreTM2018 , dataframe_pollution_octobreEM2018 , dataframe_pollution_octobreMA2018 , dataframe_pollution_octobreMO2018 ,  dataframe_pollution_octobreD2018)\n"
   ]
  },
  {
   "cell_type": "code",
   "execution_count": 19,
   "id": "6a11d619",
   "metadata": {},
   "outputs": [
    {
     "name": "stdout",
     "output_type": "stream",
     "text": [
      "Bonne :  0\n",
      "Extremement mauvaise :  77\n",
      "Mauvaise :  1326\n",
      "Moyenne:  763\n",
      "Degradee :  594\n"
     ]
    },
    {
     "data": {
      "text/plain": [
       "1326"
      ]
     },
     "execution_count": 19,
     "metadata": {},
     "output_type": "execute_result"
    }
   ],
   "source": [
    "dataframe_pollution_novembreTM2018 = dataframe_pollution.filter((dataframe_pollution.Annee ==\"2018\") & (dataframe_pollution.Mois ==\"novembre\") & (dataframe_pollution.Qualite == \"Bonne\")).count()\n",
    "print(\"Bonne : \" , dataframe_pollution_novembreTM2018)\n",
    "dataframe_pollution_novembreEM2018 = dataframe_pollution.filter((dataframe_pollution.Annee ==\"2018\") & (dataframe_pollution.Mois ==\"novembre\") & (dataframe_pollution.Qualite == \"Extremement mauvaise\")).count()\n",
    "print(\"Extremement mauvaise : \",dataframe_pollution_novembreEM2018)\n",
    "dataframe_pollution_novembreMA2018 = dataframe_pollution.filter((dataframe_pollution.Annee ==\"2018\") & (dataframe_pollution.Mois ==\"novembre\") & (dataframe_pollution.Qualite == \"Mauvaise\")).count()\n",
    "print(\"Mauvaise : \" , dataframe_pollution_novembreMA2018)\n",
    "dataframe_pollution_novembreMO2018 = dataframe_pollution.filter((dataframe_pollution.Annee ==\"2018\") & (dataframe_pollution.Mois ==\"novembre\") & (dataframe_pollution.Qualite == \"Moyenne\")).count()\n",
    "print(\"Moyenne: \" , dataframe_pollution_novembreMO2018)\n",
    "dataframe_pollution_novembreD2018 = dataframe_pollution.filter((dataframe_pollution.Annee ==\"2018\") & (dataframe_pollution.Mois ==\"novembre\") & (dataframe_pollution.Qualite == \"Degradee\")).count()\n",
    "print(\"Degradee : \" , dataframe_pollution_novembreD2018)\n",
    "max(dataframe_pollution_novembreTM2018 , dataframe_pollution_novembreEM2018 , dataframe_pollution_novembreMA2018 , dataframe_pollution_novembreMO2018 ,  dataframe_pollution_novembreD2018)"
   ]
  },
  {
   "cell_type": "code",
   "execution_count": 20,
   "id": "b699211f",
   "metadata": {},
   "outputs": [
    {
     "name": "stdout",
     "output_type": "stream",
     "text": [
      "Bonne :  1\n",
      "Extremement mauvaise :  1051\n",
      "Mauvaise :  391\n",
      "Moyenne:  600\n",
      "Degradee :  706\n"
     ]
    },
    {
     "data": {
      "text/plain": [
       "1051"
      ]
     },
     "execution_count": 20,
     "metadata": {},
     "output_type": "execute_result"
    }
   ],
   "source": [
    "dataframe_pollution_decembreTM2018 = dataframe_pollution.filter((dataframe_pollution.Annee ==\"2018\") & (dataframe_pollution.Mois ==\"decembre\") & (dataframe_pollution.Qualite == \"Bonne\")).count()\n",
    "print(\"Bonne : \" , dataframe_pollution_decembreTM2018)\n",
    "dataframe_pollution_decembreEM2018 = dataframe_pollution.filter((dataframe_pollution.Annee ==\"2018\") & (dataframe_pollution.Mois ==\"decembre\") & (dataframe_pollution.Qualite == \"Extremement mauvaise\")).count()\n",
    "print(\"Extremement mauvaise : \",dataframe_pollution_decembreEM2018)\n",
    "dataframe_pollution_decembreMA2018 = dataframe_pollution.filter((dataframe_pollution.Annee ==\"2018\") & (dataframe_pollution.Mois ==\"decembre\") & (dataframe_pollution.Qualite == \"Mauvaise\")).count()\n",
    "print(\"Mauvaise : \" , dataframe_pollution_decembreMA2018)\n",
    "dataframe_pollution_decembreMO2018 = dataframe_pollution.filter((dataframe_pollution.Annee ==\"2018\") & (dataframe_pollution.Mois ==\"decembre\") & (dataframe_pollution.Qualite == \"Moyenne\")).count()\n",
    "print(\"Moyenne: \" , dataframe_pollution_decembreMO2018)\n",
    "dataframe_pollution_decembreD2018 = dataframe_pollution.filter((dataframe_pollution.Annee ==\"2018\") & (dataframe_pollution.Mois ==\"decembre\") & (dataframe_pollution.Qualite == \"Degradee\")).count()\n",
    "print(\"Degradee : \" , dataframe_pollution_decembreD2018)\n",
    "max(dataframe_pollution_decembreTM2018 , dataframe_pollution_decembreEM2018 , dataframe_pollution_decembreMA2018 , dataframe_pollution_decembreMO2018 ,  dataframe_pollution_decembreD2018)"
   ]
  },
  {
   "cell_type": "code",
   "execution_count": 21,
   "id": "7cbcb6f1",
   "metadata": {},
   "outputs": [
    {
     "name": "stdout",
     "output_type": "stream",
     "text": [
      "Bonne :  0\n",
      "Extremement mauvaise :  2171\n",
      "Mauvaise :  684\n",
      "Moyenne:  0\n",
      "Degradee :  1258\n"
     ]
    },
    {
     "data": {
      "text/plain": [
       "2171"
      ]
     },
     "execution_count": 21,
     "metadata": {},
     "output_type": "execute_result"
    }
   ],
   "source": [
    "dataframe_pollution_janvierTM2019 = dataframe_pollution.filter((dataframe_pollution.Annee ==\"2019\") & (dataframe_pollution.Mois ==\"Janvier\") & (dataframe_pollution.Qualite == \"Bonne\")).count()\n",
    "print(\"Bonne : \" , dataframe_pollution_janvierTM2019)\n",
    "dataframe_pollution_janvierEM2019 = dataframe_pollution.filter((dataframe_pollution.Annee ==\"2019\") & (dataframe_pollution.Mois ==\"Janvier\") & (dataframe_pollution.Qualite == \"Extremement mauvaise\")).count()\n",
    "print(\"Extremement mauvaise : \",dataframe_pollution_janvierEM2019)\n",
    "dataframe_pollution_janvierMA2019 = dataframe_pollution.filter((dataframe_pollution.Annee ==\"2019\") & (dataframe_pollution.Mois ==\"Janvier\") & (dataframe_pollution.Qualite == \"Mauvaise\")).count()\n",
    "print(\"Mauvaise : \" , dataframe_pollution_janvierMA2019)\n",
    "dataframe_pollution_janvierMO2019 = dataframe_pollution.filter((dataframe_pollution.Annee ==\"2019\") & (dataframe_pollution.Mois ==\"Janvier\") & (dataframe_pollution.Qualite == \"Moyenne\")).count()\n",
    "print(\"Moyenne: \" , dataframe_pollution_janvierMO2019)\n",
    "dataframe_pollution_janvierD2019 = dataframe_pollution.filter((dataframe_pollution.Annee ==\"2019\") & (dataframe_pollution.Mois ==\"Janvier\") & (dataframe_pollution.Qualite == \"Degradee\")).count()\n",
    "print(\"Degradee : \" , dataframe_pollution_janvierD2019)\n",
    "max(dataframe_pollution_janvierTM2019 , dataframe_pollution_janvierEM2019 , dataframe_pollution_janvierMA2019 , dataframe_pollution_janvierMO2019 ,  dataframe_pollution_janvierD2019)"
   ]
  },
  {
   "cell_type": "code",
   "execution_count": 22,
   "id": "e3f22252",
   "metadata": {},
   "outputs": [
    {
     "name": "stdout",
     "output_type": "stream",
     "text": [
      "Bonne :  1992\n",
      "Extremement mauvaise :  0\n",
      "Mauvaise :  632\n",
      "Moyenne:  1525\n",
      "Degradee :  0\n"
     ]
    },
    {
     "data": {
      "text/plain": [
       "1992"
      ]
     },
     "execution_count": 22,
     "metadata": {},
     "output_type": "execute_result"
    }
   ],
   "source": [
    "dataframe_pollution_fevrierTM2019 = dataframe_pollution.filter((dataframe_pollution.Annee ==\"2019\") & (dataframe_pollution.Mois ==\"fevrier\") & (dataframe_pollution.Qualite == \"Bonne\")).count()\n",
    "print(\"Bonne : \" , dataframe_pollution_fevrierTM2019)\n",
    "dataframe_pollution_fevrierEM2019 = dataframe_pollution.filter((dataframe_pollution.Annee ==\"2019\") & (dataframe_pollution.Mois ==\"fevrier\") & (dataframe_pollution.Qualite == \"Extremement mauvaise\")).count()\n",
    "print(\"Extremement mauvaise : \",dataframe_pollution_fevrierEM2019)\n",
    "dataframe_pollution_fevrierMA2019 = dataframe_pollution.filter((dataframe_pollution.Annee ==\"2019\") & (dataframe_pollution.Mois ==\"fevrier\") & (dataframe_pollution.Qualite == \"Mauvaise\")).count()\n",
    "print(\"Mauvaise : \" , dataframe_pollution_fevrierMA2019)\n",
    "dataframe_pollution_fevrierMO2019 = dataframe_pollution.filter((dataframe_pollution.Annee ==\"2019\") & (dataframe_pollution.Mois ==\"fevrier\") & (dataframe_pollution.Qualite == \"Moyenne\")).count()\n",
    "print(\"Moyenne: \" , dataframe_pollution_fevrierMO2019)\n",
    "dataframe_pollution_fevrierD2019 = dataframe_pollution.filter((dataframe_pollution.Annee ==\"2019\") & (dataframe_pollution.Mois ==\"fevrier\") & (dataframe_pollution.Qualite == \"Degradee\")).count()\n",
    "print(\"Degradee : \" , dataframe_pollution_fevrierD2019)\n",
    "max(dataframe_pollution_fevrierTM2019 , dataframe_pollution_fevrierEM2019 , dataframe_pollution_fevrierMA2019 , dataframe_pollution_fevrierMO2019 ,  dataframe_pollution_fevrierD2019)"
   ]
  },
  {
   "cell_type": "code",
   "execution_count": 23,
   "id": "19427dca",
   "metadata": {},
   "outputs": [
    {
     "name": "stdout",
     "output_type": "stream",
     "text": [
      "Bonne :  577\n",
      "Extremement mauvaise :  0\n",
      "Mauvaise :  683\n",
      "Moyenne:  2861\n",
      "Degradee :  0\n"
     ]
    },
    {
     "data": {
      "text/plain": [
       "2861"
      ]
     },
     "execution_count": 23,
     "metadata": {},
     "output_type": "execute_result"
    }
   ],
   "source": [
    "dataframe_pollution_marsTM2019 = dataframe_pollution.filter((dataframe_pollution.Annee ==\"2019\") & (dataframe_pollution.Mois ==\"mars\") & (dataframe_pollution.Qualite == \"Bonne\")).count()\n",
    "print(\"Bonne : \" , dataframe_pollution_marsTM2019)\n",
    "dataframe_pollution_marsEM2019 = dataframe_pollution.filter((dataframe_pollution.Annee ==\"2019\") & (dataframe_pollution.Mois ==\"mars\") & (dataframe_pollution.Qualite == \"Extremement mauvaise\")).count()\n",
    "print(\"Extremement mauvaise : \",dataframe_pollution_marsEM2019)\n",
    "dataframe_pollution_marsMA2019 = dataframe_pollution.filter((dataframe_pollution.Annee ==\"2019\") & (dataframe_pollution.Mois ==\"mars\") & (dataframe_pollution.Qualite == \"Mauvaise\")).count()\n",
    "print(\"Mauvaise : \" , dataframe_pollution_marsMA2019)\n",
    "dataframe_pollution_marsMO2019 = dataframe_pollution.filter((dataframe_pollution.Annee ==\"2019\") & (dataframe_pollution.Mois ==\"mars\") & (dataframe_pollution.Qualite == \"Moyenne\")).count()\n",
    "print(\"Moyenne: \" , dataframe_pollution_marsMO2019)\n",
    "dataframe_pollution_marsD2019 = dataframe_pollution.filter((dataframe_pollution.Annee ==\"2019\") & (dataframe_pollution.Mois ==\"mars\") & (dataframe_pollution.Qualite == \"Degradee\")).count()\n",
    "print(\"Degradee : \" , dataframe_pollution_marsD2019)\n",
    "max(dataframe_pollution_marsTM2019 , dataframe_pollution_marsEM2019 , dataframe_pollution_marsMA2019 , dataframe_pollution_marsMO2019 ,  dataframe_pollution_marsD2019)"
   ]
  },
  {
   "cell_type": "code",
   "execution_count": 24,
   "id": "aa6ca8c3",
   "metadata": {},
   "outputs": [
    {
     "name": "stdout",
     "output_type": "stream",
     "text": [
      "Bonne :  1813\n",
      "Extremement mauvaise :  0\n",
      "Mauvaise :  893\n",
      "Moyenne:  1431\n",
      "Degradee :  0\n"
     ]
    },
    {
     "data": {
      "text/plain": [
       "1813"
      ]
     },
     "execution_count": 24,
     "metadata": {},
     "output_type": "execute_result"
    }
   ],
   "source": [
    "dataframe_pollution_AvrilTM2019 = dataframe_pollution.filter((dataframe_pollution.Annee ==\"2019\") & (dataframe_pollution.Mois ==\"Avril\") & (dataframe_pollution.Qualite == \"Bonne\")).count()\n",
    "print(\"Bonne : \" , dataframe_pollution_AvrilTM2019)\n",
    "dataframe_pollution_AvrilEM2019 = dataframe_pollution.filter((dataframe_pollution.Annee ==\"2019\") & (dataframe_pollution.Mois ==\"Avril\") & (dataframe_pollution.Qualite == \"Extremement mauvaise\")).count()\n",
    "print(\"Extremement mauvaise : \",dataframe_pollution_AvrilEM2019)\n",
    "dataframe_pollution_AvrilMA2019 = dataframe_pollution.filter((dataframe_pollution.Annee ==\"2019\") & (dataframe_pollution.Mois ==\"Avril\") & (dataframe_pollution.Qualite == \"Mauvaise\")).count()\n",
    "print(\"Mauvaise : \" , dataframe_pollution_AvrilMA2019)\n",
    "dataframe_pollution_AvrilMO2019 = dataframe_pollution.filter((dataframe_pollution.Annee ==\"2019\") & (dataframe_pollution.Mois ==\"Avril\") & (dataframe_pollution.Qualite == \"Moyenne\")).count()\n",
    "print(\"Moyenne: \" , dataframe_pollution_AvrilMO2019)\n",
    "dataframe_pollution_AvrilD2019 = dataframe_pollution.filter((dataframe_pollution.Annee ==\"2019\") & (dataframe_pollution.Mois ==\"Avril\") & (dataframe_pollution.Qualite == \"Degradee\")).count()\n",
    "print(\"Degradee : \" , dataframe_pollution_AvrilD2019)\n",
    "max(dataframe_pollution_AvrilTM2019 , dataframe_pollution_AvrilEM2019 , dataframe_pollution_AvrilMA2019 , dataframe_pollution_AvrilMO2019 ,  dataframe_pollution_AvrilD2019)"
   ]
  },
  {
   "cell_type": "code",
   "execution_count": 25,
   "id": "c90ddd4c",
   "metadata": {},
   "outputs": [
    {
     "name": "stdout",
     "output_type": "stream",
     "text": [
      "Bonne :  109\n",
      "Extremement mauvaise :  0\n",
      "Mauvaise :  1653\n",
      "Moyenne:  1789\n",
      "Degradee :  546\n"
     ]
    },
    {
     "data": {
      "text/plain": [
       "1789"
      ]
     },
     "execution_count": 25,
     "metadata": {},
     "output_type": "execute_result"
    }
   ],
   "source": [
    "dataframe_pollution_maiTM2019 = dataframe_pollution.filter((dataframe_pollution.Annee ==\"2019\") & (dataframe_pollution.Mois ==\"mai\") & (dataframe_pollution.Qualite == \"Bonne\")).count()\n",
    "print(\"Bonne : \" , dataframe_pollution_maiTM2019)\n",
    "dataframe_pollution_maiEM2019 = dataframe_pollution.filter((dataframe_pollution.Annee ==\"2019\") & (dataframe_pollution.Mois ==\"mai\") & (dataframe_pollution.Qualite == \"Extremement mauvaise\")).count()\n",
    "print(\"Extremement mauvaise : \",dataframe_pollution_maiEM2019)\n",
    "dataframe_pollution_maiMA2019 = dataframe_pollution.filter((dataframe_pollution.Annee ==\"2019\") & (dataframe_pollution.Mois ==\"mai\") & (dataframe_pollution.Qualite == \"Mauvaise\")).count()\n",
    "print(\"Mauvaise : \" , dataframe_pollution_maiMA2019)\n",
    "dataframe_pollution_maiMO2019 = dataframe_pollution.filter((dataframe_pollution.Annee ==\"2019\") & (dataframe_pollution.Mois ==\"mai\") & (dataframe_pollution.Qualite == \"Moyenne\")).count()\n",
    "print(\"Moyenne: \" , dataframe_pollution_maiMO2019)\n",
    "dataframe_pollution_maiD2019 = dataframe_pollution.filter((dataframe_pollution.Annee ==\"2019\") & (dataframe_pollution.Mois ==\"mai\") & (dataframe_pollution.Qualite == \"Degradee\")).count()\n",
    "print(\"Degradee : \" , dataframe_pollution_maiD2019)\n",
    "max(dataframe_pollution_maiTM2019 , dataframe_pollution_maiEM2019 , dataframe_pollution_maiMA2019 , dataframe_pollution_maiMO2019 ,  dataframe_pollution_maiD2019)"
   ]
  },
  {
   "cell_type": "code",
   "execution_count": 26,
   "id": "20bf10f5",
   "metadata": {},
   "outputs": [
    {
     "name": "stdout",
     "output_type": "stream",
     "text": [
      "Bonne:  0\n",
      "Extremement mauvaise :  0\n",
      "Mauvaise :  1115\n",
      "Moyenne:  1674\n",
      "Degradee :  1308\n"
     ]
    },
    {
     "data": {
      "text/plain": [
       "1674"
      ]
     },
     "execution_count": 26,
     "metadata": {},
     "output_type": "execute_result"
    }
   ],
   "source": [
    "\n",
    "dataframe_pollution_juinTM2019 = dataframe_pollution.filter((dataframe_pollution.Annee ==\"2019\") & (dataframe_pollution.Mois ==\"juin\") & (dataframe_pollution.Qualite == \"Bonne\")).count()\n",
    "print(\"Bonne: \" , dataframe_pollution_juinTM2019)\n",
    "dataframe_pollution_juinEM2019 = dataframe_pollution.filter((dataframe_pollution.Annee ==\"2019\") & (dataframe_pollution.Mois ==\"juin\") & (dataframe_pollution.Qualite == \"Extremement mauvaise\")).count()\n",
    "print(\"Extremement mauvaise : \",dataframe_pollution_juinEM2019)\n",
    "dataframe_pollution_juinMA2019 = dataframe_pollution.filter((dataframe_pollution.Annee ==\"2019\") & (dataframe_pollution.Mois ==\"juin\") & (dataframe_pollution.Qualite == \"Mauvaise\")).count()\n",
    "print(\"Mauvaise : \" , dataframe_pollution_juinMA2019)\n",
    "dataframe_pollution_juinMO2019 = dataframe_pollution.filter((dataframe_pollution.Annee ==\"2019\") & (dataframe_pollution.Mois ==\"juin\") & (dataframe_pollution.Qualite == \"Moyenne\")).count()\n",
    "print(\"Moyenne: \" , dataframe_pollution_juinMO2019)\n",
    "dataframe_pollution_juinD2019 = dataframe_pollution.filter((dataframe_pollution.Annee ==\"2019\") & (dataframe_pollution.Mois ==\"juin\") & (dataframe_pollution.Qualite == \"Degradee\")).count()\n",
    "print(\"Degradee : \" , dataframe_pollution_juinD2019)\n",
    "max(dataframe_pollution_juinTM2019 , dataframe_pollution_juinEM2019 , dataframe_pollution_juinMA2019 , dataframe_pollution_juinMO2019 ,  dataframe_pollution_juinD2019)\n"
   ]
  },
  {
   "cell_type": "code",
   "execution_count": 27,
   "id": "a3872b9e",
   "metadata": {},
   "outputs": [
    {
     "name": "stdout",
     "output_type": "stream",
     "text": [
      "Bonne :  0\n",
      "Extremement mauvaise :  2211\n",
      "Mauvaise :  904\n",
      "Moyenne:  0\n",
      "Degradee :  1037\n"
     ]
    },
    {
     "data": {
      "text/plain": [
       "2211"
      ]
     },
     "execution_count": 27,
     "metadata": {},
     "output_type": "execute_result"
    }
   ],
   "source": [
    "\n",
    "dataframe_pollution_juilletTM2019 = dataframe_pollution.filter((dataframe_pollution.Annee ==\"2019\") & (dataframe_pollution.Mois ==\"juillet\") & (dataframe_pollution.Qualite == \"Bonne\")).count()\n",
    "print(\"Bonne : \" , dataframe_pollution_juilletTM2019)\n",
    "dataframe_pollution_juilletEM2019 = dataframe_pollution.filter((dataframe_pollution.Annee ==\"2019\") & (dataframe_pollution.Mois ==\"juillet\") & (dataframe_pollution.Qualite == \"Extremement mauvaise\")).count()\n",
    "print(\"Extremement mauvaise : \",dataframe_pollution_juilletEM2019)\n",
    "dataframe_pollution_juilletMA2019 = dataframe_pollution.filter((dataframe_pollution.Annee ==\"2019\") & (dataframe_pollution.Mois ==\"juillet\") & (dataframe_pollution.Qualite == \"Mauvaise\")).count()\n",
    "print(\"Mauvaise : \" , dataframe_pollution_juilletMA2019)\n",
    "dataframe_pollution_juilletMO2019 = dataframe_pollution.filter((dataframe_pollution.Annee ==\"2019\") & (dataframe_pollution.Mois ==\"juillet\") & (dataframe_pollution.Qualite == \"Moyenne\")).count()\n",
    "print(\"Moyenne: \" , dataframe_pollution_juilletMO2019)\n",
    "dataframe_pollution_juilletD2019 = dataframe_pollution.filter((dataframe_pollution.Annee ==\"2019\") & (dataframe_pollution.Mois ==\"juillet\") & (dataframe_pollution.Qualite == \"Degradee\")).count()\n",
    "print(\"Degradee : \" , dataframe_pollution_juilletD2019)\n",
    "max(dataframe_pollution_juilletTM2019 , dataframe_pollution_juilletEM2019 , dataframe_pollution_juilletMA2019 , dataframe_pollution_juilletMO2019 ,  dataframe_pollution_juilletD2019)\n"
   ]
  },
  {
   "cell_type": "code",
   "execution_count": 28,
   "id": "ef5debeb",
   "metadata": {},
   "outputs": [
    {
     "name": "stdout",
     "output_type": "stream",
     "text": [
      "Bonne :  0\n",
      "Extremement mauvaise :  2515\n",
      "Mauvaise :  588\n",
      "Moyenne:  0\n",
      "Degradee :  992\n"
     ]
    },
    {
     "data": {
      "text/plain": [
       "2515"
      ]
     },
     "execution_count": 28,
     "metadata": {},
     "output_type": "execute_result"
    }
   ],
   "source": [
    "\n",
    "dataframe_pollution_aoutTM2019 = dataframe_pollution.filter((dataframe_pollution.Annee ==\"2019\") & (dataframe_pollution.Mois ==\"aout\") & (dataframe_pollution.Qualite == \"Bonne\")).count()\n",
    "print(\"Bonne : \" , dataframe_pollution_aoutTM2019)\n",
    "dataframe_pollution_aoutEM2019 = dataframe_pollution.filter((dataframe_pollution.Annee ==\"2019\") & (dataframe_pollution.Mois ==\"aout\") & (dataframe_pollution.Qualite == \"Extremement mauvaise\")).count()\n",
    "print(\"Extremement mauvaise : \",dataframe_pollution_aoutEM2019)\n",
    "dataframe_pollution_aoutMA2019 = dataframe_pollution.filter((dataframe_pollution.Annee ==\"2019\") & (dataframe_pollution.Mois ==\"aout\") & (dataframe_pollution.Qualite == \"Mauvaise\")).count()\n",
    "print(\"Mauvaise : \" , dataframe_pollution_aoutMA2019)\n",
    "dataframe_pollution_aoutMO2019 = dataframe_pollution.filter((dataframe_pollution.Annee ==\"2019\") & (dataframe_pollution.Mois ==\"aout\") & (dataframe_pollution.Qualite == \"Moyenne\")).count()\n",
    "print(\"Moyenne: \" , dataframe_pollution_aoutMO2019)\n",
    "dataframe_pollution_aoutD2019 = dataframe_pollution.filter((dataframe_pollution.Annee ==\"2019\") & (dataframe_pollution.Mois ==\"aout\") & (dataframe_pollution.Qualite == \"Degradee\")).count()\n",
    "print(\"Degradee : \" , dataframe_pollution_aoutD2019)\n",
    "max(dataframe_pollution_aoutTM2019 , dataframe_pollution_aoutEM2019 , dataframe_pollution_aoutMA2019 , dataframe_pollution_aoutMO2019 ,  dataframe_pollution_aoutD2019)\n"
   ]
  },
  {
   "cell_type": "code",
   "execution_count": 29,
   "id": "002d4cc6",
   "metadata": {},
   "outputs": [
    {
     "name": "stdout",
     "output_type": "stream",
     "text": [
      "Bonne :  191\n",
      "Extremement mauvaise :  0\n",
      "Mauvaise :  444\n",
      "Moyenne:  915\n",
      "Degradee :  1138\n"
     ]
    },
    {
     "data": {
      "text/plain": [
       "1138"
      ]
     },
     "execution_count": 29,
     "metadata": {},
     "output_type": "execute_result"
    }
   ],
   "source": [
    "\n",
    "dataframe_pollution_septembreTM2019 = dataframe_pollution.filter((dataframe_pollution.Annee ==\"2019\") & (dataframe_pollution.Mois ==\"septembre\") & (dataframe_pollution.Qualite == \"Bonne\")).count()\n",
    "print(\"Bonne : \" , dataframe_pollution_septembreTM2019)\n",
    "dataframe_pollution_septembreEM2019 = dataframe_pollution.filter((dataframe_pollution.Annee ==\"2019\") & (dataframe_pollution.Mois ==\"septembre\") & (dataframe_pollution.Qualite == \"Extremement mauvaise\")).count()\n",
    "print(\"Extremement mauvaise : \",dataframe_pollution_septembreEM2019)\n",
    "dataframe_pollution_septembreMA2019 = dataframe_pollution.filter((dataframe_pollution.Annee ==\"2019\") & (dataframe_pollution.Mois ==\"septembre\") & (dataframe_pollution.Qualite == \"Mauvaise\")).count()\n",
    "print(\"Mauvaise : \" , dataframe_pollution_septembreMA2019)\n",
    "dataframe_pollution_septembreMO2019 = dataframe_pollution.filter((dataframe_pollution.Annee ==\"2019\") & (dataframe_pollution.Mois ==\"septembre\") & (dataframe_pollution.Qualite == \"Moyenne\")).count()\n",
    "print(\"Moyenne: \" , dataframe_pollution_septembreMO2019)\n",
    "dataframe_pollution_septembreD2019 = dataframe_pollution.filter((dataframe_pollution.Annee ==\"2019\") & (dataframe_pollution.Mois ==\"septembre\") & (dataframe_pollution.Qualite == \"Degradee\")).count()\n",
    "print(\"Degradee : \" , dataframe_pollution_septembreD2019)\n",
    "max(dataframe_pollution_septembreTM2019 , dataframe_pollution_septembreEM2019 , dataframe_pollution_septembreMA2019 , dataframe_pollution_septembreMO2019 ,  dataframe_pollution_septembreD2019)\n"
   ]
  },
  {
   "cell_type": "code",
   "execution_count": 30,
   "id": "c556ab99",
   "metadata": {},
   "outputs": [
    {
     "name": "stdout",
     "output_type": "stream",
     "text": [
      "Bonne :  529\n",
      "Extremement mauvaise :  0\n",
      "Mauvaise :  982\n",
      "Moyenne:  1325\n",
      "Degradee :  1313\n"
     ]
    },
    {
     "data": {
      "text/plain": [
       "1325"
      ]
     },
     "execution_count": 30,
     "metadata": {},
     "output_type": "execute_result"
    }
   ],
   "source": [
    "\n",
    "dataframe_pollution_octobreTM2019 = dataframe_pollution.filter((dataframe_pollution.Annee ==\"2019\") & (dataframe_pollution.Mois ==\"octobre\") & (dataframe_pollution.Qualite == \"Bonne\")).count()\n",
    "print(\"Bonne : \" , dataframe_pollution_octobreTM2019)\n",
    "dataframe_pollution_octobreEM2019 = dataframe_pollution.filter((dataframe_pollution.Annee ==\"2019\") & (dataframe_pollution.Mois ==\"octobre\") & (dataframe_pollution.Qualite == \"Extremement mauvaise\")).count()\n",
    "print(\"Extremement mauvaise : \",dataframe_pollution_octobreEM2019)\n",
    "dataframe_pollution_octobreMA2019 = dataframe_pollution.filter((dataframe_pollution.Annee ==\"2019\") & (dataframe_pollution.Mois ==\"octobre\") & (dataframe_pollution.Qualite == \"Mauvaise\")).count()\n",
    "print(\"Mauvaise : \" , dataframe_pollution_octobreMA2019)\n",
    "dataframe_pollution_octobreMO2019 = dataframe_pollution.filter((dataframe_pollution.Annee ==\"2019\") & (dataframe_pollution.Mois ==\"octobre\") & (dataframe_pollution.Qualite == \"Moyenne\")).count()\n",
    "print(\"Moyenne: \" , dataframe_pollution_octobreMO2019)\n",
    "dataframe_pollution_octobreD2019 = dataframe_pollution.filter((dataframe_pollution.Annee ==\"2019\") & (dataframe_pollution.Mois ==\"octobre\") & (dataframe_pollution.Qualite == \"Degradee\")).count()\n",
    "print(\"Degradee : \" , dataframe_pollution_octobreD2019)\n",
    "max(dataframe_pollution_octobreTM2019 , dataframe_pollution_octobreEM2019 , dataframe_pollution_octobreMA2019 , dataframe_pollution_octobreMO2019 ,  dataframe_pollution_octobreD2019)\n"
   ]
  },
  {
   "cell_type": "code",
   "execution_count": 31,
   "id": "97998b0e",
   "metadata": {},
   "outputs": [
    {
     "name": "stdout",
     "output_type": "stream",
     "text": [
      "Bonne :  162\n",
      "Extremement mauvaise :  584\n",
      "Mauvaise :  666\n",
      "Moyenne:  0\n",
      "Degradee :  1276\n"
     ]
    },
    {
     "data": {
      "text/plain": [
       "1276"
      ]
     },
     "execution_count": 31,
     "metadata": {},
     "output_type": "execute_result"
    }
   ],
   "source": [
    "\n",
    "dataframe_pollution_novembreTM2019 = dataframe_pollution.filter((dataframe_pollution.Annee ==\"2019\") & (dataframe_pollution.Mois ==\"novembre\") & (dataframe_pollution.Qualite == \"Bonne\")).count()\n",
    "print(\"Bonne : \" , dataframe_pollution_novembreTM2019)\n",
    "dataframe_pollution_novembreEM2019 = dataframe_pollution.filter((dataframe_pollution.Annee ==\"2019\") & (dataframe_pollution.Mois ==\"novembre\") & (dataframe_pollution.Qualite == \"Extremement mauvaise\")).count()\n",
    "print(\"Extremement mauvaise : \",dataframe_pollution_novembreEM2019)\n",
    "dataframe_pollution_novembreMA2019 = dataframe_pollution.filter((dataframe_pollution.Annee ==\"2019\") & (dataframe_pollution.Mois ==\"novembre\") & (dataframe_pollution.Qualite == \"Mauvaise\")).count()\n",
    "print(\"Mauvaise : \" , dataframe_pollution_novembreMA2019)\n",
    "dataframe_pollution_novembreMO2019 = dataframe_pollution.filter((dataframe_pollution.Annee ==\"2019\") & (dataframe_pollution.Mois ==\"novembre\") & (dataframe_pollution.Qualite == \"Moyenne\")).count()\n",
    "print(\"Moyenne: \" , dataframe_pollution_novembreMO2019)\n",
    "dataframe_pollution_novembreD2019 = dataframe_pollution.filter((dataframe_pollution.Annee ==\"2019\") & (dataframe_pollution.Mois ==\"novembre\") & (dataframe_pollution.Qualite == \"Degradee\")).count()\n",
    "print(\"Degradee : \" , dataframe_pollution_novembreD2019)\n",
    "max(dataframe_pollution_novembreTM2019 , dataframe_pollution_novembreEM2019 , dataframe_pollution_novembreMA2019 , dataframe_pollution_novembreMO2019 ,  dataframe_pollution_novembreD2019)\n"
   ]
  },
  {
   "cell_type": "code",
   "execution_count": 32,
   "id": "0bff5663",
   "metadata": {},
   "outputs": [
    {
     "name": "stdout",
     "output_type": "stream",
     "text": [
      "Bonne :  0\n",
      "Extremement mauvaise :  1486\n",
      "Mauvaise :  34\n",
      "Moyenne:  540\n",
      "Degradee :  628\n"
     ]
    },
    {
     "data": {
      "text/plain": [
       "1486"
      ]
     },
     "execution_count": 32,
     "metadata": {},
     "output_type": "execute_result"
    }
   ],
   "source": [
    "\n",
    "dataframe_pollution_decembreTM2019 = dataframe_pollution.filter((dataframe_pollution.Annee ==\"2019\") & (dataframe_pollution.Mois ==\"decembre\") & (dataframe_pollution.Qualite == \"Bonne\")).count()\n",
    "print(\"Bonne : \" , dataframe_pollution_decembreTM2019)\n",
    "dataframe_pollution_decembreEM2019 = dataframe_pollution.filter((dataframe_pollution.Annee ==\"2019\") & (dataframe_pollution.Mois ==\"decembre\") & (dataframe_pollution.Qualite == \"Extremement mauvaise\")).count()\n",
    "print(\"Extremement mauvaise : \",dataframe_pollution_decembreEM2019)\n",
    "dataframe_pollution_decembreMA2019 = dataframe_pollution.filter((dataframe_pollution.Annee ==\"2019\") & (dataframe_pollution.Mois ==\"decembre\") & (dataframe_pollution.Qualite == \"Mauvaise\")).count()\n",
    "print(\"Mauvaise : \" , dataframe_pollution_decembreMA2019)\n",
    "dataframe_pollution_decembreMO2019 = dataframe_pollution.filter((dataframe_pollution.Annee ==\"2019\") & (dataframe_pollution.Mois ==\"decembre\") & (dataframe_pollution.Qualite == \"Moyenne\")).count()\n",
    "print(\"Moyenne: \" , dataframe_pollution_decembreMO2019)\n",
    "dataframe_pollution_decembreD2019 = dataframe_pollution.filter((dataframe_pollution.Annee ==\"2019\") & (dataframe_pollution.Mois ==\"decembre\") & (dataframe_pollution.Qualite == \"Degradee\")).count()\n",
    "print(\"Degradee : \" , dataframe_pollution_decembreD2019)\n",
    "max(dataframe_pollution_decembreTM2019 , dataframe_pollution_decembreEM2019 , dataframe_pollution_decembreMA2019 , dataframe_pollution_decembreMO2019 ,  dataframe_pollution_decembreD2019)\n"
   ]
  },
  {
   "cell_type": "code",
   "execution_count": 33,
   "id": "22ef31b6",
   "metadata": {},
   "outputs": [
    {
     "name": "stdout",
     "output_type": "stream",
     "text": [
      "Bonne :  55\n",
      "Extremement mauvaise :  1699\n",
      "Mauvaise :  169\n",
      "Moyenne:  464\n",
      "Degradee :  1733\n"
     ]
    },
    {
     "data": {
      "text/plain": [
       "1733"
      ]
     },
     "execution_count": 33,
     "metadata": {},
     "output_type": "execute_result"
    }
   ],
   "source": [
    "\n",
    "dataframe_pollution_janvierTM2020 = dataframe_pollution.filter((dataframe_pollution.Annee ==\"2020\") & (dataframe_pollution.Mois ==\"Janvier\") & (dataframe_pollution.Qualite == \"Bonne\")).count()\n",
    "print(\"Bonne : \" , dataframe_pollution_janvierTM2020)\n",
    "dataframe_pollution_janvierEM2020 = dataframe_pollution.filter((dataframe_pollution.Annee ==\"2020\") & (dataframe_pollution.Mois ==\"Janvier\") & (dataframe_pollution.Qualite == \"Extremement mauvaise\")).count()\n",
    "print(\"Extremement mauvaise : \",dataframe_pollution_janvierEM2020)\n",
    "dataframe_pollution_janvierMA2020 = dataframe_pollution.filter((dataframe_pollution.Annee ==\"2020\") & (dataframe_pollution.Mois ==\"Janvier\") & (dataframe_pollution.Qualite == \"Mauvaise\")).count()\n",
    "print(\"Mauvaise : \" , dataframe_pollution_janvierMA2020)\n",
    "dataframe_pollution_janvierMO2020 = dataframe_pollution.filter((dataframe_pollution.Annee ==\"2020\") & (dataframe_pollution.Mois ==\"Janvier\") & (dataframe_pollution.Qualite == \"Moyenne\")).count()\n",
    "print(\"Moyenne: \" , dataframe_pollution_janvierMO2020)\n",
    "dataframe_pollution_janvierD2020 = dataframe_pollution.filter((dataframe_pollution.Annee ==\"2020\") & (dataframe_pollution.Mois ==\"Janvier\") & (dataframe_pollution.Qualite == \"Degradee\")).count()\n",
    "print(\"Degradee : \" , dataframe_pollution_janvierD2020)\n",
    "max(dataframe_pollution_janvierTM2020 , dataframe_pollution_janvierEM2020 , dataframe_pollution_janvierMA2020 , dataframe_pollution_janvierMO2020 ,  dataframe_pollution_janvierD2020)\n"
   ]
  },
  {
   "cell_type": "code",
   "execution_count": 34,
   "id": "7e82ed62",
   "metadata": {},
   "outputs": [
    {
     "name": "stdout",
     "output_type": "stream",
     "text": [
      "Bonne :  990\n",
      "Extremement mauvaise :  0\n",
      "Mauvaise :  1051\n",
      "Moyenne:  2069\n",
      "Degradee :  0\n"
     ]
    },
    {
     "data": {
      "text/plain": [
       "2069"
      ]
     },
     "execution_count": 34,
     "metadata": {},
     "output_type": "execute_result"
    }
   ],
   "source": [
    "\n",
    "dataframe_pollution_fevrierTM2020 = dataframe_pollution.filter((dataframe_pollution.Annee ==\"2020\") & (dataframe_pollution.Mois ==\"fevrier\") & (dataframe_pollution.Qualite == \"Bonne\")).count()\n",
    "print(\"Bonne : \" , dataframe_pollution_fevrierTM2020)\n",
    "dataframe_pollution_fevrierEM2020 = dataframe_pollution.filter((dataframe_pollution.Annee ==\"2020\") & (dataframe_pollution.Mois ==\"fevrier\") & (dataframe_pollution.Qualite == \"Extremement mauvaise\")).count()\n",
    "print(\"Extremement mauvaise : \",dataframe_pollution_fevrierEM2020)\n",
    "dataframe_pollution_fevrierMA2020 = dataframe_pollution.filter((dataframe_pollution.Annee ==\"2020\") & (dataframe_pollution.Mois ==\"fevrier\") & (dataframe_pollution.Qualite == \"Mauvaise\")).count()\n",
    "print(\"Mauvaise : \" , dataframe_pollution_fevrierMA2020)\n",
    "dataframe_pollution_fevrierMO2020 = dataframe_pollution.filter((dataframe_pollution.Annee ==\"2020\") & (dataframe_pollution.Mois ==\"fevrier\") & (dataframe_pollution.Qualite == \"Moyenne\")).count()\n",
    "print(\"Moyenne: \" , dataframe_pollution_fevrierMO2020)\n",
    "dataframe_pollution_fevrierD2020 = dataframe_pollution.filter((dataframe_pollution.Annee ==\"2020\") & (dataframe_pollution.Mois ==\"fevrier\") & (dataframe_pollution.Qualite == \"Degradee\")).count()\n",
    "print(\"Degradee : \" , dataframe_pollution_fevrierD2020)\n",
    "max(dataframe_pollution_fevrierTM2020 , dataframe_pollution_fevrierEM2020 , dataframe_pollution_fevrierMA2020 , dataframe_pollution_fevrierMO2020 ,  dataframe_pollution_fevrierD2020)\n"
   ]
  },
  {
   "cell_type": "code",
   "execution_count": 35,
   "id": "168b8829",
   "metadata": {},
   "outputs": [
    {
     "name": "stdout",
     "output_type": "stream",
     "text": [
      "Bonne :  2780\n",
      "Extremement mauvaise :  0\n",
      "Mauvaise :  508\n",
      "Moyenne:  406\n",
      "Degradee :  411\n"
     ]
    },
    {
     "data": {
      "text/plain": [
       "2780"
      ]
     },
     "execution_count": 35,
     "metadata": {},
     "output_type": "execute_result"
    }
   ],
   "source": [
    "\n",
    "dataframe_pollution_marsTM2020 = dataframe_pollution.filter((dataframe_pollution.Annee ==\"2020\") & (dataframe_pollution.Mois ==\"mars\") & (dataframe_pollution.Qualite == \"Bonne\")).count()\n",
    "print(\"Bonne : \" , dataframe_pollution_marsTM2020)\n",
    "dataframe_pollution_marsEM2020 = dataframe_pollution.filter((dataframe_pollution.Annee ==\"2020\") & (dataframe_pollution.Mois ==\"mars\") & (dataframe_pollution.Qualite == \"Extremement mauvaise\")).count()\n",
    "print(\"Extremement mauvaise : \",dataframe_pollution_marsEM2020)\n",
    "dataframe_pollution_marsMA2020 = dataframe_pollution.filter((dataframe_pollution.Annee ==\"2020\") & (dataframe_pollution.Mois ==\"mars\") & (dataframe_pollution.Qualite == \"Mauvaise\")).count()\n",
    "print(\"Mauvaise : \" , dataframe_pollution_marsMA2020)\n",
    "dataframe_pollution_marsMO2020 = dataframe_pollution.filter((dataframe_pollution.Annee ==\"2020\") & (dataframe_pollution.Mois ==\"mars\") & (dataframe_pollution.Qualite == \"Moyenne\")).count()\n",
    "print(\"Moyenne: \" , dataframe_pollution_marsMO2020)\n",
    "dataframe_pollution_marsD2020 = dataframe_pollution.filter((dataframe_pollution.Annee ==\"2020\") & (dataframe_pollution.Mois ==\"mars\") & (dataframe_pollution.Qualite == \"Degradee\")).count()\n",
    "print(\"Degradee : \" , dataframe_pollution_marsD2020)\n",
    "max(dataframe_pollution_marsTM2020 , dataframe_pollution_marsEM2020 , dataframe_pollution_marsMA2020 , dataframe_pollution_marsMO2020 ,  dataframe_pollution_marsD2020)\n"
   ]
  },
  {
   "cell_type": "code",
   "execution_count": 36,
   "id": "e616a01a",
   "metadata": {},
   "outputs": [
    {
     "name": "stdout",
     "output_type": "stream",
     "text": [
      "Bonne :  2142\n",
      "Extremement mauvaise :  0\n",
      "Mauvaise :  627\n",
      "Moyenne:  1353\n",
      "Degradee :  0\n"
     ]
    },
    {
     "data": {
      "text/plain": [
       "2142"
      ]
     },
     "execution_count": 36,
     "metadata": {},
     "output_type": "execute_result"
    }
   ],
   "source": [
    "\n",
    "dataframe_pollution_AvrilTM2020 = dataframe_pollution.filter((dataframe_pollution.Annee ==\"2020\") & (dataframe_pollution.Mois ==\"Avril\") & (dataframe_pollution.Qualite == \"Bonne\")).count()\n",
    "print(\"Bonne : \" , dataframe_pollution_AvrilTM2020)\n",
    "dataframe_pollution_AvrilEM2020 = dataframe_pollution.filter((dataframe_pollution.Annee ==\"2020\") & (dataframe_pollution.Mois ==\"Avril\") & (dataframe_pollution.Qualite == \"Extremement mauvaise\")).count()\n",
    "print(\"Extremement mauvaise : \",dataframe_pollution_AvrilEM2020)\n",
    "dataframe_pollution_AvrilMA2020 = dataframe_pollution.filter((dataframe_pollution.Annee ==\"2020\") & (dataframe_pollution.Mois ==\"Avril\") & (dataframe_pollution.Qualite == \"Mauvaise\")).count()\n",
    "print(\"Mauvaise : \" , dataframe_pollution_AvrilMA2020)\n",
    "dataframe_pollution_AvrilMO2020 = dataframe_pollution.filter((dataframe_pollution.Annee ==\"2020\") & (dataframe_pollution.Mois ==\"Avril\") & (dataframe_pollution.Qualite == \"Moyenne\")).count()\n",
    "print(\"Moyenne: \" , dataframe_pollution_AvrilMO2020)\n",
    "dataframe_pollution_AvrilD2020 = dataframe_pollution.filter((dataframe_pollution.Annee ==\"2020\") & (dataframe_pollution.Mois ==\"Avril\") & (dataframe_pollution.Qualite == \"Degradee\")).count()\n",
    "print(\"Degradee : \" , dataframe_pollution_AvrilD2020)\n",
    "max(dataframe_pollution_AvrilTM2020 , dataframe_pollution_AvrilEM2020 , dataframe_pollution_AvrilMA2020 , dataframe_pollution_AvrilMO2020 ,  dataframe_pollution_AvrilD2020)\n"
   ]
  },
  {
   "cell_type": "code",
   "execution_count": 37,
   "id": "c8048c78",
   "metadata": {},
   "outputs": [
    {
     "name": "stdout",
     "output_type": "stream",
     "text": [
      "Bonne :  1744\n",
      "Extremement mauvaise :  491\n",
      "Mauvaise :  269\n",
      "Moyenne:  1257\n",
      "Degradee :  330\n"
     ]
    },
    {
     "data": {
      "text/plain": [
       "1744"
      ]
     },
     "execution_count": 37,
     "metadata": {},
     "output_type": "execute_result"
    }
   ],
   "source": [
    "\n",
    "dataframe_pollution_maiTM2020 = dataframe_pollution.filter((dataframe_pollution.Annee ==\"2020\") & (dataframe_pollution.Mois ==\"mai\") & (dataframe_pollution.Qualite == \"Bonne\")).count()\n",
    "print(\"Bonne : \" , dataframe_pollution_maiTM2020)\n",
    "dataframe_pollution_maiEM2020 = dataframe_pollution.filter((dataframe_pollution.Annee ==\"2020\") & (dataframe_pollution.Mois ==\"mai\") & (dataframe_pollution.Qualite == \"Extremement mauvaise\")).count()\n",
    "print(\"Extremement mauvaise : \",dataframe_pollution_maiEM2020)\n",
    "dataframe_pollution_maiMA2020 = dataframe_pollution.filter((dataframe_pollution.Annee ==\"2020\") & (dataframe_pollution.Mois ==\"mai\") & (dataframe_pollution.Qualite == \"Mauvaise\")).count()\n",
    "print(\"Mauvaise : \" , dataframe_pollution_maiMA2020)\n",
    "dataframe_pollution_maiMO2020 = dataframe_pollution.filter((dataframe_pollution.Annee ==\"2020\") & (dataframe_pollution.Mois ==\"mai\") & (dataframe_pollution.Qualite == \"Moyenne\")).count()\n",
    "print(\"Moyenne: \" , dataframe_pollution_maiMO2020)\n",
    "dataframe_pollution_maiD2020 = dataframe_pollution.filter((dataframe_pollution.Annee ==\"2020\") & (dataframe_pollution.Mois ==\"mai\") & (dataframe_pollution.Qualite == \"Degradee\")).count()\n",
    "print(\"Degradee : \" , dataframe_pollution_maiD2020)\n",
    "max(dataframe_pollution_maiTM2020 , dataframe_pollution_maiEM2020 , dataframe_pollution_maiMA2020 , dataframe_pollution_maiMO2020 ,  dataframe_pollution_maiD2020)\n"
   ]
  },
  {
   "cell_type": "code",
   "execution_count": 38,
   "id": "e07f3ce0",
   "metadata": {},
   "outputs": [
    {
     "name": "stdout",
     "output_type": "stream",
     "text": [
      "Bonne :  0\n",
      "Extremement mauvaise :  0\n",
      "Mauvaise :  1019\n",
      "Moyenne:  1698\n",
      "Degradee :  1374\n"
     ]
    },
    {
     "data": {
      "text/plain": [
       "1698"
      ]
     },
     "execution_count": 38,
     "metadata": {},
     "output_type": "execute_result"
    }
   ],
   "source": [
    "\n",
    "dataframe_pollution_juinTM2020 = dataframe_pollution.filter((dataframe_pollution.Annee ==\"2020\") & (dataframe_pollution.Mois ==\"juin\") & (dataframe_pollution.Qualite == \"Bonne\")).count()\n",
    "print(\"Bonne : \" , dataframe_pollution_juinTM2020)\n",
    "dataframe_pollution_juinEM2020 = dataframe_pollution.filter((dataframe_pollution.Annee ==\"2020\") & (dataframe_pollution.Mois ==\"juin\") & (dataframe_pollution.Qualite == \"Extremement mauvaise\")).count()\n",
    "print(\"Extremement mauvaise : \",dataframe_pollution_juinEM2020)\n",
    "dataframe_pollution_juinMA2020 = dataframe_pollution.filter((dataframe_pollution.Annee ==\"2020\") & (dataframe_pollution.Mois ==\"juin\") & (dataframe_pollution.Qualite == \"Mauvaise\")).count()\n",
    "print(\"Mauvaise : \" , dataframe_pollution_juinMA2020)\n",
    "dataframe_pollution_juinMO2020 = dataframe_pollution.filter((dataframe_pollution.Annee ==\"2020\") & (dataframe_pollution.Mois ==\"juin\") & (dataframe_pollution.Qualite == \"Moyenne\")).count()\n",
    "print(\"Moyenne: \" , dataframe_pollution_juinMO2020)\n",
    "dataframe_pollution_juinD2020 = dataframe_pollution.filter((dataframe_pollution.Annee ==\"2020\") & (dataframe_pollution.Mois ==\"juin\") & (dataframe_pollution.Qualite == \"Degradee\")).count()\n",
    "print(\"Degradee : \" , dataframe_pollution_juinD2020)\n",
    "max(dataframe_pollution_juinTM2020 , dataframe_pollution_juinEM2020 , dataframe_pollution_juinMA2020 , dataframe_pollution_juinMO2020 ,  dataframe_pollution_juinD2020)\n"
   ]
  },
  {
   "cell_type": "code",
   "execution_count": 39,
   "id": "cdefeea9",
   "metadata": {},
   "outputs": [
    {
     "name": "stdout",
     "output_type": "stream",
     "text": [
      "Bonne :  15\n",
      "Extremement mauvaise :  2384\n",
      "Mauvaise :  831\n",
      "Moyenne:  0\n",
      "Degradee :  897\n"
     ]
    },
    {
     "data": {
      "text/plain": [
       "2384"
      ]
     },
     "execution_count": 39,
     "metadata": {},
     "output_type": "execute_result"
    }
   ],
   "source": [
    "\n",
    "dataframe_pollution_juilletTM2020 = dataframe_pollution.filter((dataframe_pollution.Annee ==\"2020\") & (dataframe_pollution.Mois ==\"juillet\") & (dataframe_pollution.Qualite == \"Bonne\")).count()\n",
    "print(\"Bonne : \" , dataframe_pollution_juilletTM2020)\n",
    "dataframe_pollution_juilletEM2020 = dataframe_pollution.filter((dataframe_pollution.Annee ==\"2020\") & (dataframe_pollution.Mois ==\"juillet\") & (dataframe_pollution.Qualite == \"Extremement mauvaise\")).count()\n",
    "print(\"Extremement mauvaise : \",dataframe_pollution_juilletEM2020)\n",
    "dataframe_pollution_juilletMA2020 = dataframe_pollution.filter((dataframe_pollution.Annee ==\"2020\") & (dataframe_pollution.Mois ==\"juillet\") & (dataframe_pollution.Qualite == \"Mauvaise\")).count()\n",
    "print(\"Mauvaise : \" , dataframe_pollution_juilletMA2020)\n",
    "dataframe_pollution_juilletMO2020 = dataframe_pollution.filter((dataframe_pollution.Annee ==\"2020\") & (dataframe_pollution.Mois ==\"juillet\") & (dataframe_pollution.Qualite == \"Moyenne\")).count()\n",
    "print(\"Moyenne: \" , dataframe_pollution_juilletMO2020)\n",
    "dataframe_pollution_juilletD2020 = dataframe_pollution.filter((dataframe_pollution.Annee ==\"2020\") & (dataframe_pollution.Mois ==\"juillet\") & (dataframe_pollution.Qualite == \"Degradee\")).count()\n",
    "print(\"Degradee : \" , dataframe_pollution_juilletD2020)\n",
    "max(dataframe_pollution_juilletTM2020 , dataframe_pollution_juilletEM2020 , dataframe_pollution_juilletMA2020 , dataframe_pollution_juilletMO2020 ,  dataframe_pollution_juilletD2020)\n"
   ]
  },
  {
   "cell_type": "code",
   "execution_count": 40,
   "id": "a28e2e13",
   "metadata": {},
   "outputs": [
    {
     "name": "stdout",
     "output_type": "stream",
     "text": [
      "Bonne :  1013\n",
      "Extremement mauvaise :  0\n",
      "Mauvaise :  888\n",
      "Moyenne:  1165\n",
      "Degradee :  1008\n"
     ]
    },
    {
     "data": {
      "text/plain": [
       "1165"
      ]
     },
     "execution_count": 40,
     "metadata": {},
     "output_type": "execute_result"
    }
   ],
   "source": [
    "\n",
    "dataframe_pollution_aoutTM2020 = dataframe_pollution.filter((dataframe_pollution.Annee ==\"2020\") & (dataframe_pollution.Mois ==\"aout\") & (dataframe_pollution.Qualite == \"Bonne\")).count()\n",
    "print(\"Bonne : \" , dataframe_pollution_aoutTM2020)\n",
    "dataframe_pollution_aoutEM2020 = dataframe_pollution.filter((dataframe_pollution.Annee ==\"2020\") & (dataframe_pollution.Mois ==\"aout\") & (dataframe_pollution.Qualite == \"Extremement mauvaise\")).count()\n",
    "print(\"Extremement mauvaise : \",dataframe_pollution_aoutEM2020)\n",
    "dataframe_pollution_aoutMA2020 = dataframe_pollution.filter((dataframe_pollution.Annee ==\"2020\") & (dataframe_pollution.Mois ==\"aout\") & (dataframe_pollution.Qualite == \"Mauvaise\")).count()\n",
    "print(\"Mauvaise : \" , dataframe_pollution_aoutMA2020)\n",
    "dataframe_pollution_aoutMO2020 = dataframe_pollution.filter((dataframe_pollution.Annee ==\"2020\") & (dataframe_pollution.Mois ==\"aout\") & (dataframe_pollution.Qualite == \"Moyenne\")).count()\n",
    "print(\"Moyenne: \" , dataframe_pollution_aoutMO2020)\n",
    "dataframe_pollution_aoutD2020 = dataframe_pollution.filter((dataframe_pollution.Annee ==\"2020\") & (dataframe_pollution.Mois ==\"aout\") & (dataframe_pollution.Qualite == \"Degradee\")).count()\n",
    "print(\"Degradee : \" , dataframe_pollution_aoutD2020)\n",
    "max(dataframe_pollution_aoutTM2020 , dataframe_pollution_aoutEM2020 , dataframe_pollution_aoutMA2020 , dataframe_pollution_aoutMO2020 ,  dataframe_pollution_aoutD2020)\n"
   ]
  },
  {
   "cell_type": "code",
   "execution_count": 41,
   "id": "cbc66f45",
   "metadata": {},
   "outputs": [
    {
     "name": "stdout",
     "output_type": "stream",
     "text": [
      "Bonne :  194\n",
      "Extremement mauvaise :  0\n",
      "Mauvaise :  656\n",
      "Moyenne:  1875\n",
      "Degradee :  0\n"
     ]
    },
    {
     "data": {
      "text/plain": [
       "1875"
      ]
     },
     "execution_count": 41,
     "metadata": {},
     "output_type": "execute_result"
    }
   ],
   "source": [
    "\n",
    "dataframe_pollution_septembreTM2020 = dataframe_pollution.filter((dataframe_pollution.Annee ==\"2020\") & (dataframe_pollution.Mois ==\"septembre\") & (dataframe_pollution.Qualite == \"Bonne\")).count()\n",
    "print(\"Bonne : \" , dataframe_pollution_septembreTM2020)\n",
    "dataframe_pollution_septembreEM2020 = dataframe_pollution.filter((dataframe_pollution.Annee ==\"2020\") & (dataframe_pollution.Mois ==\"septembre\") & (dataframe_pollution.Qualite == \"Extremement mauvaise\")).count()\n",
    "print(\"Extremement mauvaise : \",dataframe_pollution_septembreEM2020)\n",
    "dataframe_pollution_septembreMA2020 = dataframe_pollution.filter((dataframe_pollution.Annee ==\"2020\") & (dataframe_pollution.Mois ==\"septembre\") & (dataframe_pollution.Qualite == \"Mauvaise\")).count()\n",
    "print(\"Mauvaise : \" , dataframe_pollution_septembreMA2020)\n",
    "dataframe_pollution_septembreMO2020 = dataframe_pollution.filter((dataframe_pollution.Annee ==\"2020\") & (dataframe_pollution.Mois ==\"septembre\") & (dataframe_pollution.Qualite == \"Moyenne\")).count()\n",
    "print(\"Moyenne: \" , dataframe_pollution_septembreMO2020)\n",
    "dataframe_pollution_septembreD2020 = dataframe_pollution.filter((dataframe_pollution.Annee ==\"2020\") & (dataframe_pollution.Mois ==\"septembre\") & (dataframe_pollution.Qualite == \"Degradee\")).count()\n",
    "print(\"Degradee : \" , dataframe_pollution_septembreD2020)\n",
    "max(dataframe_pollution_septembreTM2020 , dataframe_pollution_septembreEM2020 , dataframe_pollution_septembreMA2020 , dataframe_pollution_septembreMO2020 ,  dataframe_pollution_septembreD2020)\n"
   ]
  },
  {
   "cell_type": "code",
   "execution_count": 42,
   "id": "e3bb0b6a",
   "metadata": {},
   "outputs": [
    {
     "name": "stdout",
     "output_type": "stream",
     "text": [
      "Bonne :  417\n",
      "Extremement mauvaise :  0\n",
      "Mauvaise :  539\n",
      "Moyenne:  3166\n",
      "Degradee :  0\n"
     ]
    },
    {
     "data": {
      "text/plain": [
       "3166"
      ]
     },
     "execution_count": 42,
     "metadata": {},
     "output_type": "execute_result"
    }
   ],
   "source": [
    "\n",
    "dataframe_pollution_octobreTM2020 = dataframe_pollution.filter((dataframe_pollution.Annee ==\"2020\") & (dataframe_pollution.Mois ==\"octobre\") & (dataframe_pollution.Qualite == \"Bonne\")).count()\n",
    "print(\"Bonne : \" , dataframe_pollution_octobreTM2020)\n",
    "dataframe_pollution_octobreEM2020 = dataframe_pollution.filter((dataframe_pollution.Annee ==\"2020\") & (dataframe_pollution.Mois ==\"octobre\") & (dataframe_pollution.Qualite == \"Extremement mauvaise\")).count()\n",
    "print(\"Extremement mauvaise : \",dataframe_pollution_octobreEM2020)\n",
    "dataframe_pollution_octobreMA2020 = dataframe_pollution.filter((dataframe_pollution.Annee ==\"2020\") & (dataframe_pollution.Mois ==\"octobre\") & (dataframe_pollution.Qualite == \"Mauvaise\")).count()\n",
    "print(\"Mauvaise : \" , dataframe_pollution_octobreMA2020)\n",
    "dataframe_pollution_octobreMO2020 = dataframe_pollution.filter((dataframe_pollution.Annee ==\"2020\") & (dataframe_pollution.Mois ==\"octobre\") & (dataframe_pollution.Qualite == \"Moyenne\")).count()\n",
    "print(\"Moyenne: \" , dataframe_pollution_octobreMO2020)\n",
    "dataframe_pollution_octobreD2020 = dataframe_pollution.filter((dataframe_pollution.Annee ==\"2020\") & (dataframe_pollution.Mois ==\"octobre\") & (dataframe_pollution.Qualite == \"Degradee\")).count()\n",
    "print(\"Degradee : \" , dataframe_pollution_octobreD2020)\n",
    "max(dataframe_pollution_octobreTM2020 , dataframe_pollution_octobreEM2020 , dataframe_pollution_octobreMA2020 , dataframe_pollution_octobreMO2020 ,  dataframe_pollution_octobreD2020)\n"
   ]
  },
  {
   "cell_type": "code",
   "execution_count": 43,
   "id": "0536b1da",
   "metadata": {},
   "outputs": [
    {
     "name": "stdout",
     "output_type": "stream",
     "text": [
      "Bonne :  1743\n",
      "Extremement mauvaise :  0\n",
      "Mauvaise :  288\n",
      "Moyenne:  710\n",
      "Degradee :  0\n"
     ]
    },
    {
     "data": {
      "text/plain": [
       "1743"
      ]
     },
     "execution_count": 43,
     "metadata": {},
     "output_type": "execute_result"
    }
   ],
   "source": [
    "\n",
    "dataframe_pollution_novembreTM2020 = dataframe_pollution.filter((dataframe_pollution.Annee ==\"2020\") & (dataframe_pollution.Mois ==\"novembre\") & (dataframe_pollution.Qualite == \"Bonne\")).count()\n",
    "print(\"Bonne : \" , dataframe_pollution_novembreTM2020)\n",
    "dataframe_pollution_novembreEM2020 = dataframe_pollution.filter((dataframe_pollution.Annee ==\"2020\") & (dataframe_pollution.Mois ==\"novembre\") & (dataframe_pollution.Qualite == \"Extremement mauvaise\")).count()\n",
    "print(\"Extremement mauvaise : \",dataframe_pollution_novembreEM2020)\n",
    "dataframe_pollution_novembreMA2020 = dataframe_pollution.filter((dataframe_pollution.Annee ==\"2020\") & (dataframe_pollution.Mois ==\"novembre\") & (dataframe_pollution.Qualite == \"Mauvaise\")).count()\n",
    "print(\"Mauvaise : \" , dataframe_pollution_novembreMA2020)\n",
    "dataframe_pollution_novembreMO2020 = dataframe_pollution.filter((dataframe_pollution.Annee ==\"2020\") & (dataframe_pollution.Mois ==\"novembre\") & (dataframe_pollution.Qualite == \"Moyenne\")).count()\n",
    "print(\"Moyenne: \" , dataframe_pollution_novembreMO2020)\n",
    "dataframe_pollution_novembreD2020 = dataframe_pollution.filter((dataframe_pollution.Annee ==\"2020\") & (dataframe_pollution.Mois ==\"novembre\") & (dataframe_pollution.Qualite == \"Degradee\")).count()\n",
    "print(\"Degradee : \" , dataframe_pollution_novembreD2020)\n",
    "max(dataframe_pollution_novembreTM2020 , dataframe_pollution_novembreEM2020 , dataframe_pollution_novembreMA2020 , dataframe_pollution_novembreMO2020 ,  dataframe_pollution_novembreD2020)\n"
   ]
  },
  {
   "cell_type": "code",
   "execution_count": 44,
   "id": "fa984800",
   "metadata": {},
   "outputs": [
    {
     "name": "stdout",
     "output_type": "stream",
     "text": [
      "Bonne :  1918\n",
      "Extremement mauvaise :  0\n",
      "Mauvaise :  452\n",
      "Moyenne:  397\n",
      "Degradee :  0\n"
     ]
    },
    {
     "data": {
      "text/plain": [
       "1918"
      ]
     },
     "execution_count": 44,
     "metadata": {},
     "output_type": "execute_result"
    }
   ],
   "source": [
    "\n",
    "dataframe_pollution_decembreTM2020 = dataframe_pollution.filter((dataframe_pollution.Annee ==\"2020\") & (dataframe_pollution.Mois ==\"decembre\") & (dataframe_pollution.Qualite == \"Bonne\")).count()\n",
    "print(\"Bonne : \" , dataframe_pollution_decembreTM2020)\n",
    "dataframe_pollution_decembreEM2020 = dataframe_pollution.filter((dataframe_pollution.Annee ==\"2020\") & (dataframe_pollution.Mois ==\"decembre\") & (dataframe_pollution.Qualite == \"Extremement mauvaise\")).count()\n",
    "print(\"Extremement mauvaise : \",dataframe_pollution_decembreEM2020)\n",
    "dataframe_pollution_decembreMA2020 = dataframe_pollution.filter((dataframe_pollution.Annee ==\"2020\") & (dataframe_pollution.Mois ==\"decembre\") & (dataframe_pollution.Qualite == \"Mauvaise\")).count()\n",
    "print(\"Mauvaise : \" , dataframe_pollution_decembreMA2020)\n",
    "dataframe_pollution_decembreMO2020 = dataframe_pollution.filter((dataframe_pollution.Annee ==\"2020\") & (dataframe_pollution.Mois ==\"decembre\") & (dataframe_pollution.Qualite == \"Moyenne\")).count()\n",
    "print(\"Moyenne: \" , dataframe_pollution_decembreMO2020)\n",
    "dataframe_pollution_decembreD2020 = dataframe_pollution.filter((dataframe_pollution.Annee ==\"2020\") & (dataframe_pollution.Mois ==\"decembre\") & (dataframe_pollution.Qualite == \"Degradee\")).count()\n",
    "print(\"Degradee : \" , dataframe_pollution_decembreD2020)\n",
    "max(dataframe_pollution_decembreTM2020 , dataframe_pollution_decembreEM2020 , dataframe_pollution_decembreMA2020 , dataframe_pollution_decembreMO2020 ,  dataframe_pollution_decembreD2020)\n"
   ]
  },
  {
   "cell_type": "code",
   "execution_count": 45,
   "id": "a2270ec2",
   "metadata": {},
   "outputs": [
    {
     "name": "stdout",
     "output_type": "stream",
     "text": [
      "Bonne :  30\n",
      "Extremement mauvaise :  848\n",
      "Mauvaise :  717\n",
      "Moyenne:  284\n",
      "Degradee :  2214\n"
     ]
    },
    {
     "data": {
      "text/plain": [
       "2214"
      ]
     },
     "execution_count": 45,
     "metadata": {},
     "output_type": "execute_result"
    }
   ],
   "source": [
    "\n",
    "dataframe_pollution_janvierTM2021 = dataframe_pollution.filter((dataframe_pollution.Annee ==\"2021\") & (dataframe_pollution.Mois ==\"Janvier\") & (dataframe_pollution.Qualite == \"Bonne\")).count()\n",
    "print(\"Bonne : \" , dataframe_pollution_janvierTM2021)\n",
    "dataframe_pollution_janvierEM2021 = dataframe_pollution.filter((dataframe_pollution.Annee ==\"2021\") & (dataframe_pollution.Mois ==\"Janvier\") & (dataframe_pollution.Qualite == \"Extremement mauvaise\")).count()\n",
    "print(\"Extremement mauvaise : \",dataframe_pollution_janvierEM2021)\n",
    "dataframe_pollution_janvierMA2021 = dataframe_pollution.filter((dataframe_pollution.Annee ==\"2021\") & (dataframe_pollution.Mois ==\"Janvier\") & (dataframe_pollution.Qualite == \"Mauvaise\")).count()\n",
    "print(\"Mauvaise : \" , dataframe_pollution_janvierMA2021)\n",
    "dataframe_pollution_janvierMO2021 = dataframe_pollution.filter((dataframe_pollution.Annee ==\"2021\") & (dataframe_pollution.Mois ==\"Janvier\") & (dataframe_pollution.Qualite == \"Moyenne\")).count()\n",
    "print(\"Moyenne: \" , dataframe_pollution_janvierMO2021)\n",
    "dataframe_pollution_janvierD2021 = dataframe_pollution.filter((dataframe_pollution.Annee ==\"2021\") & (dataframe_pollution.Mois ==\"Janvier\") & (dataframe_pollution.Qualite == \"Degradee\")).count()\n",
    "print(\"Degradee : \" , dataframe_pollution_janvierD2021)\n",
    "max(dataframe_pollution_janvierTM2021 , dataframe_pollution_janvierEM2021 , dataframe_pollution_janvierMA2021 , dataframe_pollution_janvierMO2021 ,  dataframe_pollution_janvierD2021)\n"
   ]
  },
  {
   "cell_type": "code",
   "execution_count": 46,
   "id": "570c9c8d",
   "metadata": {},
   "outputs": [
    {
     "name": "stdout",
     "output_type": "stream",
     "text": [
      "Bonne :  2158\n",
      "Extremement mauvaise :  0\n",
      "Mauvaise :  950\n",
      "Moyenne:  1031\n",
      "Degradee :  0\n"
     ]
    },
    {
     "data": {
      "text/plain": [
       "2158"
      ]
     },
     "execution_count": 46,
     "metadata": {},
     "output_type": "execute_result"
    }
   ],
   "source": [
    "\n",
    "dataframe_pollution_fevrierTM2021 = dataframe_pollution.filter((dataframe_pollution.Annee ==\"2021\") & (dataframe_pollution.Mois ==\"fevrier\") & (dataframe_pollution.Qualite == \"Bonne\")).count()\n",
    "print(\"Bonne : \" , dataframe_pollution_fevrierTM2021)\n",
    "dataframe_pollution_fevrierEM2021 = dataframe_pollution.filter((dataframe_pollution.Annee ==\"2021\") & (dataframe_pollution.Mois ==\"fevrier\") & (dataframe_pollution.Qualite == \"Extremement mauvaise\")).count()\n",
    "print(\"Extremement mauvaise : \",dataframe_pollution_fevrierEM2021)\n",
    "dataframe_pollution_fevrierMA2021 = dataframe_pollution.filter((dataframe_pollution.Annee ==\"2021\") & (dataframe_pollution.Mois ==\"fevrier\") & (dataframe_pollution.Qualite == \"Mauvaise\")).count()\n",
    "print(\"Mauvaise : \" , dataframe_pollution_fevrierMA2021)\n",
    "dataframe_pollution_fevrierMO2021 = dataframe_pollution.filter((dataframe_pollution.Annee ==\"2021\") & (dataframe_pollution.Mois ==\"fevrier\") & (dataframe_pollution.Qualite == \"Moyenne\")).count()\n",
    "print(\"Moyenne: \" , dataframe_pollution_fevrierMO2021)\n",
    "dataframe_pollution_fevrierD2021 = dataframe_pollution.filter((dataframe_pollution.Annee ==\"2021\") & (dataframe_pollution.Mois ==\"fevrier\") & (dataframe_pollution.Qualite == \"Degradee\")).count()\n",
    "print(\"Degradee : \" , dataframe_pollution_fevrierD2021)\n",
    "max(dataframe_pollution_fevrierTM2021 , dataframe_pollution_fevrierEM2021 , dataframe_pollution_fevrierMA2021 , dataframe_pollution_fevrierMO2021 ,  dataframe_pollution_fevrierD2021)\n"
   ]
  },
  {
   "cell_type": "code",
   "execution_count": 47,
   "id": "547d128a",
   "metadata": {},
   "outputs": [
    {
     "name": "stdout",
     "output_type": "stream",
     "text": [
      "Bonne :  492\n",
      "Extremement mauvaise :  0\n",
      "Mauvaise :  525\n",
      "Moyenne:  3116\n",
      "Degradee :  0\n"
     ]
    },
    {
     "data": {
      "text/plain": [
       "3116"
      ]
     },
     "execution_count": 47,
     "metadata": {},
     "output_type": "execute_result"
    }
   ],
   "source": [
    "\n",
    "dataframe_pollution_marsTM2021 = dataframe_pollution.filter((dataframe_pollution.Annee ==\"2021\") & (dataframe_pollution.Mois ==\"mars\") & (dataframe_pollution.Qualite == \"Bonne\")).count()\n",
    "print(\"Bonne : \" , dataframe_pollution_marsTM2021)\n",
    "dataframe_pollution_marsEM2021 = dataframe_pollution.filter((dataframe_pollution.Annee ==\"2021\") & (dataframe_pollution.Mois ==\"mars\") & (dataframe_pollution.Qualite == \"Extremement mauvaise\")).count()\n",
    "print(\"Extremement mauvaise : \",dataframe_pollution_marsEM2021)\n",
    "dataframe_pollution_marsMA2021 = dataframe_pollution.filter((dataframe_pollution.Annee ==\"2021\") & (dataframe_pollution.Mois ==\"mars\") & (dataframe_pollution.Qualite == \"Mauvaise\")).count()\n",
    "print(\"Mauvaise : \" , dataframe_pollution_marsMA2021)\n",
    "dataframe_pollution_marsMO2021 = dataframe_pollution.filter((dataframe_pollution.Annee ==\"2021\") & (dataframe_pollution.Mois ==\"mars\") & (dataframe_pollution.Qualite == \"Moyenne\")).count()\n",
    "print(\"Moyenne: \" , dataframe_pollution_marsMO2021)\n",
    "dataframe_pollution_marsD2021 = dataframe_pollution.filter((dataframe_pollution.Annee ==\"2021\") & (dataframe_pollution.Mois ==\"mars\") & (dataframe_pollution.Qualite == \"Degradee\")).count()\n",
    "print(\"Degradee : \" , dataframe_pollution_marsD2021)\n",
    "max(dataframe_pollution_marsTM2021 , dataframe_pollution_marsEM2021 , dataframe_pollution_marsMA2021 , dataframe_pollution_marsMO2021 ,  dataframe_pollution_marsD2021)\n"
   ]
  },
  {
   "cell_type": "code",
   "execution_count": 48,
   "id": "34886428",
   "metadata": {},
   "outputs": [
    {
     "name": "stdout",
     "output_type": "stream",
     "text": [
      "Bonne :  3580\n",
      "Extremement mauvaise :  0\n",
      "Mauvaise :  0\n",
      "Moyenne:  518\n",
      "Degradee :  0\n"
     ]
    },
    {
     "data": {
      "text/plain": [
       "3580"
      ]
     },
     "execution_count": 48,
     "metadata": {},
     "output_type": "execute_result"
    }
   ],
   "source": [
    "\n",
    "dataframe_pollution_AvrilTM2021 = dataframe_pollution.filter((dataframe_pollution.Annee ==\"2021\") & (dataframe_pollution.Mois ==\"Avril\") & (dataframe_pollution.Qualite == \"Bonne\")).count()\n",
    "print(\"Bonne : \" , dataframe_pollution_AvrilTM2021)\n",
    "dataframe_pollution_AvrilEM2021 = dataframe_pollution.filter((dataframe_pollution.Annee ==\"2021\") & (dataframe_pollution.Mois ==\"Avril\") & (dataframe_pollution.Qualite == \"Extremement mauvaise\")).count()\n",
    "print(\"Extremement mauvaise : \",dataframe_pollution_AvrilEM2021)\n",
    "dataframe_pollution_AvrilMA2021 = dataframe_pollution.filter((dataframe_pollution.Annee ==\"2021\") & (dataframe_pollution.Mois ==\"Avril\") & (dataframe_pollution.Qualite == \"Mauvaise\")).count()\n",
    "print(\"Mauvaise : \" , dataframe_pollution_AvrilMA2021)\n",
    "dataframe_pollution_AvrilMO2021 = dataframe_pollution.filter((dataframe_pollution.Annee ==\"2021\") & (dataframe_pollution.Mois ==\"Avril\") & (dataframe_pollution.Qualite == \"Moyenne\")).count()\n",
    "print(\"Moyenne: \" , dataframe_pollution_AvrilMO2021)\n",
    "dataframe_pollution_AvrilD2021 = dataframe_pollution.filter((dataframe_pollution.Annee ==\"2021\") & (dataframe_pollution.Mois ==\"Avril\") & (dataframe_pollution.Qualite == \"Degradee\")).count()\n",
    "print(\"Degradee : \" , dataframe_pollution_AvrilD2021)\n",
    "max(dataframe_pollution_AvrilTM2021 , dataframe_pollution_AvrilEM2021 , dataframe_pollution_AvrilMA2021 , dataframe_pollution_AvrilMO2021 ,  dataframe_pollution_AvrilD2021)\n"
   ]
  },
  {
   "cell_type": "code",
   "execution_count": 49,
   "id": "c5f98f7c",
   "metadata": {},
   "outputs": [
    {
     "name": "stdout",
     "output_type": "stream",
     "text": [
      "Bonne :  2592\n",
      "Extremement mauvaise :  0\n",
      "Mauvaise :  725\n",
      "Moyenne:  798\n",
      "Degradee :  0\n"
     ]
    },
    {
     "data": {
      "text/plain": [
       "2592"
      ]
     },
     "execution_count": 49,
     "metadata": {},
     "output_type": "execute_result"
    }
   ],
   "source": [
    "\n",
    "dataframe_pollution_maiTM2021 = dataframe_pollution.filter((dataframe_pollution.Annee ==\"2021\") & (dataframe_pollution.Mois ==\"mai\") & (dataframe_pollution.Qualite == \"Bonne\")).count()\n",
    "print(\"Bonne : \" , dataframe_pollution_maiTM2021)\n",
    "dataframe_pollution_maiEM2021 = dataframe_pollution.filter((dataframe_pollution.Annee ==\"2021\") & (dataframe_pollution.Mois ==\"mai\") & (dataframe_pollution.Qualite == \"Extremement mauvaise\")).count()\n",
    "print(\"Extremement mauvaise : \",dataframe_pollution_maiEM2021)\n",
    "dataframe_pollution_maiMA2021 = dataframe_pollution.filter((dataframe_pollution.Annee ==\"2021\") & (dataframe_pollution.Mois ==\"mai\") & (dataframe_pollution.Qualite == \"Mauvaise\")).count()\n",
    "print(\"Mauvaise : \" , dataframe_pollution_maiMA2021)\n",
    "dataframe_pollution_maiMO2021 = dataframe_pollution.filter((dataframe_pollution.Annee ==\"2021\") & (dataframe_pollution.Mois ==\"mai\") & (dataframe_pollution.Qualite == \"Moyenne\")).count()\n",
    "print(\"Moyenne: \" , dataframe_pollution_maiMO2021)\n",
    "dataframe_pollution_maiD2021 = dataframe_pollution.filter((dataframe_pollution.Annee ==\"2021\") & (dataframe_pollution.Mois ==\"mai\") & (dataframe_pollution.Qualite == \"Degradee\")).count()\n",
    "print(\"Degradee : \" , dataframe_pollution_maiD2021)\n",
    "max(dataframe_pollution_maiTM2021 , dataframe_pollution_maiEM2021 , dataframe_pollution_maiMA2021 , dataframe_pollution_maiMO2021 ,  dataframe_pollution_maiD2021)\n"
   ]
  },
  {
   "cell_type": "code",
   "execution_count": 50,
   "id": "2a887987",
   "metadata": {},
   "outputs": [
    {
     "name": "stdout",
     "output_type": "stream",
     "text": [
      "Bonne :  1421\n",
      "Extremement mauvaise :  0\n",
      "Mauvaise :  863\n",
      "Moyenne:  1824\n",
      "Degradee :  0\n"
     ]
    },
    {
     "data": {
      "text/plain": [
       "1824"
      ]
     },
     "execution_count": 50,
     "metadata": {},
     "output_type": "execute_result"
    }
   ],
   "source": [
    "\n",
    "dataframe_pollution_juinTM2021 = dataframe_pollution.filter((dataframe_pollution.Annee ==\"2021\") & (dataframe_pollution.Mois ==\"juin\") & (dataframe_pollution.Qualite == \"Bonne\")).count()\n",
    "print(\"Bonne : \" , dataframe_pollution_juinTM2021)\n",
    "dataframe_pollution_juinEM2021 = dataframe_pollution.filter((dataframe_pollution.Annee ==\"2021\") & (dataframe_pollution.Mois ==\"juin\") & (dataframe_pollution.Qualite == \"Extremement mauvaise\")).count()\n",
    "print(\"Extremement mauvaise : \",dataframe_pollution_juinEM2021)\n",
    "dataframe_pollution_juinMA2021 = dataframe_pollution.filter((dataframe_pollution.Annee ==\"2021\") & (dataframe_pollution.Mois ==\"juin\") & (dataframe_pollution.Qualite == \"Mauvaise\")).count()\n",
    "print(\"Mauvaise : \" , dataframe_pollution_juinMA2021)\n",
    "dataframe_pollution_juinMO2021 = dataframe_pollution.filter((dataframe_pollution.Annee ==\"2021\") & (dataframe_pollution.Mois ==\"juin\") & (dataframe_pollution.Qualite == \"Moyenne\")).count()\n",
    "print(\"Moyenne: \" , dataframe_pollution_juinMO2021)\n",
    "dataframe_pollution_juinD2021 = dataframe_pollution.filter((dataframe_pollution.Annee ==\"2021\") & (dataframe_pollution.Mois ==\"juin\") & (dataframe_pollution.Qualite == \"Degradee\")).count()\n",
    "print(\"Degradee : \" , dataframe_pollution_juinD2021)\n",
    "max(dataframe_pollution_juinTM2021 , dataframe_pollution_juinEM2021 , dataframe_pollution_juinMA2021 , dataframe_pollution_juinMO2021 ,  dataframe_pollution_juinD2021)\n"
   ]
  },
  {
   "cell_type": "code",
   "execution_count": 51,
   "id": "b9c0278b",
   "metadata": {},
   "outputs": [
    {
     "name": "stdout",
     "output_type": "stream",
     "text": [
      "Bonne :  50\n",
      "Extremement mauvaise :  635\n",
      "Mauvaise :  968\n",
      "Moyenne:  182\n",
      "Degradee :  2277\n"
     ]
    },
    {
     "data": {
      "text/plain": [
       "2277"
      ]
     },
     "execution_count": 51,
     "metadata": {},
     "output_type": "execute_result"
    }
   ],
   "source": [
    "\n",
    "dataframe_pollution_juilletTM2021 = dataframe_pollution.filter((dataframe_pollution.Annee ==\"2021\") & (dataframe_pollution.Mois ==\"juillet\") & (dataframe_pollution.Qualite == \"Bonne\")).count()\n",
    "print(\"Bonne : \" , dataframe_pollution_juilletTM2021)\n",
    "dataframe_pollution_juilletEM2021 = dataframe_pollution.filter((dataframe_pollution.Annee ==\"2021\") & (dataframe_pollution.Mois ==\"juillet\") & (dataframe_pollution.Qualite == \"Extremement mauvaise\")).count()\n",
    "print(\"Extremement mauvaise : \",dataframe_pollution_juilletEM2021)\n",
    "dataframe_pollution_juilletMA2021 = dataframe_pollution.filter((dataframe_pollution.Annee ==\"2021\") & (dataframe_pollution.Mois ==\"juillet\") & (dataframe_pollution.Qualite == \"Mauvaise\")).count()\n",
    "print(\"Mauvaise : \" , dataframe_pollution_juilletMA2021)\n",
    "dataframe_pollution_juilletMO2021 = dataframe_pollution.filter((dataframe_pollution.Annee ==\"2021\") & (dataframe_pollution.Mois ==\"juillet\") & (dataframe_pollution.Qualite == \"Moyenne\")).count()\n",
    "print(\"Moyenne: \" , dataframe_pollution_juilletMO2021)\n",
    "dataframe_pollution_juilletD2021 = dataframe_pollution.filter((dataframe_pollution.Annee ==\"2021\") & (dataframe_pollution.Mois ==\"juillet\") & (dataframe_pollution.Qualite == \"Degradee\")).count()\n",
    "print(\"Degradee : \" , dataframe_pollution_juilletD2021)\n",
    "max(dataframe_pollution_juilletTM2021 , dataframe_pollution_juilletEM2021 , dataframe_pollution_juilletMA2021 , dataframe_pollution_juilletMO2021 ,  dataframe_pollution_juilletD2021)\n"
   ]
  },
  {
   "cell_type": "code",
   "execution_count": 52,
   "id": "27f9e90e",
   "metadata": {},
   "outputs": [
    {
     "name": "stdout",
     "output_type": "stream",
     "text": [
      "Bonne :  0\n",
      "Extremement mauvaise :  3197\n",
      "Mauvaise :  189\n",
      "Moyenne:  0\n",
      "Degradee :  704\n"
     ]
    },
    {
     "data": {
      "text/plain": [
       "3197"
      ]
     },
     "execution_count": 52,
     "metadata": {},
     "output_type": "execute_result"
    }
   ],
   "source": [
    "\n",
    "dataframe_pollution_aoutTM2021 = dataframe_pollution.filter((dataframe_pollution.Annee ==\"2021\") & (dataframe_pollution.Mois ==\"aout\") & (dataframe_pollution.Qualite == \"Bonne\")).count()\n",
    "print(\"Bonne : \" , dataframe_pollution_aoutTM2021)\n",
    "dataframe_pollution_aoutEM2021 = dataframe_pollution.filter((dataframe_pollution.Annee ==\"2021\") & (dataframe_pollution.Mois ==\"aout\") & (dataframe_pollution.Qualite == \"Extremement mauvaise\")).count()\n",
    "print(\"Extremement mauvaise : \",dataframe_pollution_aoutEM2021)\n",
    "dataframe_pollution_aoutMA2021 = dataframe_pollution.filter((dataframe_pollution.Annee ==\"2021\") & (dataframe_pollution.Mois ==\"aout\") & (dataframe_pollution.Qualite == \"Mauvaise\")).count()\n",
    "print(\"Mauvaise : \" , dataframe_pollution_aoutMA2021)\n",
    "dataframe_pollution_aoutMO2021 = dataframe_pollution.filter((dataframe_pollution.Annee ==\"2021\") & (dataframe_pollution.Mois ==\"aout\") & (dataframe_pollution.Qualite == \"Moyenne\")).count()\n",
    "print(\"Moyenne: \" , dataframe_pollution_aoutMO2021)\n",
    "dataframe_pollution_aoutD2021 = dataframe_pollution.filter((dataframe_pollution.Annee ==\"2021\") & (dataframe_pollution.Mois ==\"aout\") & (dataframe_pollution.Qualite == \"Degradee\")).count()\n",
    "print(\"Degradee : \" , dataframe_pollution_aoutD2021)\n",
    "max(dataframe_pollution_aoutTM2021 , dataframe_pollution_aoutEM2021 , dataframe_pollution_aoutMA2021 , dataframe_pollution_aoutMO2021 ,  dataframe_pollution_aoutD2021)\n"
   ]
  },
  {
   "cell_type": "code",
   "execution_count": 53,
   "id": "40825d1b",
   "metadata": {},
   "outputs": [
    {
     "name": "stdout",
     "output_type": "stream",
     "text": [
      "Bonne :  697\n",
      "Extremement mauvaise :  0\n",
      "Mauvaise :  641\n",
      "Moyenne:  1375\n",
      "Degradee :  17\n"
     ]
    },
    {
     "data": {
      "text/plain": [
       "1375"
      ]
     },
     "execution_count": 53,
     "metadata": {},
     "output_type": "execute_result"
    }
   ],
   "source": [
    "\n",
    "dataframe_pollution_septembreTM2021 = dataframe_pollution.filter((dataframe_pollution.Annee ==\"2021\") & (dataframe_pollution.Mois ==\"septembre\") & (dataframe_pollution.Qualite == \"Bonne\")).count()\n",
    "print(\"Bonne : \" , dataframe_pollution_septembreTM2021)\n",
    "dataframe_pollution_septembreEM2021 = dataframe_pollution.filter((dataframe_pollution.Annee ==\"2021\") & (dataframe_pollution.Mois ==\"septembre\") & (dataframe_pollution.Qualite == \"Extremement mauvaise\")).count()\n",
    "print(\"Extremement mauvaise : \",dataframe_pollution_septembreEM2021)\n",
    "dataframe_pollution_septembreMA2021 = dataframe_pollution.filter((dataframe_pollution.Annee ==\"2021\") & (dataframe_pollution.Mois ==\"septembre\") & (dataframe_pollution.Qualite == \"Mauvaise\")).count()\n",
    "print(\"Mauvaise : \" , dataframe_pollution_septembreMA2021)\n",
    "dataframe_pollution_septembreMO2021 = dataframe_pollution.filter((dataframe_pollution.Annee ==\"2021\") & (dataframe_pollution.Mois ==\"septembre\") & (dataframe_pollution.Qualite == \"Moyenne\")).count()\n",
    "print(\"Moyenne: \" , dataframe_pollution_septembreMO2021)\n",
    "dataframe_pollution_septembreD2021 = dataframe_pollution.filter((dataframe_pollution.Annee ==\"2021\") & (dataframe_pollution.Mois ==\"septembre\") & (dataframe_pollution.Qualite == \"Degradee\")).count()\n",
    "print(\"Degradee : \" , dataframe_pollution_septembreD2021)\n",
    "max(dataframe_pollution_septembreTM2021 , dataframe_pollution_septembreEM2021 , dataframe_pollution_septembreMA2021 , dataframe_pollution_septembreMO2021 ,  dataframe_pollution_septembreD2021)\n"
   ]
  },
  {
   "cell_type": "code",
   "execution_count": 54,
   "id": "c68a919e",
   "metadata": {},
   "outputs": [
    {
     "name": "stdout",
     "output_type": "stream",
     "text": [
      "Bonne :  339\n",
      "Extremement mauvaise :  0\n",
      "Mauvaise :  2398\n",
      "Moyenne:  758\n",
      "Degradee :  627\n"
     ]
    },
    {
     "data": {
      "text/plain": [
       "2398"
      ]
     },
     "execution_count": 54,
     "metadata": {},
     "output_type": "execute_result"
    }
   ],
   "source": [
    "\n",
    "dataframe_pollution_octobreTM2021 = dataframe_pollution.filter((dataframe_pollution.Annee ==\"2021\") & (dataframe_pollution.Mois ==\"octobre\") & (dataframe_pollution.Qualite == \"Bonne\")).count()\n",
    "print(\"Bonne : \" , dataframe_pollution_octobreTM2021)\n",
    "dataframe_pollution_octobreEM2021 = dataframe_pollution.filter((dataframe_pollution.Annee ==\"2021\") & (dataframe_pollution.Mois ==\"octobre\") & (dataframe_pollution.Qualite == \"Extremement mauvaise\")).count()\n",
    "print(\"Extremement mauvaise : \",dataframe_pollution_octobreEM2021)\n",
    "dataframe_pollution_octobreMA2021 = dataframe_pollution.filter((dataframe_pollution.Annee ==\"2021\") & (dataframe_pollution.Mois ==\"octobre\") & (dataframe_pollution.Qualite == \"Mauvaise\")).count()\n",
    "print(\"Mauvaise : \" , dataframe_pollution_octobreMA2021)\n",
    "dataframe_pollution_octobreMO2021 = dataframe_pollution.filter((dataframe_pollution.Annee ==\"2021\") & (dataframe_pollution.Mois ==\"octobre\") & (dataframe_pollution.Qualite == \"Moyenne\")).count()\n",
    "print(\"Moyenne: \" , dataframe_pollution_octobreMO2021)\n",
    "dataframe_pollution_octobreD2021 = dataframe_pollution.filter((dataframe_pollution.Annee ==\"2021\") & (dataframe_pollution.Mois ==\"octobre\") & (dataframe_pollution.Qualite == \"Degradee\")).count()\n",
    "print(\"Degradee : \" , dataframe_pollution_octobreD2021)\n",
    "max(dataframe_pollution_octobreTM2021 , dataframe_pollution_octobreEM2021 , dataframe_pollution_octobreMA2021 , dataframe_pollution_octobreMO2021 ,  dataframe_pollution_octobreD2021)\n"
   ]
  },
  {
   "cell_type": "code",
   "execution_count": 55,
   "id": "2d9e9df6",
   "metadata": {},
   "outputs": [
    {
     "name": "stdout",
     "output_type": "stream",
     "text": [
      "Bonne :  9\n",
      "Extremement mauvaise :  1026\n",
      "Mauvaise :  0\n",
      "Moyenne:  505\n",
      "Degradee :  1178\n"
     ]
    },
    {
     "data": {
      "text/plain": [
       "1178"
      ]
     },
     "execution_count": 55,
     "metadata": {},
     "output_type": "execute_result"
    }
   ],
   "source": [
    "\n",
    "dataframe_pollution_novembreTM2021 = dataframe_pollution.filter((dataframe_pollution.Annee ==\"2021\") & (dataframe_pollution.Mois ==\"novembre\") & (dataframe_pollution.Qualite == \"Bonne\")).count()\n",
    "print(\"Bonne : \" , dataframe_pollution_novembreTM2021)\n",
    "dataframe_pollution_novembreEM2021 = dataframe_pollution.filter((dataframe_pollution.Annee ==\"2021\") & (dataframe_pollution.Mois ==\"novembre\") & (dataframe_pollution.Qualite == \"Extremement mauvaise\")).count()\n",
    "print(\"Extremement mauvaise : \",dataframe_pollution_novembreEM2021)\n",
    "dataframe_pollution_novembreMA2021 = dataframe_pollution.filter((dataframe_pollution.Annee ==\"2021\") & (dataframe_pollution.Mois ==\"novembre\") & (dataframe_pollution.Qualite == \"Mauvaise\")).count()\n",
    "print(\"Mauvaise : \" , dataframe_pollution_novembreMA2021)\n",
    "dataframe_pollution_novembreMO2021 = dataframe_pollution.filter((dataframe_pollution.Annee ==\"2021\") & (dataframe_pollution.Mois ==\"novembre\") & (dataframe_pollution.Qualite == \"Moyenne\")).count()\n",
    "print(\"Moyenne: \" , dataframe_pollution_novembreMO2021)\n",
    "dataframe_pollution_novembreD2021 = dataframe_pollution.filter((dataframe_pollution.Annee ==\"2021\") & (dataframe_pollution.Mois ==\"novembre\") & (dataframe_pollution.Qualite == \"Degradee\")).count()\n",
    "print(\"Degradee : \" , dataframe_pollution_novembreD2021)\n",
    "max(dataframe_pollution_novembreTM2021 , dataframe_pollution_novembreEM2021 , dataframe_pollution_novembreMA2021 , dataframe_pollution_novembreMO2021 ,  dataframe_pollution_novembreD2021)\n"
   ]
  },
  {
   "cell_type": "code",
   "execution_count": 56,
   "id": "57ccd6dc",
   "metadata": {},
   "outputs": [
    {
     "name": "stdout",
     "output_type": "stream",
     "text": [
      "Bonne :  155\n",
      "Extremement mauvaise :  1614\n",
      "Mauvaise :  688\n",
      "Moyenne:  36\n",
      "Degradee :  227\n"
     ]
    },
    {
     "data": {
      "text/plain": [
       "1614"
      ]
     },
     "execution_count": 56,
     "metadata": {},
     "output_type": "execute_result"
    }
   ],
   "source": [
    "\n",
    "dataframe_pollution_decembreTM2021 = dataframe_pollution.filter((dataframe_pollution.Annee ==\"2021\") & (dataframe_pollution.Mois ==\"decembre\") & (dataframe_pollution.Qualite == \"Bonne\")).count()\n",
    "print(\"Bonne : \" , dataframe_pollution_decembreTM2021)\n",
    "dataframe_pollution_decembreEM2021 = dataframe_pollution.filter((dataframe_pollution.Annee ==\"2021\") & (dataframe_pollution.Mois ==\"decembre\") & (dataframe_pollution.Qualite == \"Extremement mauvaise\")).count()\n",
    "print(\"Extremement mauvaise : \",dataframe_pollution_decembreEM2021)\n",
    "dataframe_pollution_decembreMA2021 = dataframe_pollution.filter((dataframe_pollution.Annee ==\"2021\") & (dataframe_pollution.Mois ==\"decembre\") & (dataframe_pollution.Qualite == \"Mauvaise\")).count()\n",
    "print(\"Mauvaise : \" , dataframe_pollution_decembreMA2021)\n",
    "dataframe_pollution_decembreMO2021 = dataframe_pollution.filter((dataframe_pollution.Annee ==\"2021\") & (dataframe_pollution.Mois ==\"decembre\") & (dataframe_pollution.Qualite == \"Moyenne\")).count()\n",
    "print(\"Moyenne: \" , dataframe_pollution_decembreMO2021)\n",
    "dataframe_pollution_decembreD2021 = dataframe_pollution.filter((dataframe_pollution.Annee ==\"2021\") & (dataframe_pollution.Mois ==\"decembre\") & (dataframe_pollution.Qualite == \"Degradee\")).count()\n",
    "print(\"Degradee : \" , dataframe_pollution_decembreD2021)\n",
    "max(dataframe_pollution_decembreTM2021 , dataframe_pollution_decembreEM2021 , dataframe_pollution_decembreMA2021 , dataframe_pollution_decembreMO2021 ,  dataframe_pollution_decembreD2021)\n"
   ]
  },
  {
   "cell_type": "markdown",
   "id": "c192ddc6",
   "metadata": {},
   "source": [
    "2) Création et traitement sur le dataframe circulation : "
   ]
  },
  {
   "cell_type": "code",
   "execution_count": 57,
   "id": "671567fc",
   "metadata": {},
   "outputs": [
    {
     "name": "stdout",
     "output_type": "stream",
     "text": [
      "+--------------+-----+----+---------------------------------------------+-------------------------------------+-------------------------------------+-------------------+----------------+------------------+----------+-----------+--------------+--------------+\n",
      "|Id_cerculation|Annee|Mois|Indice frequentation tout types de transports|Stationnement - Parcs concedes - Jour|Nombre moyen abonnes - Parcs concedes|Vitesse moyenne PIM|Volume trafic BP|Vitesse moyenne BP|FREQ_VELIB| FREQ_METRO|FREQ_RERA_RERB|FREQ_BUS_PARIS|\n",
      "+--------------+-----+----+---------------------------------------------+-------------------------------------+-------------------------------------+-------------------+----------------+------------------+----------+-----------+--------------+--------------+\n",
      "|             1| 2020|Aout|                                         0.31|                                27434|                                29877|               11.6|          4981.0|              30.9|   8045782|328000000.0|   112800000.0|    77000000.0|\n",
      "|             2| 2020|Aout|                                         0.32|                                28674|                                34394|               14.5|          5538.0|              35.7|      null|390800000.0|   122300000.0|    87500000.0|\n",
      "|             3| 2020|Aout|                                         0.33|                                33400|                                39200|               15.2|          5685.0|              37.6|      null|392700000.0|   119700000.0|    96200000.0|\n",
      "|             4| 2020|Aout|                                         0.34|                                34465|                                38734|               16.0|          5737.0|              41.5|      null|400000000.0|   123000000.0|    92200000.0|\n",
      "|             5| 2020|Aout|                                         0.35|                                36038|                                37291|               14.7|          5519.0|              36.3|      null|405700000.0|   123100000.0|    87100000.0|\n",
      "+--------------+-----+----+---------------------------------------------+-------------------------------------+-------------------------------------+-------------------+----------------+------------------+----------+-----------+--------------+--------------+\n",
      "only showing top 5 rows\n",
      "\n"
     ]
    }
   ],
   "source": [
    "path  = 'hdfs://namenode:9000/ma_base/circulation/'\n",
    "dataframe_circulation = spark.read.format('csv').options(header=True, sep=\";\").load(path)\n",
    "dataframe_circulation.show(5)"
   ]
  },
  {
   "cell_type": "code",
   "execution_count": 58,
   "id": "d05ea561",
   "metadata": {},
   "outputs": [
    {
     "data": {
      "text/plain": [
       "294960"
      ]
     },
     "execution_count": 58,
     "metadata": {},
     "output_type": "execute_result"
    }
   ],
   "source": [
    "dataframe_circulation.count()"
   ]
  },
  {
   "cell_type": "code",
   "execution_count": 255,
   "id": "f770d5bc",
   "metadata": {},
   "outputs": [
    {
     "name": "stderr",
     "output_type": "stream",
     "text": [
      "                                                                                \r"
     ]
    },
    {
     "name": "stdout",
     "output_type": "stream",
     "text": [
      "+-------+-------+-------------------+------------------+------------------+------------------+\n",
      "|summary|summary|Vitesse moyenne PIM|  Volume trafic BP|Vitesse moyenne BP|Vitesse moyenne BP|\n",
      "+-------+-------+-------------------+------------------+------------------+------------------+\n",
      "|  count|      5|                  5|                 5|                 5|                 5|\n",
      "|   mean|   null|  58991.07781590264| 62111.51308339012| 59006.38093742641| 59006.38093742641|\n",
      "| stddev|   null| 131883.80495730086|130157.40778468226| 131875.2511729958| 131875.2511729958|\n",
      "|    min|  count| 1.2151784851143588|            294912|            294912|            294912|\n",
      "|    max| stddev|             294912|            5787.0|              48.1|              48.1|\n",
      "+-------+-------+-------------------+------------------+------------------+------------------+\n",
      "\n"
     ]
    }
   ],
   "source": [
    "dataframe_circulation.describe([\"Vitesse moyenne PIM\", \"Volume trafic BP\",\"Vitesse moyenne BP\" , \"Vitesse moyenne BP\"]).describe().show()\n",
    "\n"
   ]
  },
  {
   "cell_type": "code",
   "execution_count": 59,
   "id": "17c7638e",
   "metadata": {},
   "outputs": [
    {
     "name": "stdout",
     "output_type": "stream",
     "text": [
      "+--------------+-----+----+---------------------------------------------+-------------------------------------+-------------------------------------+-------------------+----------------+------------------+----------+-----------+--------------+--------------+\n",
      "|Id_circulation|Annee|Mois|Indice frequentation tout types de transports|Stationnement - Parcs concedes - Jour|Nombre moyen abonnes - Parcs concedes|Vitesse moyenne PIM|Volume trafic BP|Vitesse moyenne BP|FREQ_VELIB| FREQ_METRO|FREQ_RERA_RERB|FREQ_BUS_PARIS|\n",
      "+--------------+-----+----+---------------------------------------------+-------------------------------------+-------------------------------------+-------------------+----------------+------------------+----------+-----------+--------------+--------------+\n",
      "|             1| 2020|Aout|                                         0.31|                                27434|                                29877|               11.6|          4981.0|              30.9|   8045782|328000000.0|   112800000.0|    77000000.0|\n",
      "|             2| 2020|Aout|                                         0.32|                                28674|                                34394|               14.5|          5538.0|              35.7|      null|390800000.0|   122300000.0|    87500000.0|\n",
      "|             3| 2020|Aout|                                         0.33|                                33400|                                39200|               15.2|          5685.0|              37.6|      null|392700000.0|   119700000.0|    96200000.0|\n",
      "|             4| 2020|Aout|                                         0.34|                                34465|                                38734|               16.0|          5737.0|              41.5|      null|400000000.0|   123000000.0|    92200000.0|\n",
      "|             5| 2020|Aout|                                         0.35|                                36038|                                37291|               14.7|          5519.0|              36.3|      null|405700000.0|   123100000.0|    87100000.0|\n",
      "|             6| 2020|Aout|                                         0.36|                                26004|                                34580|               15.5|          5470.0|              41.0|      null|337000000.0|   107200000.0|    75500000.0|\n",
      "|             7| 2020|Aout|                                         0.37|                                29410|                                31670|               14.2|          5325.0|              34.3|      null|397700000.0|   125800000.0|    87500000.0|\n",
      "|             8| 2020|Aout|                                         0.38|                                25191|                                30812|               14.0|          5281.0|              33.2|      null|383800000.0|   124600000.0|    85600000.0|\n",
      "|             9| 2020|Aout|                                         0.39|                                27212|                                37665|               15.0|          5469.0|              41.0|      null|340600000.0|   107800000.0|    74500000.0|\n",
      "|            10| 2020|Aout|                                         0.40|                                32376|                                37155|               16.0|          5652.0|              41.5|      null|391900000.0|   121500000.0|    89400000.0|\n",
      "|            11| 2020|Aout|                                         0.41|                                30182|                                34484|               15.5|          5609.0|              40.3|      null|387500000.0|   119500000.0|    87300000.0|\n",
      "|            12| 2020|Aout|                                         0.42|                                14627|                                29136|               12.9|          5124.0|              39.8|   7590110|198000000.0|    67400000.0|    50000000.0|\n",
      "|            13| 2020|Aout|                                         0.43|                                17813|                                28993|               12.9|          5033.0|              37.7|   8613268|308600000.0|   105700000.0|    59600000.0|\n",
      "|            14| 2020|Aout|                                         0.44|                                30213|                                34033|               14.7|          5445.0|              35.7|      null|398000000.0|   123600000.0|    88100000.0|\n",
      "|            15| 2020|Aout|                                         0.45|                                28253|                                30571|               13.6|          5273.0|              33.9|      null|411200000.0|   133400000.0|    86700000.0|\n",
      "|            16| 2020|Aout|                                         0.46|                                26900|                                38300|               15.9|          5608.0|              43.2|      null|335500000.0|   105300000.0|    78800000.0|\n",
      "|            17| 2020|Aout|                                         0.47|                                20442|                                31685|               14.7|          5284.0|              39.9|   2300270|351100000.0|   108600000.0|    73500000.0|\n",
      "|            18| 2020|Aout|                                         0.48|                                19952|                                29350|               12.1|          4925.0|              32.7|  11650421|345000000.0|   119700000.0|    63500000.0|\n",
      "|            19| 2020|Aout|                                         0.49|                                33070|                                38195|               15.5|          5566.0|              40.2|      null|394700000.0|   120200000.0|    81200000.0|\n",
      "|            20| 2020|Aout|                                         0.50|                                35795|                                35029|               14.6|          5510.0|              36.4|      null|408000000.0|   125600000.0|    87600000.0|\n",
      "+--------------+-----+----+---------------------------------------------+-------------------------------------+-------------------------------------+-------------------+----------------+------------------+----------+-----------+--------------+--------------+\n",
      "only showing top 20 rows\n",
      "\n"
     ]
    }
   ],
   "source": [
    "dataframe_circulation = dataframe_circulation.withColumnRenamed(\"Id_cerculation\",\"Id_circulation\")\n",
    "dataframe_circulation.show()"
   ]
  },
  {
   "cell_type": "code",
   "execution_count": 257,
   "id": "0783f470",
   "metadata": {},
   "outputs": [
    {
     "name": "stdout",
     "output_type": "stream",
     "text": [
      "+--------------+-----+----+---------------------------------------------+\n",
      "|Id_circulation|Annee|Mois|Indice frequentation tout types de transports|\n",
      "+--------------+-----+----+---------------------------------------------+\n",
      "|             1| 2020|Aout|                                         0.31|\n",
      "|             2| 2020|Aout|                                         0.32|\n",
      "|             3| 2020|Aout|                                         0.33|\n",
      "|             4| 2020|Aout|                                         0.34|\n",
      "|             5| 2020|Aout|                                         0.35|\n",
      "|             6| 2020|Aout|                                         0.36|\n",
      "|             7| 2020|Aout|                                         0.37|\n",
      "|             8| 2020|Aout|                                         0.38|\n",
      "|             9| 2020|Aout|                                         0.39|\n",
      "|            10| 2020|Aout|                                         0.40|\n",
      "|            11| 2020|Aout|                                         0.41|\n",
      "|            12| 2020|Aout|                                         0.42|\n",
      "|            13| 2020|Aout|                                         0.43|\n",
      "|            14| 2020|Aout|                                         0.44|\n",
      "|            15| 2020|Aout|                                         0.45|\n",
      "|            16| 2020|Aout|                                         0.46|\n",
      "|            17| 2020|Aout|                                         0.47|\n",
      "|            18| 2020|Aout|                                         0.48|\n",
      "|            19| 2020|Aout|                                         0.49|\n",
      "|            20| 2020|Aout|                                         0.50|\n",
      "+--------------+-----+----+---------------------------------------------+\n",
      "only showing top 20 rows\n",
      "\n"
     ]
    }
   ],
   "source": [
    "df_circulation_selectionne = dataframe_circulation.select(\"Id_circulation\" , \"Annee\" , \"Mois\" ,\"Indice frequentation tout types de transports\" )\n",
    "df_circulation_selectionne.show()"
   ]
  },
  {
   "cell_type": "code",
   "execution_count": 258,
   "id": "674dd951",
   "metadata": {},
   "outputs": [
    {
     "data": {
      "text/plain": [
       "294960"
      ]
     },
     "execution_count": 258,
     "metadata": {},
     "output_type": "execute_result"
    }
   ],
   "source": [
    "df_circulation_selectionne.count()"
   ]
  },
  {
   "cell_type": "code",
   "execution_count": 62,
   "id": "d54bc9db",
   "metadata": {},
   "outputs": [
    {
     "name": "stderr",
     "output_type": "stream",
     "text": [
      "                                                                                \r"
     ]
    },
    {
     "data": {
      "text/plain": [
       "[Row(avg(Indice frequentation tout types de transports)=9.399346373420682)]"
      ]
     },
     "execution_count": 62,
     "metadata": {},
     "output_type": "execute_result"
    }
   ],
   "source": [
    "df_circulation_selectionne.filter(( df_circulation_selectionne.Annee == \"2018\") & (df_circulation_selectionne.Mois == \"Janvier\")).agg({'Indice frequentation tout types de transports': 'mean'}).collect()"
   ]
  },
  {
   "cell_type": "code",
   "execution_count": 63,
   "id": "cbec2770",
   "metadata": {},
   "outputs": [
    {
     "data": {
      "text/plain": [
       "[Row(avg(Indice frequentation tout types de transports)=2.398980751832788)]"
      ]
     },
     "execution_count": 63,
     "metadata": {},
     "output_type": "execute_result"
    }
   ],
   "source": [
    "df_circulation_selectionne.filter(( df_circulation_selectionne.Annee == \"2018\") & (df_circulation_selectionne.Mois == \"Fevrier\")).agg({'Indice frequentation tout types de transports': 'mean'}).collect()"
   ]
  },
  {
   "cell_type": "code",
   "execution_count": 64,
   "id": "09cac45e",
   "metadata": {},
   "outputs": [
    {
     "name": "stderr",
     "output_type": "stream",
     "text": [
      "                                                                                \r"
     ]
    },
    {
     "data": {
      "text/plain": [
       "[Row(avg(Indice frequentation tout types de transports)=2.3987502105755736)]"
      ]
     },
     "execution_count": 64,
     "metadata": {},
     "output_type": "execute_result"
    }
   ],
   "source": [
    "df_circulation_selectionne.filter(( df_circulation_selectionne.Annee == \"2018\") & (df_circulation_selectionne.Mois == \"Mars\")).agg({'Indice frequentation tout types de transports': 'mean'}).collect()"
   ]
  },
  {
   "cell_type": "code",
   "execution_count": 65,
   "id": "4b716af0",
   "metadata": {},
   "outputs": [
    {
     "name": "stderr",
     "output_type": "stream",
     "text": [
      "                                                                                \r"
     ]
    },
    {
     "data": {
      "text/plain": [
       "[Row(avg(Indice frequentation tout types de transports)=2.400030978006551)]"
      ]
     },
     "execution_count": 65,
     "metadata": {},
     "output_type": "execute_result"
    }
   ],
   "source": [
    "df_circulation_selectionne.filter(( df_circulation_selectionne.Annee == \"2018\") & (df_circulation_selectionne.Mois == \"Avril\")).agg({'Indice frequentation tout types de transports': 'mean'}).collect()"
   ]
  },
  {
   "cell_type": "code",
   "execution_count": 66,
   "id": "fee341f9",
   "metadata": {},
   "outputs": [
    {
     "data": {
      "text/plain": [
       "[Row(avg(Indice frequentation tout types de transports)=2.3976706598034636)]"
      ]
     },
     "execution_count": 66,
     "metadata": {},
     "output_type": "execute_result"
    }
   ],
   "source": [
    "df_circulation_selectionne.filter(( df_circulation_selectionne.Annee == \"2018\") & (df_circulation_selectionne.Mois == \"Mai\")).agg({'Indice frequentation tout types de transports': 'mean'}).collect()"
   ]
  },
  {
   "cell_type": "code",
   "execution_count": 67,
   "id": "7330f293",
   "metadata": {},
   "outputs": [
    {
     "data": {
      "text/plain": [
       "[Row(avg(Indice frequentation tout types de transports)=1.4008586803930752)]"
      ]
     },
     "execution_count": 67,
     "metadata": {},
     "output_type": "execute_result"
    }
   ],
   "source": [
    "df_circulation_selectionne.filter(( df_circulation_selectionne.Annee == \"2018\") & (df_circulation_selectionne.Mois == \"Juin\")).agg({'Indice frequentation tout types de transports': 'mean'}).collect()"
   ]
  },
  {
   "cell_type": "code",
   "execution_count": 68,
   "id": "9be2bed4",
   "metadata": {},
   "outputs": [
    {
     "name": "stderr",
     "output_type": "stream",
     "text": [
      "                                                                                \r"
     ]
    },
    {
     "data": {
      "text/plain": [
       "[Row(avg(Indice frequentation tout types de transports)=5.400004726251755)]"
      ]
     },
     "execution_count": 68,
     "metadata": {},
     "output_type": "execute_result"
    }
   ],
   "source": [
    "df_circulation_selectionne.filter(( df_circulation_selectionne.Annee == \"2018\") & (df_circulation_selectionne.Mois == \"Juillet\")).agg({'Indice frequentation tout types de transports': 'mean'}).collect()"
   ]
  },
  {
   "cell_type": "code",
   "execution_count": 69,
   "id": "df8414f1",
   "metadata": {},
   "outputs": [
    {
     "data": {
      "text/plain": [
       "[Row(avg(Indice frequentation tout types de transports)=8.399346373420682)]"
      ]
     },
     "execution_count": 69,
     "metadata": {},
     "output_type": "execute_result"
    }
   ],
   "source": [
    "df_circulation_selectionne.filter(( df_circulation_selectionne.Annee == \"2018\") & (df_circulation_selectionne.Mois == \"Aout\")).agg({'Indice frequentation tout types de transports': 'mean'}).collect()"
   ]
  },
  {
   "cell_type": "code",
   "execution_count": 70,
   "id": "e885c9c7",
   "metadata": {},
   "outputs": [
    {
     "name": "stderr",
     "output_type": "stream",
     "text": [
      "                                                                                \r"
     ]
    },
    {
     "data": {
      "text/plain": [
       "[Row(avg(Indice frequentation tout types de transports)=4.3986687412260155)]"
      ]
     },
     "execution_count": 70,
     "metadata": {},
     "output_type": "execute_result"
    }
   ],
   "source": [
    "df_circulation_selectionne.filter(( df_circulation_selectionne.Annee == \"2018\") & (df_circulation_selectionne.Mois == \"Septembre\")).agg({'Indice frequentation tout types de transports': 'mean'}).collect()"
   ]
  },
  {
   "cell_type": "code",
   "execution_count": 71,
   "id": "1ead3b94",
   "metadata": {},
   "outputs": [
    {
     "data": {
      "text/plain": [
       "[Row(avg(Indice frequentation tout types de transports)=6.343244853399873)]"
      ]
     },
     "execution_count": 71,
     "metadata": {},
     "output_type": "execute_result"
    }
   ],
   "source": [
    "df_circulation_selectionne.filter(( df_circulation_selectionne.Annee == \"2018\") & (df_circulation_selectionne.Mois == \"Octobre\")).agg({'Indice frequentation tout types de transports': 'mean'}).collect()"
   ]
  },
  {
   "cell_type": "code",
   "execution_count": 72,
   "id": "d5205555",
   "metadata": {},
   "outputs": [
    {
     "name": "stderr",
     "output_type": "stream",
     "text": [
      "                                                                                \r"
     ]
    },
    {
     "data": {
      "text/plain": [
       "[Row(avg(Indice frequentation tout types de transports)=7.398750210575573)]"
      ]
     },
     "execution_count": 72,
     "metadata": {},
     "output_type": "execute_result"
    }
   ],
   "source": [
    "df_circulation_selectionne.filter(( df_circulation_selectionne.Annee == \"2018\") & (df_circulation_selectionne.Mois == \"Novembre\")).agg({'Indice frequentation tout types de transports': 'mean'}).collect()"
   ]
  },
  {
   "cell_type": "code",
   "execution_count": 73,
   "id": "27fb89d0",
   "metadata": {},
   "outputs": [
    {
     "name": "stderr",
     "output_type": "stream",
     "text": [
      "                                                                                \r"
     ]
    },
    {
     "data": {
      "text/plain": [
       "[Row(avg(Indice frequentation tout types de transports)=9.344762757330008)]"
      ]
     },
     "execution_count": 73,
     "metadata": {},
     "output_type": "execute_result"
    }
   ],
   "source": [
    "df_circulation_selectionne.filter(( df_circulation_selectionne.Annee == \"2018\") & (df_circulation_selectionne.Mois == \"Decembre\")).agg({'Indice frequentation tout types de transports': 'mean'}).collect()"
   ]
  },
  {
   "cell_type": "code",
   "execution_count": 74,
   "id": "11d01378",
   "metadata": {},
   "outputs": [
    {
     "data": {
      "text/plain": [
       "[Row(avg(Indice frequentation tout types de transports)=9.399346373420682)]"
      ]
     },
     "execution_count": 74,
     "metadata": {},
     "output_type": "execute_result"
    }
   ],
   "source": [
    "df_circulation_selectionne.filter(( df_circulation_selectionne.Annee == \"2019\") & (df_circulation_selectionne.Mois == \"Janvier\")).agg({'Indice frequentation tout types de transports': 'mean'}).collect()"
   ]
  },
  {
   "cell_type": "code",
   "execution_count": 75,
   "id": "27daab07",
   "metadata": {},
   "outputs": [
    {
     "name": "stderr",
     "output_type": "stream",
     "text": [
      "                                                                                \r"
     ]
    },
    {
     "data": {
      "text/plain": [
       "[Row(avg(Indice frequentation tout types de transports)=2.398980751832788)]"
      ]
     },
     "execution_count": 75,
     "metadata": {},
     "output_type": "execute_result"
    }
   ],
   "source": [
    "df_circulation_selectionne.filter(( df_circulation_selectionne.Annee == \"2019\") & (df_circulation_selectionne.Mois == \"Fevrier\")).agg({'Indice frequentation tout types de transports': 'mean'}).collect()"
   ]
  },
  {
   "cell_type": "code",
   "execution_count": 76,
   "id": "e9afc581",
   "metadata": {},
   "outputs": [
    {
     "data": {
      "text/plain": [
       "[Row(avg(Indice frequentation tout types de transports)=2.3987502105755736)]"
      ]
     },
     "execution_count": 76,
     "metadata": {},
     "output_type": "execute_result"
    }
   ],
   "source": [
    "df_circulation_selectionne.filter(( df_circulation_selectionne.Annee == \"2019\") & (df_circulation_selectionne.Mois == \"Mars\")).agg({'Indice frequentation tout types de transports': 'mean'}).collect()"
   ]
  },
  {
   "cell_type": "code",
   "execution_count": 77,
   "id": "b64ba114",
   "metadata": {},
   "outputs": [
    {
     "name": "stderr",
     "output_type": "stream",
     "text": [
      "                                                                                \r"
     ]
    },
    {
     "data": {
      "text/plain": [
       "[Row(avg(Indice frequentation tout types de transports)=2.400030978006551)]"
      ]
     },
     "execution_count": 77,
     "metadata": {},
     "output_type": "execute_result"
    }
   ],
   "source": [
    "df_circulation_selectionne.filter(( df_circulation_selectionne.Annee == \"2019\") & (df_circulation_selectionne.Mois == \"Avril\")).agg({'Indice frequentation tout types de transports': 'mean'}).collect()"
   ]
  },
  {
   "cell_type": "code",
   "execution_count": 78,
   "id": "4741645c",
   "metadata": {},
   "outputs": [
    {
     "data": {
      "text/plain": [
       "[Row(avg(Indice frequentation tout types de transports)=2.3976706598034636)]"
      ]
     },
     "execution_count": 78,
     "metadata": {},
     "output_type": "execute_result"
    }
   ],
   "source": [
    "df_circulation_selectionne.filter(( df_circulation_selectionne.Annee == \"2019\") & (df_circulation_selectionne.Mois == \"Mai\")).agg({'Indice frequentation tout types de transports': 'mean'}).collect()"
   ]
  },
  {
   "cell_type": "code",
   "execution_count": 79,
   "id": "e91f8780",
   "metadata": {},
   "outputs": [
    {
     "name": "stderr",
     "output_type": "stream",
     "text": [
      "                                                                                \r"
     ]
    },
    {
     "data": {
      "text/plain": [
       "[Row(avg(Indice frequentation tout types de transports)=1.4008586803930752)]"
      ]
     },
     "execution_count": 79,
     "metadata": {},
     "output_type": "execute_result"
    }
   ],
   "source": [
    "df_circulation_selectionne.filter(( df_circulation_selectionne.Annee == \"2019\") & (df_circulation_selectionne.Mois == \"Juin\")).agg({'Indice frequentation tout types de transports': 'mean'}).collect()"
   ]
  },
  {
   "cell_type": "code",
   "execution_count": 80,
   "id": "ae5d21d1",
   "metadata": {},
   "outputs": [
    {
     "data": {
      "text/plain": [
       "[Row(avg(Indice frequentation tout types de transports)=5.400004726251755)]"
      ]
     },
     "execution_count": 80,
     "metadata": {},
     "output_type": "execute_result"
    }
   ],
   "source": [
    "df_circulation_selectionne.filter(( df_circulation_selectionne.Annee == \"2019\") & (df_circulation_selectionne.Mois == \"Juillet\")).agg({'Indice frequentation tout types de transports': 'mean'}).collect()"
   ]
  },
  {
   "cell_type": "code",
   "execution_count": 81,
   "id": "53a1968f",
   "metadata": {},
   "outputs": [
    {
     "name": "stderr",
     "output_type": "stream",
     "text": [
      "                                                                                \r"
     ]
    },
    {
     "data": {
      "text/plain": [
       "[Row(avg(Indice frequentation tout types de transports)=8.399346373420682)]"
      ]
     },
     "execution_count": 81,
     "metadata": {},
     "output_type": "execute_result"
    }
   ],
   "source": [
    "df_circulation_selectionne.filter(( df_circulation_selectionne.Annee == \"2019\") & (df_circulation_selectionne.Mois == \"Aout\")).agg({'Indice frequentation tout types de transports': 'mean'}).collect()"
   ]
  },
  {
   "cell_type": "code",
   "execution_count": 82,
   "id": "b42b58f5",
   "metadata": {},
   "outputs": [
    {
     "data": {
      "text/plain": [
       "[Row(avg(Indice frequentation tout types de transports)=4.3986687412260155)]"
      ]
     },
     "execution_count": 82,
     "metadata": {},
     "output_type": "execute_result"
    }
   ],
   "source": [
    "df_circulation_selectionne.filter(( df_circulation_selectionne.Annee == \"2019\") & (df_circulation_selectionne.Mois == \"Septembre\")).agg({'Indice frequentation tout types de transports': 'mean'}).collect()"
   ]
  },
  {
   "cell_type": "code",
   "execution_count": 83,
   "id": "5c7561fd",
   "metadata": {},
   "outputs": [
    {
     "data": {
      "text/plain": [
       "[Row(avg(Indice frequentation tout types de transports)=6.343244853399873)]"
      ]
     },
     "execution_count": 83,
     "metadata": {},
     "output_type": "execute_result"
    }
   ],
   "source": [
    "df_circulation_selectionne.filter(( df_circulation_selectionne.Annee == \"2019\") & (df_circulation_selectionne.Mois == \"Octobre\")).agg({'Indice frequentation tout types de transports': 'mean'}).collect()"
   ]
  },
  {
   "cell_type": "code",
   "execution_count": 84,
   "id": "29ffcb8f",
   "metadata": {},
   "outputs": [
    {
     "name": "stderr",
     "output_type": "stream",
     "text": [
      "                                                                                \r"
     ]
    },
    {
     "data": {
      "text/plain": [
       "[Row(avg(Indice frequentation tout types de transports)=7.398750210575573)]"
      ]
     },
     "execution_count": 84,
     "metadata": {},
     "output_type": "execute_result"
    }
   ],
   "source": [
    "df_circulation_selectionne.filter(( df_circulation_selectionne.Annee == \"2019\") & (df_circulation_selectionne.Mois == \"Novembre\")).agg({'Indice frequentation tout types de transports': 'mean'}).collect()"
   ]
  },
  {
   "cell_type": "code",
   "execution_count": 85,
   "id": "26d60b89",
   "metadata": {},
   "outputs": [
    {
     "data": {
      "text/plain": [
       "[Row(avg(Indice frequentation tout types de transports)=9.344762757330008)]"
      ]
     },
     "execution_count": 85,
     "metadata": {},
     "output_type": "execute_result"
    }
   ],
   "source": [
    "df_circulation_selectionne.filter(( df_circulation_selectionne.Annee == \"2019\") & (df_circulation_selectionne.Mois == \"Decembre\")).agg({'Indice frequentation tout types de transports': 'mean'}).collect()"
   ]
  },
  {
   "cell_type": "code",
   "execution_count": 86,
   "id": "899ab89e",
   "metadata": {},
   "outputs": [
    {
     "name": "stderr",
     "output_type": "stream",
     "text": [
      "                                                                                \r"
     ]
    },
    {
     "data": {
      "text/plain": [
       "[Row(avg(Indice frequentation tout types de transports)=8.400894900187149)]"
      ]
     },
     "execution_count": 86,
     "metadata": {},
     "output_type": "execute_result"
    }
   ],
   "source": [
    "df_circulation_selectionne.filter(( df_circulation_selectionne.Annee == \"2020\") & (df_circulation_selectionne.Mois == \"Janvier\")).agg({'Indice frequentation tout types de transports': 'mean'}).collect()"
   ]
  },
  {
   "cell_type": "code",
   "execution_count": 87,
   "id": "1d01724d",
   "metadata": {},
   "outputs": [
    {
     "data": {
      "text/plain": [
       "[Row(avg(Indice frequentation tout types de transports)=5.401707019185774)]"
      ]
     },
     "execution_count": 87,
     "metadata": {},
     "output_type": "execute_result"
    }
   ],
   "source": [
    "df_circulation_selectionne.filter(( df_circulation_selectionne.Annee == \"2020\") & (df_circulation_selectionne.Mois == \"Fevrier\")).agg({'Indice frequentation tout types de transports': 'mean'}).collect()"
   ]
  },
  {
   "cell_type": "code",
   "execution_count": 88,
   "id": "8020c225",
   "metadata": {},
   "outputs": [
    {
     "name": "stderr",
     "output_type": "stream",
     "text": [
      "                                                                                \r"
     ]
    },
    {
     "data": {
      "text/plain": [
       "[Row(avg(Indice frequentation tout types de transports)=0.2246250000000002)]"
      ]
     },
     "execution_count": 88,
     "metadata": {},
     "output_type": "execute_result"
    }
   ],
   "source": [
    "df_circulation_selectionne.filter(( df_circulation_selectionne.Annee == \"2020\") & (df_circulation_selectionne.Mois == \"Mars\")).agg({'Indice frequentation tout types de transports': 'mean'}).collect()"
   ]
  },
  {
   "cell_type": "code",
   "execution_count": 89,
   "id": "9192fae9",
   "metadata": {},
   "outputs": [
    {
     "data": {
      "text/plain": [
       "[Row(avg(Indice frequentation tout types de transports)=0.5070718577445013)]"
      ]
     },
     "execution_count": 89,
     "metadata": {},
     "output_type": "execute_result"
    }
   ],
   "source": [
    "df_circulation_selectionne.filter(( df_circulation_selectionne.Annee == \"2020\") & (df_circulation_selectionne.Mois == \"Avril\")).agg({'Indice frequentation tout types de transports': 'mean'}).collect()"
   ]
  },
  {
   "cell_type": "code",
   "execution_count": 90,
   "id": "cbbee745",
   "metadata": {},
   "outputs": [
    {
     "name": "stderr",
     "output_type": "stream",
     "text": [
      "                                                                                \r"
     ]
    },
    {
     "data": {
      "text/plain": [
       "[Row(avg(Indice frequentation tout types de transports)=0.16051000000000012)]"
      ]
     },
     "execution_count": 90,
     "metadata": {},
     "output_type": "execute_result"
    }
   ],
   "source": [
    "df_circulation_selectionne.filter(( df_circulation_selectionne.Annee == \"2020\") & (df_circulation_selectionne.Mois == \"Mai\")).agg({'Indice frequentation tout types de transports': 'mean'}).collect()"
   ]
  },
  {
   "cell_type": "code",
   "execution_count": 91,
   "id": "39b90792",
   "metadata": {},
   "outputs": [
    {
     "data": {
      "text/plain": [
       "[Row(avg(Indice frequentation tout types de transports)=0.507634510996724)]"
      ]
     },
     "execution_count": 91,
     "metadata": {},
     "output_type": "execute_result"
    }
   ],
   "source": [
    "df_circulation_selectionne.filter(( df_circulation_selectionne.Annee == \"2020\") & (df_circulation_selectionne.Mois == \"Juin\")).agg({'Indice frequentation tout types de transports': 'mean'}).collect()"
   ]
  },
  {
   "cell_type": "code",
   "execution_count": 92,
   "id": "c42bfcf2",
   "metadata": {},
   "outputs": [
    {
     "data": {
      "text/plain": [
       "[Row(avg(Indice frequentation tout types de transports)=0.3995444548432385)]"
      ]
     },
     "execution_count": 92,
     "metadata": {},
     "output_type": "execute_result"
    }
   ],
   "source": [
    "df_circulation_selectionne.filter(( df_circulation_selectionne.Annee == \"2020\") & (df_circulation_selectionne.Mois == \"Juillet\")).agg({'Indice frequentation tout types de transports': 'mean'}).collect()"
   ]
  },
  {
   "cell_type": "code",
   "execution_count": 93,
   "id": "8aa31fed",
   "metadata": {},
   "outputs": [
    {
     "name": "stderr",
     "output_type": "stream",
     "text": [
      "                                                                                \r"
     ]
    },
    {
     "data": {
      "text/plain": [
       "[Row(avg(Indice frequentation tout types de transports)=0.3999525970987367)]"
      ]
     },
     "execution_count": 93,
     "metadata": {},
     "output_type": "execute_result"
    }
   ],
   "source": [
    "df_circulation_selectionne.filter(( df_circulation_selectionne.Annee == \"2020\") & (df_circulation_selectionne.Mois == \"Aout\")).agg({'Indice frequentation tout types de transports': 'mean'}).collect()"
   ]
  },
  {
   "cell_type": "code",
   "execution_count": 94,
   "id": "66dfc07f",
   "metadata": {},
   "outputs": [
    {
     "name": "stderr",
     "output_type": "stream",
     "text": [
      "                                                                                \r"
     ]
    },
    {
     "data": {
      "text/plain": [
       "[Row(avg(Indice frequentation tout types de transports)=0.40092999999999746)]"
      ]
     },
     "execution_count": 94,
     "metadata": {},
     "output_type": "execute_result"
    }
   ],
   "source": [
    "df_circulation_selectionne.filter(( df_circulation_selectionne.Annee == \"2020\") & (df_circulation_selectionne.Mois == \"Septembre\")).agg({'Indice frequentation tout types de transports': 'mean'}).collect()"
   ]
  },
  {
   "cell_type": "code",
   "execution_count": 95,
   "id": "0d19fc61",
   "metadata": {},
   "outputs": [
    {
     "name": "stderr",
     "output_type": "stream",
     "text": [
      "                                                                                \r"
     ]
    },
    {
     "data": {
      "text/plain": [
       "[Row(avg(Indice frequentation tout types de transports)=0.3448349999999997)]"
      ]
     },
     "execution_count": 95,
     "metadata": {},
     "output_type": "execute_result"
    }
   ],
   "source": [
    "df_circulation_selectionne.filter(( df_circulation_selectionne.Annee == \"2020\") & (df_circulation_selectionne.Mois == \"Octobre\")).agg({'Indice frequentation tout types de transports': 'mean'}).collect()"
   ]
  },
  {
   "cell_type": "code",
   "execution_count": 96,
   "id": "cc866ddd",
   "metadata": {},
   "outputs": [
    {
     "data": {
      "text/plain": [
       "[Row(avg(Indice frequentation tout types de transports)=0.2887400000000006)]"
      ]
     },
     "execution_count": 96,
     "metadata": {},
     "output_type": "execute_result"
    }
   ],
   "source": [
    "df_circulation_selectionne.filter(( df_circulation_selectionne.Annee == \"2020\") & (df_circulation_selectionne.Mois == \"Novembre\")).agg({'Indice frequentation tout types de transports': 'mean'}).collect()"
   ]
  },
  {
   "cell_type": "code",
   "execution_count": 97,
   "id": "853e11a7",
   "metadata": {},
   "outputs": [
    {
     "name": "stderr",
     "output_type": "stream",
     "text": [
      "                                                                                \r"
     ]
    },
    {
     "data": {
      "text/plain": [
       "[Row(avg(Indice frequentation tout types de transports)=0.3446641222961731)]"
      ]
     },
     "execution_count": 97,
     "metadata": {},
     "output_type": "execute_result"
    }
   ],
   "source": [
    "df_circulation_selectionne.filter(( df_circulation_selectionne.Annee == \"2020\") & (df_circulation_selectionne.Mois == \"Decembre\")).agg({'Indice frequentation tout types de transports': 'mean'}).collect()"
   ]
  },
  {
   "cell_type": "code",
   "execution_count": 98,
   "id": "024ebd42",
   "metadata": {},
   "outputs": [
    {
     "data": {
      "text/plain": [
       "[Row(avg(Indice frequentation tout types de transports)=0.5072540003119147)]"
      ]
     },
     "execution_count": 98,
     "metadata": {},
     "output_type": "execute_result"
    }
   ],
   "source": [
    "df_circulation_selectionne.filter(( df_circulation_selectionne.Annee == \"2021\") & (df_circulation_selectionne.Mois == \"Janvier\")).agg({'Indice frequentation tout types de transports': 'mean'}).collect()"
   ]
  },
  {
   "cell_type": "code",
   "execution_count": 99,
   "id": "7cda3a64",
   "metadata": {},
   "outputs": [
    {
     "name": "stderr",
     "output_type": "stream",
     "text": [
      "                                                                                \r"
     ]
    },
    {
     "data": {
      "text/plain": [
       "[Row(avg(Indice frequentation tout types de transports)=0.39978694431445977)]"
      ]
     },
     "execution_count": 99,
     "metadata": {},
     "output_type": "execute_result"
    }
   ],
   "source": [
    "df_circulation_selectionne.filter(( df_circulation_selectionne.Annee == \"2021\") & (df_circulation_selectionne.Mois == \"Fevrier\")).agg({'Indice frequentation tout types de transports': 'mean'}).collect()"
   ]
  },
  {
   "cell_type": "code",
   "execution_count": 100,
   "id": "b96a7c48",
   "metadata": {},
   "outputs": [
    {
     "data": {
      "text/plain": [
       "[Row(avg(Indice frequentation tout types de transports)=0.5024876247660633)]"
      ]
     },
     "execution_count": 100,
     "metadata": {},
     "output_type": "execute_result"
    }
   ],
   "source": [
    "df_circulation_selectionne.filter(( df_circulation_selectionne.Annee == \"2021\") & (df_circulation_selectionne.Mois == \"Mars\")).agg({'Indice frequentation tout types de transports': 'mean'}).collect()"
   ]
  },
  {
   "cell_type": "code",
   "execution_count": 101,
   "id": "06b00679",
   "metadata": {},
   "outputs": [
    {
     "name": "stderr",
     "output_type": "stream",
     "text": [
      "                                                                                \r"
     ]
    },
    {
     "data": {
      "text/plain": [
       "[Row(avg(Indice frequentation tout types de transports)=0.40045938231165185)]"
      ]
     },
     "execution_count": 101,
     "metadata": {},
     "output_type": "execute_result"
    }
   ],
   "source": [
    "df_circulation_selectionne.filter(( df_circulation_selectionne.Annee == \"2021\") & (df_circulation_selectionne.Mois == \"Avril\")).agg({'Indice frequentation tout types de transports': 'mean'}).collect()"
   ]
  },
  {
   "cell_type": "code",
   "execution_count": 102,
   "id": "d6d79b0f",
   "metadata": {},
   "outputs": [
    {
     "name": "stderr",
     "output_type": "stream",
     "text": [
      "                                                                                \r"
     ]
    },
    {
     "data": {
      "text/plain": [
       "[Row(avg(Indice frequentation tout types de transports)=0.4004937295273748)]"
      ]
     },
     "execution_count": 102,
     "metadata": {},
     "output_type": "execute_result"
    }
   ],
   "source": [
    "df_circulation_selectionne.filter(( df_circulation_selectionne.Annee == \"2021\") & (df_circulation_selectionne.Mois == \"Mai\")).agg({'Indice frequentation tout types de transports': 'mean'}).collect()"
   ]
  },
  {
   "cell_type": "code",
   "execution_count": 103,
   "id": "872d7861",
   "metadata": {},
   "outputs": [
    {
     "data": {
      "text/plain": [
       "[Row(avg(Indice frequentation tout types de transports)=4.508517290594292)]"
      ]
     },
     "execution_count": 103,
     "metadata": {},
     "output_type": "execute_result"
    }
   ],
   "source": [
    "df_circulation_selectionne.filter(( df_circulation_selectionne.Annee == \"2021\") & (df_circulation_selectionne.Mois == \"Juin\")).agg({'Indice frequentation tout types de transports': 'mean'}).collect()"
   ]
  },
  {
   "cell_type": "code",
   "execution_count": 104,
   "id": "8bc583cd",
   "metadata": {},
   "outputs": [
    {
     "name": "stderr",
     "output_type": "stream",
     "text": [
      "                                                                                \r"
     ]
    },
    {
     "data": {
      "text/plain": [
       "[Row(avg(Indice frequentation tout types de transports)=4.398750210575571)]"
      ]
     },
     "execution_count": 104,
     "metadata": {},
     "output_type": "execute_result"
    }
   ],
   "source": [
    "df_circulation_selectionne.filter(( df_circulation_selectionne.Annee == \"2021\") & (df_circulation_selectionne.Mois == \"Juillet\")).agg({'Indice frequentation tout types de transports': 'mean'}).collect()"
   ]
  },
  {
   "cell_type": "code",
   "execution_count": 105,
   "id": "5659494d",
   "metadata": {},
   "outputs": [
    {
     "data": {
      "text/plain": [
       "[Row(avg(Indice frequentation tout types de transports)=5.3983868039307445)]"
      ]
     },
     "execution_count": 105,
     "metadata": {},
     "output_type": "execute_result"
    }
   ],
   "source": [
    "df_circulation_selectionne.filter(( df_circulation_selectionne.Annee == \"2021\") & (df_circulation_selectionne.Mois == \"Aout\")).agg({'Indice frequentation tout types de transports': 'mean'}).collect()"
   ]
  },
  {
   "cell_type": "code",
   "execution_count": 106,
   "id": "ae34654d",
   "metadata": {},
   "outputs": [
    {
     "data": {
      "text/plain": [
       "[Row(avg(Indice frequentation tout types de transports)=4.397670659803461)]"
      ]
     },
     "execution_count": 106,
     "metadata": {},
     "output_type": "execute_result"
    }
   ],
   "source": [
    "df_circulation_selectionne.filter(( df_circulation_selectionne.Annee == \"2021\") & (df_circulation_selectionne.Mois == \"Septembre\")).agg({'Indice frequentation tout types de transports': 'mean'}).collect()"
   ]
  },
  {
   "cell_type": "code",
   "execution_count": 107,
   "id": "a0d465ee",
   "metadata": {},
   "outputs": [
    {
     "name": "stderr",
     "output_type": "stream",
     "text": [
      "                                                                                \r"
     ]
    },
    {
     "data": {
      "text/plain": [
       "[Row(avg(Indice frequentation tout types de transports)=6.631403213394343)]"
      ]
     },
     "execution_count": 107,
     "metadata": {},
     "output_type": "execute_result"
    }
   ],
   "source": [
    "df_circulation_selectionne.filter(( df_circulation_selectionne.Annee == \"2021\") & (df_circulation_selectionne.Mois == \"Octobre\")).agg({'Indice frequentation tout types de transports': 'mean'}).collect()"
   ]
  },
  {
   "cell_type": "code",
   "execution_count": 108,
   "id": "37006bb1",
   "metadata": {},
   "outputs": [
    {
     "data": {
      "text/plain": [
       "[Row(avg(Indice frequentation tout types de transports)=6.400823631258774)]"
      ]
     },
     "execution_count": 108,
     "metadata": {},
     "output_type": "execute_result"
    }
   ],
   "source": [
    "df_circulation_selectionne.filter(( df_circulation_selectionne.Annee == \"2021\") & (df_circulation_selectionne.Mois == \"Novembre\")).agg({'Indice frequentation tout types de transports': 'mean'}).collect()"
   ]
  },
  {
   "cell_type": "code",
   "execution_count": 109,
   "id": "b549609a",
   "metadata": {},
   "outputs": [
    {
     "name": "stderr",
     "output_type": "stream",
     "text": [
      "                                                                                \r"
     ]
    },
    {
     "data": {
      "text/plain": [
       "[Row(avg(Indice frequentation tout types de transports)=9.345468698003327)]"
      ]
     },
     "execution_count": 109,
     "metadata": {},
     "output_type": "execute_result"
    }
   ],
   "source": [
    "df_circulation_selectionne.filter(( df_circulation_selectionne.Annee == \"2021\") & (df_circulation_selectionne.Mois == \"Decembre\")).agg({'Indice frequentation tout types de transports': 'mean'}).collect()"
   ]
  },
  {
   "cell_type": "code",
   "execution_count": 122,
   "id": "c35e72e6",
   "metadata": {},
   "outputs": [
    {
     "name": "stdout",
     "output_type": "stream",
     "text": [
      "lieux_2018.csv\tlieux_2020.csv\tlieux_global.csv\n",
      "lieux_2019.csv\tlieux_2021.csv\n"
     ]
    }
   ],
   "source": [
    "!ls ./dataa/accident_de_la_route"
   ]
  },
  {
   "cell_type": "code",
   "execution_count": 128,
   "id": "cb31d5f3",
   "metadata": {},
   "outputs": [],
   "source": [
    "from pyspark.sql.types import *\n",
    "from pyspark.sql       import functions as F\n",
    "from pyspark.sql.types     import *\n",
    "from pyspark.sql.functions import udf"
   ]
  },
  {
   "cell_type": "markdown",
   "id": "543d23fb",
   "metadata": {},
   "source": [
    "3) Création et traitement sur le dataframe accident : "
   ]
  },
  {
   "cell_type": "code",
   "execution_count": 136,
   "id": "4cd746b1",
   "metadata": {},
   "outputs": [
    {
     "name": "stdout",
     "output_type": "stream",
     "text": [
      "+-----+--------+----+-----+----+---+----+----+---+---+---+----+----+----+------+-------+----+-----+----+----+\n",
      "|Annee| Num_Acc|Mois| Lieu|catr| v1|  v2|circ|nbv| pr|pr1|vosp|prof|plan|lartpc|larrout|surf|infra|situ|env1|\n",
      "+-----+--------+----+-----+----+---+----+----+---+---+---+----+----+----+------+-------+----+-----+----+----+\n",
      "| 2019|2,02E+11|Aout|Paris|   1|  0|null|   3| 10|  0|  1|   6| 900|   2|  null|   null|   1|    2|   1|  70|\n",
      "| 2019|2,02E+11|Aout|Paris|   4|  0|null|   2|  7|  2|  1|  -1|  -1|   1|  null|   null|   1|    5|   1|  50|\n",
      "| 2019|2,02E+11|Aout|Paris|   4|  0|null|   1|  2|  1|  1|  -1|  -1|   1|  null|   null|   2|    0|   1|  50|\n",
      "| 2019|2,02E+11|Aout|Paris|   4|  0|null|   2|  4|  0|  1|   0|   0|   1|  null|   null|   1|    0|   1|  50|\n",
      "| 2019|2,02E+11|Aout|Paris|   4|  0|null|   2|  4|  2|  1|  -1|  -1|   1|  null|   null|   1|    0|   1|  50|\n",
      "| 2019|2,02E+11|Aout|Paris|   4|  0|null|   3|  8| -1|  1|  -1|  -1|   1|  null|   null|   2|    0|   8|  50|\n",
      "| 2019|2,02E+11|Aout|Paris|   4|  0|null|   3| 10| -1|  2|  -1|  -1|   3|  null|   null|   2|    0|   1|  70|\n",
      "| 2019|2,02E+11|Aout|Paris|   4|  0|null|   2|  2|  0|  1|  -1|  -1|   1|  null|   null|   2|    0|   1|  50|\n",
      "| 2019|2,02E+11|Aout|Paris|   4|  0|null|   3|  6|  0|  1|   0|   0|   1|  null|   null|   2|    0|   1|  50|\n",
      "| 2019|2,02E+11|Aout|Paris|   3|  0|null|   2|  2|  0|  1|   0|   0|   1|  null|   null|   2|    0|   1|  50|\n",
      "| 2019|2,02E+11|Aout|Paris|   4|  0|null|   2|  2|  0|  1|   0|   0|   1|  null|   null|   1|    0|   1|  50|\n",
      "| 2019|2,02E+11|Aout|Paris|   2|  0|null|   1|  2|  0|  2|  53| 500|   3|  null|   null|   2|    9|   1| 110|\n",
      "| 2019|2,02E+11|Aout|Paris|   4|  0|null|   2|  2|  0|  2|   0|   0|   1|  null|   null|   2|    0|   1|  30|\n",
      "| 2019|2,02E+11|Aout|Paris|   4|  0|null|   2|  2|  0|  3|   0|   0|   1|  null|   null|   2|    0|   1|  50|\n",
      "| 2019|2,02E+11|Aout|Paris|   4|  0|null|  -1|  1|  0|  1|   1|   0|   2|  null|   null|   1|    0|   1|  50|\n",
      "| 2019|2,02E+11|Aout|Paris|   4|  0|null|   2|  2|  0|  1|   0|   0|   1|  null|   null|   2|    0|   1|  50|\n",
      "| 2019|2,02E+11|Aout|Paris|   5|  0|null|   2|  2|  0|  1|   0|   0|   1|  null|   null|   2|    0|   1|  50|\n",
      "| 2019|2,02E+11|Aout|Paris|   4|  0|null|   2|  0|  0|  1|   0|   0|   1|  null|   null|   1|    0|   1|  50|\n",
      "| 2019|2,02E+11|Aout|Paris|   4|  0|null|  -1|  2|  0|  2|   1|   0|   2|  null|   null|   2|    0|   1|  30|\n",
      "| 2019|2,02E+11|Aout|Paris|   4|  0|null|   2|  2|  0|  1|1234|   0|   1|  null|   null|   1|    0|   1|  50|\n",
      "+-----+--------+----+-----+----+---+----+----+---+---+---+----+----+----+------+-------+----+-----+----+----+\n",
      "only showing top 20 rows\n",
      "\n"
     ]
    }
   ],
   "source": [
    "path  = 'hdfs://namenode:9000/ma_base/accident/'\n",
    "dataframe_accident = spark.read.format('csv').options(header=True, sep=\";\" , encoding = \"ISO-8859-1\").load(path)\n",
    "dataframe_accident.show()\n"
   ]
  },
  {
   "cell_type": "code",
   "execution_count": 260,
   "id": "15e8e1b5",
   "metadata": {},
   "outputs": [
    {
     "name": "stderr",
     "output_type": "stream",
     "text": [
      "                                                                                \r"
     ]
    },
    {
     "name": "stdout",
     "output_type": "stream",
     "text": [
      "+-------+-------+--------------------+------------------+-----------------+\n",
      "|summary|summary|                  v1|                v2|             env1|\n",
      "+-------+-------+--------------------+------------------+-----------------+\n",
      "|  count|      5|                   5|                 5|                5|\n",
      "|   mean|   null|  14657.048878346692|12240.438656616983|24964.79458152534|\n",
      "| stddev|   null|   32772.90302211465|21192.993796125575|55722.94032168944|\n",
      "|    min|  count|-0.06365732843906499|                 -|               -1|\n",
      "|    max| stddev|               73283|                 z|               99|\n",
      "+-------+-------+--------------------+------------------+-----------------+\n",
      "\n"
     ]
    }
   ],
   "source": [
    "dataframe_accident.describe([\"v1\", \"v2\", \"env1\"]).describe().show()"
   ]
  },
  {
   "cell_type": "code",
   "execution_count": 137,
   "id": "b4f42a84",
   "metadata": {},
   "outputs": [
    {
     "name": "stdout",
     "output_type": "stream",
     "text": [
      "+-----+--------+----+-----+\n",
      "|Annee| Num_Acc|Mois| Lieu|\n",
      "+-----+--------+----+-----+\n",
      "| 2019|2,02E+11|Aout|Paris|\n",
      "| 2019|2,02E+11|Aout|Paris|\n",
      "| 2019|2,02E+11|Aout|Paris|\n",
      "| 2019|2,02E+11|Aout|Paris|\n",
      "| 2019|2,02E+11|Aout|Paris|\n",
      "+-----+--------+----+-----+\n",
      "only showing top 5 rows\n",
      "\n"
     ]
    },
    {
     "data": {
      "text/plain": [
       "125027"
      ]
     },
     "execution_count": 137,
     "metadata": {},
     "output_type": "execute_result"
    }
   ],
   "source": [
    "df_accident_selectionne = dataframe_accident.select(\"Annee\" , \"Num_Acc\" , \"Mois\" , \"Lieu\")\n",
    "df_accident_selectionne.show(5)\n",
    "df_accident_selectionne.count()"
   ]
  },
  {
   "cell_type": "code",
   "execution_count": 264,
   "id": "680654ef",
   "metadata": {},
   "outputs": [
    {
     "name": "stdout",
     "output_type": "stream",
     "text": [
      "+-----+--------+----+-----+\n",
      "|Annee| Num_Acc|Mois| Lieu|\n",
      "+-----+--------+----+-----+\n",
      "| 2021|2,02E+11|Aout|Paris|\n",
      "| 2021|2,02E+11|Aout|Paris|\n",
      "+-----+--------+----+-----+\n",
      "only showing top 2 rows\n",
      "\n"
     ]
    }
   ],
   "source": [
    "df_accident_selectionne.filter(df_accident_selectionne.Annee == \"2021\").show(2)"
   ]
  },
  {
   "cell_type": "code",
   "execution_count": 265,
   "id": "a42c1705",
   "metadata": {},
   "outputs": [
    {
     "data": {
      "text/plain": [
       "4803"
      ]
     },
     "execution_count": 265,
     "metadata": {},
     "output_type": "execute_result"
    }
   ],
   "source": [
    "df_accident_selectionne.filter((df_accident_selectionne.Annee == \"2018\") & (df_accident_selectionne.Mois == \"Janvier \")).count()"
   ]
  },
  {
   "cell_type": "code",
   "execution_count": 140,
   "id": "34fab05a",
   "metadata": {},
   "outputs": [
    {
     "data": {
      "text/plain": [
       "3630"
      ]
     },
     "execution_count": 140,
     "metadata": {},
     "output_type": "execute_result"
    }
   ],
   "source": [
    "df_accident_selectionne.filter((df_accident_selectionne.Annee == \"2018\") & (df_accident_selectionne.Mois == \"Fevrier \")).count()"
   ]
  },
  {
   "cell_type": "code",
   "execution_count": 141,
   "id": "b5594c75",
   "metadata": {},
   "outputs": [
    {
     "data": {
      "text/plain": [
       "2886"
      ]
     },
     "execution_count": 141,
     "metadata": {},
     "output_type": "execute_result"
    }
   ],
   "source": [
    "df_accident_selectionne.filter((df_accident_selectionne.Annee == \"2018\") & (df_accident_selectionne.Mois == \"Mars \")).count()"
   ]
  },
  {
   "cell_type": "code",
   "execution_count": 142,
   "id": "152517a2",
   "metadata": {},
   "outputs": [
    {
     "data": {
      "text/plain": [
       "4561"
      ]
     },
     "execution_count": 142,
     "metadata": {},
     "output_type": "execute_result"
    }
   ],
   "source": [
    "\n",
    "df_accident_selectionne.filter((df_accident_selectionne.Annee == \"2018\") & (df_accident_selectionne.Mois == \"Avril\")).count()\n"
   ]
  },
  {
   "cell_type": "code",
   "execution_count": 143,
   "id": "8da0db1e",
   "metadata": {},
   "outputs": [
    {
     "data": {
      "text/plain": [
       "3635"
      ]
     },
     "execution_count": 143,
     "metadata": {},
     "output_type": "execute_result"
    }
   ],
   "source": [
    "df_accident_selectionne.filter((df_accident_selectionne.Annee == \"2018\") & (df_accident_selectionne.Mois == \"Mai \")).count()\n"
   ]
  },
  {
   "cell_type": "code",
   "execution_count": 144,
   "id": "39374365",
   "metadata": {},
   "outputs": [
    {
     "data": {
      "text/plain": [
       "2623"
      ]
     },
     "execution_count": 144,
     "metadata": {},
     "output_type": "execute_result"
    }
   ],
   "source": [
    "df_accident_selectionne.filter((df_accident_selectionne.Annee == \"2018\") & (df_accident_selectionne.Mois == \"Juin\")).count()\n"
   ]
  },
  {
   "cell_type": "code",
   "execution_count": 145,
   "id": "e7ed7122",
   "metadata": {},
   "outputs": [
    {
     "data": {
      "text/plain": [
       "417"
      ]
     },
     "execution_count": 145,
     "metadata": {},
     "output_type": "execute_result"
    }
   ],
   "source": [
    "df_accident_selectionne.filter((df_accident_selectionne.Annee == \"2018\") & (df_accident_selectionne.Mois == \"Juillet\")).count()\n"
   ]
  },
  {
   "cell_type": "code",
   "execution_count": 146,
   "id": "4785b9d7",
   "metadata": {},
   "outputs": [
    {
     "data": {
      "text/plain": [
       "4726"
      ]
     },
     "execution_count": 146,
     "metadata": {},
     "output_type": "execute_result"
    }
   ],
   "source": [
    "df_accident_selectionne.filter((df_accident_selectionne.Annee == \"2018\") & (df_accident_selectionne.Mois == \"Aout\")).count()\n"
   ]
  },
  {
   "cell_type": "code",
   "execution_count": 147,
   "id": "a36e3509",
   "metadata": {},
   "outputs": [
    {
     "data": {
      "text/plain": [
       "4592"
      ]
     },
     "execution_count": 147,
     "metadata": {},
     "output_type": "execute_result"
    }
   ],
   "source": [
    "df_accident_selectionne.filter((df_accident_selectionne.Annee == \"2018\") & (df_accident_selectionne.Mois == \"Septembre\")).count()\n"
   ]
  },
  {
   "cell_type": "code",
   "execution_count": 148,
   "id": "c63dff70",
   "metadata": {},
   "outputs": [
    {
     "data": {
      "text/plain": [
       "1651"
      ]
     },
     "execution_count": 148,
     "metadata": {},
     "output_type": "execute_result"
    }
   ],
   "source": [
    "df_accident_selectionne.filter((df_accident_selectionne.Annee == \"2018\") & (df_accident_selectionne.Mois == \"Octobre\")).count()"
   ]
  },
  {
   "cell_type": "code",
   "execution_count": 149,
   "id": "2d62ff52",
   "metadata": {},
   "outputs": [
    {
     "data": {
      "text/plain": [
       "3931"
      ]
     },
     "execution_count": 149,
     "metadata": {},
     "output_type": "execute_result"
    }
   ],
   "source": [
    "\n",
    "df_accident_selectionne.filter((df_accident_selectionne.Annee == \"2018\") & (df_accident_selectionne.Mois == \"Novembre\")).count()"
   ]
  },
  {
   "cell_type": "code",
   "execution_count": 150,
   "id": "06c097f5",
   "metadata": {},
   "outputs": [
    {
     "data": {
      "text/plain": [
       "4763"
      ]
     },
     "execution_count": 150,
     "metadata": {},
     "output_type": "execute_result"
    }
   ],
   "source": [
    "\n",
    "df_accident_selectionne.filter((df_accident_selectionne.Annee == \"2018\") & (df_accident_selectionne.Mois == \"Decembre\")).count()"
   ]
  },
  {
   "cell_type": "code",
   "execution_count": 151,
   "id": "1512481d",
   "metadata": {},
   "outputs": [
    {
     "data": {
      "text/plain": [
       "5719"
      ]
     },
     "execution_count": 151,
     "metadata": {},
     "output_type": "execute_result"
    }
   ],
   "source": [
    "df_accident_selectionne.filter((df_accident_selectionne.Annee == \"2019\") & (df_accident_selectionne.Mois == \"Janvier \")).count()"
   ]
  },
  {
   "cell_type": "code",
   "execution_count": 152,
   "id": "efe65f19",
   "metadata": {},
   "outputs": [
    {
     "data": {
      "text/plain": [
       "2432"
      ]
     },
     "execution_count": 152,
     "metadata": {},
     "output_type": "execute_result"
    }
   ],
   "source": [
    "\n",
    "df_accident_selectionne.filter((df_accident_selectionne.Annee == \"2019\") & (df_accident_selectionne.Mois == \"Fevrier \")).count()"
   ]
  },
  {
   "cell_type": "code",
   "execution_count": 153,
   "id": "fe2a2b77",
   "metadata": {},
   "outputs": [
    {
     "data": {
      "text/plain": [
       "5306"
      ]
     },
     "execution_count": 153,
     "metadata": {},
     "output_type": "execute_result"
    }
   ],
   "source": [
    "\n",
    "df_accident_selectionne.filter((df_accident_selectionne.Annee == \"2019\") & (df_accident_selectionne.Mois == \"Mars \")).count()"
   ]
  },
  {
   "cell_type": "code",
   "execution_count": 154,
   "id": "0520b784",
   "metadata": {},
   "outputs": [
    {
     "data": {
      "text/plain": [
       "5884"
      ]
     },
     "execution_count": 154,
     "metadata": {},
     "output_type": "execute_result"
    }
   ],
   "source": [
    "\n",
    "df_accident_selectionne.filter((df_accident_selectionne.Annee == \"2019\") & (df_accident_selectionne.Mois == \"Avril\")).count()"
   ]
  },
  {
   "cell_type": "code",
   "execution_count": 155,
   "id": "117220c1",
   "metadata": {},
   "outputs": [
    {
     "data": {
      "text/plain": [
       "5541"
      ]
     },
     "execution_count": 155,
     "metadata": {},
     "output_type": "execute_result"
    }
   ],
   "source": [
    "\n",
    "df_accident_selectionne.filter((df_accident_selectionne.Annee == \"2019\") & (df_accident_selectionne.Mois == \"Mai \")).count()"
   ]
  },
  {
   "cell_type": "code",
   "execution_count": 156,
   "id": "4fff553b",
   "metadata": {},
   "outputs": [
    {
     "data": {
      "text/plain": [
       "2689"
      ]
     },
     "execution_count": 156,
     "metadata": {},
     "output_type": "execute_result"
    }
   ],
   "source": [
    "\n",
    "df_accident_selectionne.filter((df_accident_selectionne.Annee == \"2019\") & (df_accident_selectionne.Mois == \"Juin\")).count()\n"
   ]
  },
  {
   "cell_type": "code",
   "execution_count": 157,
   "id": "75e8a3dd",
   "metadata": {},
   "outputs": [
    {
     "data": {
      "text/plain": [
       "5633"
      ]
     },
     "execution_count": 157,
     "metadata": {},
     "output_type": "execute_result"
    }
   ],
   "source": [
    "df_accident_selectionne.filter((df_accident_selectionne.Annee == \"2019\") & (df_accident_selectionne.Mois == \"Juillet\")).count()"
   ]
  },
  {
   "cell_type": "code",
   "execution_count": 158,
   "id": "f4dd8a4a",
   "metadata": {},
   "outputs": [
    {
     "data": {
      "text/plain": [
       "2847"
      ]
     },
     "execution_count": 158,
     "metadata": {},
     "output_type": "execute_result"
    }
   ],
   "source": [
    "\n",
    "df_accident_selectionne.filter((df_accident_selectionne.Annee == \"2019\") & (df_accident_selectionne.Mois == \"Aout\")).count()"
   ]
  },
  {
   "cell_type": "code",
   "execution_count": 159,
   "id": "ae0c994b",
   "metadata": {},
   "outputs": [
    {
     "data": {
      "text/plain": [
       "5547"
      ]
     },
     "execution_count": 159,
     "metadata": {},
     "output_type": "execute_result"
    }
   ],
   "source": [
    "\n",
    "df_accident_selectionne.filter((df_accident_selectionne.Annee == \"2019\") & (df_accident_selectionne.Mois == \"Septembre\")).count()"
   ]
  },
  {
   "cell_type": "code",
   "execution_count": 160,
   "id": "bf01e670",
   "metadata": {},
   "outputs": [
    {
     "data": {
      "text/plain": [
       "2942"
      ]
     },
     "execution_count": 160,
     "metadata": {},
     "output_type": "execute_result"
    }
   ],
   "source": [
    "\n",
    "df_accident_selectionne.filter((df_accident_selectionne.Annee == \"2019\") & (df_accident_selectionne.Mois == \"Octobre\")).count()"
   ]
  },
  {
   "cell_type": "code",
   "execution_count": 161,
   "id": "ae16dff5",
   "metadata": {},
   "outputs": [
    {
     "data": {
      "text/plain": [
       "4618"
      ]
     },
     "execution_count": 161,
     "metadata": {},
     "output_type": "execute_result"
    }
   ],
   "source": [
    "\n",
    "df_accident_selectionne.filter((df_accident_selectionne.Annee == \"2019\") & (df_accident_selectionne.Mois == \"Novembre\")).count()"
   ]
  },
  {
   "cell_type": "code",
   "execution_count": 162,
   "id": "c563a3e5",
   "metadata": {},
   "outputs": [
    {
     "data": {
      "text/plain": [
       "2942"
      ]
     },
     "execution_count": 162,
     "metadata": {},
     "output_type": "execute_result"
    }
   ],
   "source": [
    "\n",
    "df_accident_selectionne.filter((df_accident_selectionne.Annee == \"2019\") & (df_accident_selectionne.Mois == \"Decembre\")).count()"
   ]
  },
  {
   "cell_type": "code",
   "execution_count": 163,
   "id": "99313c48",
   "metadata": {},
   "outputs": [
    {
     "data": {
      "text/plain": [
       "4341"
      ]
     },
     "execution_count": 163,
     "metadata": {},
     "output_type": "execute_result"
    }
   ],
   "source": [
    "df_accident_selectionne.filter((df_accident_selectionne.Annee == \"2020\") & (df_accident_selectionne.Mois == \"Janvier \")).count()"
   ]
  },
  {
   "cell_type": "code",
   "execution_count": 164,
   "id": "527bc7fd",
   "metadata": {},
   "outputs": [
    {
     "data": {
      "text/plain": [
       "4118"
      ]
     },
     "execution_count": 164,
     "metadata": {},
     "output_type": "execute_result"
    }
   ],
   "source": [
    "\n",
    "df_accident_selectionne.filter((df_accident_selectionne.Annee == \"2020\") & (df_accident_selectionne.Mois == \"Fevrier \")).count()"
   ]
  },
  {
   "cell_type": "code",
   "execution_count": 165,
   "id": "4d6bb553",
   "metadata": {},
   "outputs": [
    {
     "data": {
      "text/plain": [
       "20"
      ]
     },
     "execution_count": 165,
     "metadata": {},
     "output_type": "execute_result"
    }
   ],
   "source": [
    "\n",
    "df_accident_selectionne.filter((df_accident_selectionne.Annee == \"2020\") & (df_accident_selectionne.Mois == \"Mars \")).count()"
   ]
  },
  {
   "cell_type": "code",
   "execution_count": 166,
   "id": "2b426ad6",
   "metadata": {},
   "outputs": [
    {
     "data": {
      "text/plain": [
       "20"
      ]
     },
     "execution_count": 166,
     "metadata": {},
     "output_type": "execute_result"
    }
   ],
   "source": [
    "\n",
    "df_accident_selectionne.filter((df_accident_selectionne.Annee == \"2020\") & (df_accident_selectionne.Mois == \"Avril\")).count()"
   ]
  },
  {
   "cell_type": "code",
   "execution_count": 167,
   "id": "1262779a",
   "metadata": {},
   "outputs": [
    {
     "data": {
      "text/plain": [
       "20"
      ]
     },
     "execution_count": 167,
     "metadata": {},
     "output_type": "execute_result"
    }
   ],
   "source": [
    "\n",
    "df_accident_selectionne.filter((df_accident_selectionne.Annee == \"2020\") & (df_accident_selectionne.Mois == \"Mai \")).count()"
   ]
  },
  {
   "cell_type": "code",
   "execution_count": 168,
   "id": "32e5f0cb",
   "metadata": {},
   "outputs": [
    {
     "data": {
      "text/plain": [
       "20"
      ]
     },
     "execution_count": 168,
     "metadata": {},
     "output_type": "execute_result"
    }
   ],
   "source": [
    "\n",
    "df_accident_selectionne.filter((df_accident_selectionne.Annee == \"2020\") & (df_accident_selectionne.Mois == \"Juin\")).count()"
   ]
  },
  {
   "cell_type": "code",
   "execution_count": 169,
   "id": "1843ec54",
   "metadata": {},
   "outputs": [
    {
     "data": {
      "text/plain": [
       "20"
      ]
     },
     "execution_count": 169,
     "metadata": {},
     "output_type": "execute_result"
    }
   ],
   "source": [
    "\n",
    "df_accident_selectionne.filter((df_accident_selectionne.Annee == \"2020\") & (df_accident_selectionne.Mois == \"Juillet\")).count()"
   ]
  },
  {
   "cell_type": "code",
   "execution_count": 170,
   "id": "a676e337",
   "metadata": {},
   "outputs": [
    {
     "data": {
      "text/plain": [
       "19"
      ]
     },
     "execution_count": 170,
     "metadata": {},
     "output_type": "execute_result"
    }
   ],
   "source": [
    "\n",
    "df_accident_selectionne.filter((df_accident_selectionne.Annee == \"2020\") & (df_accident_selectionne.Mois == \"Aout\")).count()"
   ]
  },
  {
   "cell_type": "code",
   "execution_count": 171,
   "id": "5cfc6c3b",
   "metadata": {},
   "outputs": [
    {
     "data": {
      "text/plain": [
       "21"
      ]
     },
     "execution_count": 171,
     "metadata": {},
     "output_type": "execute_result"
    }
   ],
   "source": [
    "\n",
    "df_accident_selectionne.filter((df_accident_selectionne.Annee == \"2020\") & (df_accident_selectionne.Mois == \"Septembre\")).count()"
   ]
  },
  {
   "cell_type": "code",
   "execution_count": 172,
   "id": "870f02aa",
   "metadata": {},
   "outputs": [
    {
     "data": {
      "text/plain": [
       "21"
      ]
     },
     "execution_count": 172,
     "metadata": {},
     "output_type": "execute_result"
    }
   ],
   "source": [
    "\n",
    "df_accident_selectionne.filter((df_accident_selectionne.Annee == \"2020\") & (df_accident_selectionne.Mois == \"Octobre\")).count()"
   ]
  },
  {
   "cell_type": "code",
   "execution_count": 173,
   "id": "889e39c5",
   "metadata": {},
   "outputs": [
    {
     "data": {
      "text/plain": [
       "19"
      ]
     },
     "execution_count": 173,
     "metadata": {},
     "output_type": "execute_result"
    }
   ],
   "source": [
    "\n",
    "df_accident_selectionne.filter((df_accident_selectionne.Annee == \"2020\") & (df_accident_selectionne.Mois == \"Novembre\")).count()"
   ]
  },
  {
   "cell_type": "code",
   "execution_count": 174,
   "id": "ccb78ff3",
   "metadata": {},
   "outputs": [
    {
     "data": {
      "text/plain": [
       "20"
      ]
     },
     "execution_count": 174,
     "metadata": {},
     "output_type": "execute_result"
    }
   ],
   "source": [
    "\n",
    "df_accident_selectionne.filter((df_accident_selectionne.Annee == \"2020\") & (df_accident_selectionne.Mois == \"Decembre\")).count()"
   ]
  },
  {
   "cell_type": "code",
   "execution_count": 175,
   "id": "5adfed16",
   "metadata": {},
   "outputs": [
    {
     "data": {
      "text/plain": [
       "20"
      ]
     },
     "execution_count": 175,
     "metadata": {},
     "output_type": "execute_result"
    }
   ],
   "source": [
    "df_accident_selectionne.filter((df_accident_selectionne.Annee == \"2021\") & (df_accident_selectionne.Mois == \"Janvier\")).count()"
   ]
  },
  {
   "cell_type": "code",
   "execution_count": 176,
   "id": "452a0b3d",
   "metadata": {},
   "outputs": [
    {
     "data": {
      "text/plain": [
       "21"
      ]
     },
     "execution_count": 176,
     "metadata": {},
     "output_type": "execute_result"
    }
   ],
   "source": [
    "\n",
    "df_accident_selectionne.filter((df_accident_selectionne.Annee == \"2021\") & (df_accident_selectionne.Mois == \"Fevrier\")).count()\n"
   ]
  },
  {
   "cell_type": "code",
   "execution_count": 177,
   "id": "746be6b2",
   "metadata": {},
   "outputs": [
    {
     "data": {
      "text/plain": [
       "20"
      ]
     },
     "execution_count": 177,
     "metadata": {},
     "output_type": "execute_result"
    }
   ],
   "source": [
    "\n",
    "df_accident_selectionne.filter((df_accident_selectionne.Annee == \"2021\") & (df_accident_selectionne.Mois == \"Mars\")).count()"
   ]
  },
  {
   "cell_type": "code",
   "execution_count": 178,
   "id": "9d725820",
   "metadata": {},
   "outputs": [
    {
     "data": {
      "text/plain": [
       "20"
      ]
     },
     "execution_count": 178,
     "metadata": {},
     "output_type": "execute_result"
    }
   ],
   "source": [
    "\n",
    "df_accident_selectionne.filter((df_accident_selectionne.Annee == \"2021\") & (df_accident_selectionne.Mois == \"Avril\")).count()"
   ]
  },
  {
   "cell_type": "code",
   "execution_count": 179,
   "id": "7641ce1b",
   "metadata": {},
   "outputs": [
    {
     "data": {
      "text/plain": [
       "20"
      ]
     },
     "execution_count": 179,
     "metadata": {},
     "output_type": "execute_result"
    }
   ],
   "source": [
    "\n",
    "df_accident_selectionne.filter((df_accident_selectionne.Annee == \"2021\") & (df_accident_selectionne.Mois == \"Mai\")).count()"
   ]
  },
  {
   "cell_type": "code",
   "execution_count": 180,
   "id": "b25c1635",
   "metadata": {},
   "outputs": [
    {
     "data": {
      "text/plain": [
       "1250"
      ]
     },
     "execution_count": 180,
     "metadata": {},
     "output_type": "execute_result"
    }
   ],
   "source": [
    "\n",
    "df_accident_selectionne.filter((df_accident_selectionne.Annee == \"2021\") & (df_accident_selectionne.Mois == \"Juin\")).count()"
   ]
  },
  {
   "cell_type": "code",
   "execution_count": 181,
   "id": "6509c56e",
   "metadata": {},
   "outputs": [
    {
     "data": {
      "text/plain": [
       "3677"
      ]
     },
     "execution_count": 181,
     "metadata": {},
     "output_type": "execute_result"
    }
   ],
   "source": [
    "\n",
    "df_accident_selectionne.filter((df_accident_selectionne.Annee == \"2021\") & (df_accident_selectionne.Mois == \"Juillet\")).count()"
   ]
  },
  {
   "cell_type": "code",
   "execution_count": 182,
   "id": "1a2f7a4c",
   "metadata": {},
   "outputs": [
    {
     "data": {
      "text/plain": [
       "3447"
      ]
     },
     "execution_count": 182,
     "metadata": {},
     "output_type": "execute_result"
    }
   ],
   "source": [
    "\n",
    "df_accident_selectionne.filter((df_accident_selectionne.Annee == \"2021\") & (df_accident_selectionne.Mois == \"Aout\")).count()"
   ]
  },
  {
   "cell_type": "code",
   "execution_count": 183,
   "id": "80dc70f6",
   "metadata": {},
   "outputs": [
    {
     "data": {
      "text/plain": [
       "637"
      ]
     },
     "execution_count": 183,
     "metadata": {},
     "output_type": "execute_result"
    }
   ],
   "source": [
    "\n",
    "df_accident_selectionne.filter((df_accident_selectionne.Annee == \"2021\") & (df_accident_selectionne.Mois == \"Septembre\")).count()"
   ]
  },
  {
   "cell_type": "code",
   "execution_count": 184,
   "id": "9bad1758",
   "metadata": {},
   "outputs": [
    {
     "data": {
      "text/plain": [
       "4333"
      ]
     },
     "execution_count": 184,
     "metadata": {},
     "output_type": "execute_result"
    }
   ],
   "source": [
    "\n",
    "df_accident_selectionne.filter((df_accident_selectionne.Annee == \"2021\") & (df_accident_selectionne.Mois == \"Octobre\")).count()"
   ]
  },
  {
   "cell_type": "code",
   "execution_count": 185,
   "id": "a895f95d",
   "metadata": {},
   "outputs": [
    {
     "data": {
      "text/plain": [
       "3846"
      ]
     },
     "execution_count": 185,
     "metadata": {},
     "output_type": "execute_result"
    }
   ],
   "source": [
    "\n",
    "df_accident_selectionne.filter((df_accident_selectionne.Annee == \"2021\") & (df_accident_selectionne.Mois == \"Novembre\")).count()"
   ]
  },
  {
   "cell_type": "code",
   "execution_count": 186,
   "id": "42af2586",
   "metadata": {},
   "outputs": [
    {
     "data": {
      "text/plain": [
       "4711"
      ]
     },
     "execution_count": 186,
     "metadata": {},
     "output_type": "execute_result"
    }
   ],
   "source": [
    "\n",
    "df_accident_selectionne.filter((df_accident_selectionne.Annee == \"2021\") & (df_accident_selectionne.Mois == \"Decembre\")).count()"
   ]
  },
  {
   "cell_type": "markdown",
   "id": "2b40ead1",
   "metadata": {},
   "source": [
    "3) Visualisation : "
   ]
  },
  {
   "cell_type": "code",
   "execution_count": 187,
   "id": "31330f76",
   "metadata": {},
   "outputs": [],
   "source": [
    "\n",
    "df_accident_selectionne_pd = df_accident_selectionne.toPandas()"
   ]
  },
  {
   "cell_type": "code",
   "execution_count": 188,
   "id": "626d7579",
   "metadata": {},
   "outputs": [
    {
     "name": "stderr",
     "output_type": "stream",
     "text": [
      "                                                                                \r"
     ]
    }
   ],
   "source": [
    "df_circulation_selectionne_pd = df_circulation_selectionne.toPandas()\n",
    "\n"
   ]
  },
  {
   "cell_type": "code",
   "execution_count": 189,
   "id": "4650665e",
   "metadata": {},
   "outputs": [],
   "source": [
    "df_circulation_selectionne_pd10 = df_circulation_selectionne_pd.head(1000)"
   ]
  },
  {
   "cell_type": "code",
   "execution_count": 190,
   "id": "1c3a04af",
   "metadata": {},
   "outputs": [
    {
     "name": "stdout",
     "output_type": "stream",
     "text": [
      "    Id_circulation Annee  Mois Indice frequentation tout types de transports\n",
      "0                1  2020  Aout                                          0.31\n",
      "1                2  2020  Aout                                          0.32\n",
      "2                3  2020  Aout                                          0.33\n",
      "3                4  2020  Aout                                          0.34\n",
      "4                5  2020  Aout                                          0.35\n",
      "..             ...   ...   ...                                           ...\n",
      "995            996  2020  Aout                                        0.1026\n",
      "996            997  2020  Aout                                        0.1027\n",
      "997            998  2020  Aout                                        0.1028\n",
      "998            999  2020  Aout                                        0.1029\n",
      "999           1000  2020  Aout                                        0.1030\n",
      "\n",
      "[1000 rows x 4 columns]\n"
     ]
    }
   ],
   "source": [
    "print(df_circulation_selectionne_pd10)"
   ]
  },
  {
   "cell_type": "code",
   "execution_count": 191,
   "id": "879555ad",
   "metadata": {},
   "outputs": [],
   "source": [
    "sns.set_theme()"
   ]
  },
  {
   "cell_type": "code",
   "execution_count": 192,
   "id": "cc5697d0",
   "metadata": {},
   "outputs": [],
   "source": [
    "\n",
    "\n",
    "plt.show()"
   ]
  },
  {
   "cell_type": "markdown",
   "id": "0da712ef",
   "metadata": {},
   "source": [
    "1) Création et visualisation du dataframe circulation global : "
   ]
  },
  {
   "cell_type": "code",
   "execution_count": 194,
   "id": "9209bca2",
   "metadata": {},
   "outputs": [
    {
     "name": "stdout",
     "output_type": "stream",
     "text": [
      "+-----+---------+----------------------+\n",
      "|Annee|     Mois|Moyenne de circulation|\n",
      "+-----+---------+----------------------+\n",
      "| 2018|  Janvier|                  9.39|\n",
      "| 2018|  Fevrier|                  2.39|\n",
      "| 2018|     Mars|                  2.39|\n",
      "| 2018|    Avril|                   2.4|\n",
      "| 2018|      Mai|                  2.39|\n",
      "| 2018|     Juin|                   1.4|\n",
      "| 2018|  Juillet|                   5.4|\n",
      "| 2018|     Aout|                  8.39|\n",
      "| 2018|Septembre|                  4.39|\n",
      "| 2018|  Octobre|                  6.34|\n",
      "| 2018| Novembre|                  7.39|\n",
      "| 2018| Decembre|                  9.34|\n",
      "| 2019|  Janvier|                  9.39|\n",
      "| 2019|  Fevrier|                  2.39|\n",
      "| 2019|     Mars|                  2.39|\n",
      "| 2019|    Avril|                   2.4|\n",
      "| 2019|      Mai|                  2.39|\n",
      "| 2019|     Juin|                   1.4|\n",
      "| 2019|  Juillet|                   5.4|\n",
      "| 2019|     Aout|                  8.39|\n",
      "+-----+---------+----------------------+\n",
      "only showing top 20 rows\n",
      "\n"
     ]
    }
   ],
   "source": [
    "path  = 'hdfs://namenode:9000/ma_base/circulation/circulation_global.csv'\n",
    "dataframe_circulation_global = spark.read.format('csv').options(header=True, sep=\";\").load(path)\n",
    "dataframe_circulation_global1 = dataframe_circulation_global.withColumnRenamed(\"Moyenne de circulation par mois\",\"Moyenne de circulation\")\n",
    "dataframe_circulation_global1.show()"
   ]
  },
  {
   "cell_type": "code",
   "execution_count": 195,
   "id": "5fd8aaf4",
   "metadata": {},
   "outputs": [
    {
     "data": {
      "text/plain": [
       "Annee                     object\n",
       "Mois                      object\n",
       "Moyenne de circulation    object\n",
       "dtype: object"
      ]
     },
     "execution_count": 195,
     "metadata": {},
     "output_type": "execute_result"
    }
   ],
   "source": [
    "df1=dataframe_circulation_global1.toPandas()\n",
    "\n",
    "df1.dtypes\n"
   ]
  },
  {
   "cell_type": "code",
   "execution_count": 196,
   "id": "c75e532e",
   "metadata": {},
   "outputs": [
    {
     "data": {
      "text/plain": [
       "Annee                     float64\n",
       "Mois                       object\n",
       "Moyenne de circulation    float64\n",
       "dtype: object"
      ]
     },
     "execution_count": 196,
     "metadata": {},
     "output_type": "execute_result"
    }
   ],
   "source": [
    "df1['Annee']=df1['Annee'].astype(float)\n",
    "df1['Moyenne de circulation']=df1['Moyenne de circulation'].astype(float)\n",
    "df1.dtypes"
   ]
  },
  {
   "cell_type": "code",
   "execution_count": 197,
   "id": "0621f7e4",
   "metadata": {},
   "outputs": [
    {
     "data": {
      "text/plain": [
       "<AxesSubplot: xlabel='Annee', ylabel='Moyenne de circulation'>"
      ]
     },
     "execution_count": 197,
     "metadata": {},
     "output_type": "execute_result"
    },
    {
     "data": {
      "image/png": "[encoded data removed]",
      "text/plain": [
       "<Figure size 640x480 with 1 Axes>"
      ]
     },
     "metadata": {},
     "output_type": "display_data"
    }
   ],
   "source": [
    "# df1.plot(kind='bar', x='Annee', y='Moyenne de circulation')\n",
    "sns.set_theme()\n",
    "sns.barplot(data= df1, x='Annee', y='Moyenne de circulation' ,  )\n"
   ]
  },
  {
   "cell_type": "code",
   "execution_count": 266,
   "id": "5e337bd5",
   "metadata": {},
   "outputs": [
    {
     "name": "stdin",
     "output_type": "stream",
     "text": [
      "Entrer l'Annee 2019\n"
     ]
    },
    {
     "data": {
      "text/plain": [
       "<AxesSubplot: xlabel='Mois'>"
      ]
     },
     "execution_count": 266,
     "metadata": {},
     "output_type": "execute_result"
    },
    {
     "data": {
      "image/png": "[encoded data removed]",
      "text/plain": [
       "<Figure size 640x480 with 1 Axes>"
      ]
     },
     "metadata": {},
     "output_type": "display_data"
    }
   ],
   "source": [
    "c=int(input(\"Entrer l'Annee\"))\n",
    "df1selectionne=df1[df1['Annee'] == c]\n",
    "df1selectionne.plot(kind='bar', x='Mois', y='Moyenne de circulation', )"
   ]
  },
  {
   "cell_type": "code",
   "execution_count": 267,
   "id": "e1757d5d",
   "metadata": {},
   "outputs": [
    {
     "data": {
      "text/plain": [
       "<AxesSubplot: xlabel='Mois'>"
      ]
     },
     "execution_count": 267,
     "metadata": {},
     "output_type": "execute_result"
    },
    {
     "data": {
      "image/png": "[encoded data removed]",
      "text/plain": [
       "<Figure size 640x480 with 1 Axes>"
      ]
     },
     "metadata": {},
     "output_type": "display_data"
    }
   ],
   "source": [
    "df1.plot(kind='area', x='Mois', y='Moyenne de circulation' , color=\"pink\")"
   ]
  },
  {
   "cell_type": "markdown",
   "id": "c4ba3392",
   "metadata": {},
   "source": [
    "2 ) Création et visualisation du dataframe circulation global :"
   ]
  },
  {
   "cell_type": "code",
   "execution_count": 229,
   "id": "c1ea4aeb",
   "metadata": {},
   "outputs": [
    {
     "name": "stdout",
     "output_type": "stream",
     "text": [
      "+-----+---------+--------------------+----------------+\n",
      "|Annee|     Mois|       Qualite d'air|Niveau pollution|\n",
      "+-----+---------+--------------------+----------------+\n",
      "| 2018|  Janvier|            degradee|               4|\n",
      "| 2018|  Fevrier|             moyenne|               2|\n",
      "| 2018|     Mars|             moyenne|               2|\n",
      "| 2018|    Avril|               bonne|               1|\n",
      "| 2018|      Mai|             moyenne|               2|\n",
      "| 2018|     Juin|             moyenne|               2|\n",
      "| 2018|  Juillet|            degradee|               4|\n",
      "| 2018|     Aout|extremement mauvaise|               5|\n",
      "| 2018|Septembre|            degradee|               4|\n",
      "| 2018|  Octobre|            mauvaise|               3|\n",
      "| 2018| Novembre|            mauvaise|               3|\n",
      "| 2018| Decembre|extremement mauvaise|               5|\n",
      "| 2019|  Janvier|extremement mauvaise|               5|\n",
      "| 2019|  Fevrier|               bonne|               1|\n",
      "| 2019|     Mars|             moyenne|               2|\n",
      "| 2019|    Avril|               bonne|               1|\n",
      "| 2019|      Mai|             moyenne|               2|\n",
      "| 2019|     Juin|             moyenne|               2|\n",
      "| 2019|  Juillet|extremement mauvaise|               5|\n",
      "| 2019|     Aout|extremement mauvaise|               5|\n",
      "+-----+---------+--------------------+----------------+\n",
      "only showing top 20 rows\n",
      "\n"
     ]
    }
   ],
   "source": [
    "path  = 'hdfs://namenode:9000/ma_base/pollution/pollution_global.csv'\n",
    "dataframe_pollution_global = spark.read.format('csv').options(header=True, sep=\";\").load(path)\n",
    "dataframe_pollution_global1 = dataframe_pollution_global.withColumnRenamed(\"Nombre_de_pollution_par_mois\",\"Qualite d'air\")\n",
    "dataframe_pollution_global2 = dataframe_pollution_global1.select(\"Annee\" , \"Mois\" , \"Qualite d'air\" , \"Niveau pollution\")\n",
    "dataframe_pollution_global2.show()\n",
    "\n",
    "\n"
   ]
  },
  {
   "cell_type": "code",
   "execution_count": 201,
   "id": "25538427",
   "metadata": {},
   "outputs": [
    {
     "data": {
      "text/plain": [
       "Annee               object\n",
       "Mois                object\n",
       "Qualite d'air       object\n",
       "Niveau pollution    object\n",
       "dtype: object"
      ]
     },
     "execution_count": 201,
     "metadata": {},
     "output_type": "execute_result"
    }
   ],
   "source": [
    "import pandas as pd\n",
    "dfp1=dataframe_pollution_global2.toPandas()\n",
    "dfp1.dtypes\n"
   ]
  },
  {
   "cell_type": "code",
   "execution_count": 202,
   "id": "d7b3f1d0",
   "metadata": {},
   "outputs": [
    {
     "data": {
      "text/plain": [
       "Annee               float64\n",
       "Mois                 object\n",
       "Qualite d'air        object\n",
       "Niveau pollution    float64\n",
       "dtype: object"
      ]
     },
     "execution_count": 202,
     "metadata": {},
     "output_type": "execute_result"
    }
   ],
   "source": [
    "dfp1['Annee']=dfp1['Annee'].astype(float)\n",
    "dfp1['Niveau pollution']=dfp1['Niveau pollution'].astype(float)\n",
    "dfp1.dtypes"
   ]
  },
  {
   "cell_type": "code",
   "execution_count": 203,
   "id": "5a50c513",
   "metadata": {},
   "outputs": [
    {
     "data": {
      "text/plain": [
       "<AxesSubplot: ylabel=\"Qualite d'air\">"
      ]
     },
     "execution_count": 203,
     "metadata": {},
     "output_type": "execute_result"
    },
    {
     "data": {
      "image/png": "[encoded data removed]",
      "text/plain": [
       "<Figure size 640x480 with 1 Axes>"
      ]
     },
     "metadata": {},
     "output_type": "display_data"
    }
   ],
   "source": [
    "dfp1[\"Qualite d'air\"].value_counts(normalize=True).plot(kind='pie')"
   ]
  },
  {
   "cell_type": "code",
   "execution_count": 204,
   "id": "d34f4a72",
   "metadata": {},
   "outputs": [
    {
     "data": {
      "text/plain": [
       "<AxesSubplot: xlabel='Annee', ylabel='Niveau pollution'>"
      ]
     },
     "execution_count": 204,
     "metadata": {},
     "output_type": "execute_result"
    },
    {
     "data": {
      "image/png": "[encoded data removed]",
      "text/plain": [
       "<Figure size 640x480 with 1 Axes>"
      ]
     },
     "metadata": {},
     "output_type": "display_data"
    }
   ],
   "source": [
    "sns.set_theme()\n",
    "sns.barplot(data= dfp1, x='Annee', y='Niveau pollution' ,  )\n"
   ]
  },
  {
   "cell_type": "code",
   "execution_count": 205,
   "id": "f88325cd",
   "metadata": {},
   "outputs": [
    {
     "data": {
      "image/png": "[encoded data removed]",
      "text/plain": [
       "<Figure size 640x480 with 1 Axes>"
      ]
     },
     "metadata": {},
     "output_type": "display_data"
    }
   ],
   "source": [
    "dfp1.plot.line(x=\"Mois\" , y=\"Niveau pollution\") ; plt.show()"
   ]
  },
  {
   "cell_type": "code",
   "execution_count": 206,
   "id": "c36961fb",
   "metadata": {},
   "outputs": [
    {
     "name": "stdin",
     "output_type": "stream",
     "text": [
      "Entrer l'Annee 2019\n"
     ]
    },
    {
     "data": {
      "text/plain": [
       "<AxesSubplot: xlabel='Mois'>"
      ]
     },
     "execution_count": 206,
     "metadata": {},
     "output_type": "execute_result"
    },
    {
     "data": {
      "image/png": "[encoded data removed]",
      "text/plain": [
       "<Figure size 640x480 with 1 Axes>"
      ]
     },
     "metadata": {},
     "output_type": "display_data"
    }
   ],
   "source": [
    "k=int(input(\"Entrer l'Annee\"))\n",
    "dfp1selectionne=dfp1[dfp1['Annee'] == k]\n",
    "dfp1selectionne.plot(kind='bar', x='Mois', y='Niveau pollution', color='red')"
   ]
  },
  {
   "cell_type": "markdown",
   "id": "e12fdf07",
   "metadata": {},
   "source": [
    "3) Création et visualisation du dataframe accident global :"
   ]
  },
  {
   "cell_type": "code",
   "execution_count": 208,
   "id": "4e45893f",
   "metadata": {},
   "outputs": [
    {
     "name": "stdout",
     "output_type": "stream",
     "text": [
      "+-----+---------+---------------+\n",
      "|Annee|     Mois|Nombre accident|\n",
      "+-----+---------+---------------+\n",
      "| 2018|  Janvier|           4803|\n",
      "| 2018|  Fevrier|           4803|\n",
      "| 2018|     Mars|           4759|\n",
      "| 2018|    Avril|           4561|\n",
      "| 2018|      Mai|           4594|\n",
      "| 2018|     Juin|           4745|\n",
      "| 2018|  Juillet|           4741|\n",
      "| 2018|     Aout|           4726|\n",
      "| 2018|Septembre|           4693|\n",
      "| 2018|  Octobre|           4730|\n",
      "| 2018| Novembre|           4672|\n",
      "| 2018| Decembre|              0|\n",
      "| 2019|  Janvier|           5719|\n",
      "| 2019|  Fevrier|           2432|\n",
      "| 2019|     Mars|           5306|\n",
      "| 2019|    Avril|           5884|\n",
      "| 2019|      Mai|           5541|\n",
      "| 2019|     Juin|           2689|\n",
      "| 2019|  Juillet|           5633|\n",
      "| 2019|     Aout|           2847|\n",
      "+-----+---------+---------------+\n",
      "only showing top 20 rows\n",
      "\n"
     ]
    }
   ],
   "source": [
    "path  = 'hdfs://namenode:9000/ma_base/accident/lieux_global.csv'\n",
    "dataframe_accident_global = spark.read.format('csv').options(header=True, sep=\";\").load(path)\n",
    "dataframe_accident_global1 = dataframe_accident_global.withColumnRenamed(\"Nombre_accident_par_mois\",\"Nombre accident\")\n",
    "dataframe_accident_global1.show()"
   ]
  },
  {
   "cell_type": "code",
   "execution_count": 209,
   "id": "f308fc29",
   "metadata": {},
   "outputs": [
    {
     "data": {
      "text/plain": [
       "Annee              object\n",
       "Mois               object\n",
       "Nombre accident    object\n",
       "dtype: object"
      ]
     },
     "execution_count": 209,
     "metadata": {},
     "output_type": "execute_result"
    }
   ],
   "source": [
    "dfa1=dataframe_accident_global1.toPandas()\n",
    "dfa1.dtypes\n"
   ]
  },
  {
   "cell_type": "code",
   "execution_count": 210,
   "id": "3957915b",
   "metadata": {},
   "outputs": [
    {
     "data": {
      "text/plain": [
       "Annee              float64\n",
       "Mois                object\n",
       "Nombre accident    float64\n",
       "dtype: object"
      ]
     },
     "execution_count": 210,
     "metadata": {},
     "output_type": "execute_result"
    }
   ],
   "source": [
    "dfa1['Annee']=dfa1['Annee'].astype(float)\n",
    "dfa1['Nombre accident']=dfa1['Nombre accident'].astype(float)\n",
    "dfa1['Mois']=dfa1['Mois'].astype(str)\n",
    "#df1['Mois']=df1['Mois'].astype(float)\n",
    "dfa1.dtypes"
   ]
  },
  {
   "cell_type": "code",
   "execution_count": 211,
   "id": "b258c11b",
   "metadata": {},
   "outputs": [
    {
     "data": {
      "image/png": "[encoded data removed]",
      "text/plain": [
       "<Figure size 640x480 with 1 Axes>"
      ]
     },
     "metadata": {},
     "output_type": "display_data"
    }
   ],
   "source": [
    "dfa1.plot()\n",
    "plt.xlabel(\"Mois\")\n",
    "plt.ylabel(\"Annee\")\n",
    "plt.title(\"Ma visualisation\")\n",
    "plt.show()"
   ]
  },
  {
   "cell_type": "code",
   "execution_count": 212,
   "id": "156af146",
   "metadata": {},
   "outputs": [
    {
     "name": "stdin",
     "output_type": "stream",
     "text": [
      "Entrer l'Annee 2019\n"
     ]
    },
    {
     "data": {
      "text/plain": [
       "<AxesSubplot: xlabel='Mois'>"
      ]
     },
     "execution_count": 212,
     "metadata": {},
     "output_type": "execute_result"
    },
    {
     "data": {
      "image/png": "[encoded data removed]",
      "text/plain": [
       "<Figure size 640x480 with 1 Axes>"
      ]
     },
     "metadata": {},
     "output_type": "display_data"
    }
   ],
   "source": [
    "c=int(input(\"Entrer l'Annee\"))\n",
    "dfa1selectionne=dfa1[dfa1['Annee'] == c]\n",
    "dfa1selectionne.plot(kind='bar', x='Mois', y='Nombre accident' , color='green')"
   ]
  },
  {
   "cell_type": "code",
   "execution_count": 213,
   "id": "f71c0ad4",
   "metadata": {},
   "outputs": [
    {
     "name": "stdout",
     "output_type": "stream",
     "text": [
      "pip 22.3.1 from /usr/local/lib/python3.9/dist-packages/pip (python 3.9)\n"
     ]
    }
   ],
   "source": [
    "!pip --version"
   ]
  },
  {
   "cell_type": "code",
   "execution_count": 214,
   "id": "f7bfd5d6",
   "metadata": {},
   "outputs": [
    {
     "name": "stdout",
     "output_type": "stream",
     "text": [
      "Requirement already satisfied: numpy in /usr/local/lib/python3.9/dist-packages (1.23.4)\n",
      "\u001b[33mWARNING: Running pip as the 'root' user can result in broken permissions and conflicting behaviour with the system package manager. It is recommended to use a virtual environment instead: https://pip.pypa.io/warnings/venv\u001b[0m\u001b[33m\n",
      "\u001b[0m"
     ]
    }
   ],
   "source": [
    "!pip install numpy"
   ]
  },
  {
   "cell_type": "code",
   "execution_count": 215,
   "id": "10da7db0",
   "metadata": {},
   "outputs": [
    {
     "name": "stdout",
     "output_type": "stream",
     "text": [
      "Requirement already satisfied: matplotlib in /usr/local/lib/python3.9/dist-packages (3.6.2)\n",
      "Requirement already satisfied: kiwisolver>=1.0.1 in /usr/local/lib/python3.9/dist-packages (from matplotlib) (1.4.4)\n",
      "Requirement already satisfied: pillow>=6.2.0 in /usr/local/lib/python3.9/dist-packages (from matplotlib) (9.3.0)\n",
      "Requirement already satisfied: contourpy>=1.0.1 in /usr/local/lib/python3.9/dist-packages (from matplotlib) (1.0.6)\n",
      "Requirement already satisfied: python-dateutil>=2.7 in /usr/local/lib/python3.9/dist-packages (from matplotlib) (2.8.2)\n",
      "Requirement already satisfied: numpy>=1.19 in /usr/local/lib/python3.9/dist-packages (from matplotlib) (1.23.4)\n",
      "Requirement already satisfied: packaging>=20.0 in /usr/local/lib/python3.9/dist-packages (from matplotlib) (21.3)\n",
      "Requirement already satisfied: cycler>=0.10 in /usr/local/lib/python3.9/dist-packages (from matplotlib) (0.11.0)\n",
      "Requirement already satisfied: fonttools>=4.22.0 in /usr/local/lib/python3.9/dist-packages (from matplotlib) (4.38.0)\n",
      "Requirement already satisfied: pyparsing>=2.2.1 in /usr/local/lib/python3.9/dist-packages (from matplotlib) (3.0.9)\n",
      "Requirement already satisfied: six>=1.5 in /usr/local/lib/python3.9/dist-packages (from python-dateutil>=2.7->matplotlib) (1.16.0)\n",
      "\u001b[33mWARNING: Running pip as the 'root' user can result in broken permissions and conflicting behaviour with the system package manager. It is recommended to use a virtual environment instead: https://pip.pypa.io/warnings/venv\u001b[0m\u001b[33m\n",
      "\u001b[0m"
     ]
    }
   ],
   "source": [
    "!pip install matplotlib"
   ]
  },
  {
   "cell_type": "code",
   "execution_count": 216,
   "id": "67818c30",
   "metadata": {},
   "outputs": [
    {
     "name": "stdout",
     "output_type": "stream",
     "text": [
      "Requirement already satisfied: seaborn in /usr/local/lib/python3.9/dist-packages (0.12.1)\n",
      "Requirement already satisfied: numpy>=1.17 in /usr/local/lib/python3.9/dist-packages (from seaborn) (1.23.4)\n",
      "Requirement already satisfied: pandas>=0.25 in /usr/local/lib/python3.9/dist-packages (from seaborn) (1.5.1)\n",
      "Requirement already satisfied: matplotlib!=3.6.1,>=3.1 in /usr/local/lib/python3.9/dist-packages (from seaborn) (3.6.2)\n",
      "Requirement already satisfied: contourpy>=1.0.1 in /usr/local/lib/python3.9/dist-packages (from matplotlib!=3.6.1,>=3.1->seaborn) (1.0.6)\n",
      "Requirement already satisfied: kiwisolver>=1.0.1 in /usr/local/lib/python3.9/dist-packages (from matplotlib!=3.6.1,>=3.1->seaborn) (1.4.4)\n",
      "Requirement already satisfied: fonttools>=4.22.0 in /usr/local/lib/python3.9/dist-packages (from matplotlib!=3.6.1,>=3.1->seaborn) (4.38.0)\n",
      "Requirement already satisfied: packaging>=20.0 in /usr/local/lib/python3.9/dist-packages (from matplotlib!=3.6.1,>=3.1->seaborn) (21.3)\n",
      "Requirement already satisfied: pyparsing>=2.2.1 in /usr/local/lib/python3.9/dist-packages (from matplotlib!=3.6.1,>=3.1->seaborn) (3.0.9)\n",
      "Requirement already satisfied: cycler>=0.10 in /usr/local/lib/python3.9/dist-packages (from matplotlib!=3.6.1,>=3.1->seaborn) (0.11.0)\n",
      "Requirement already satisfied: pillow>=6.2.0 in /usr/local/lib/python3.9/dist-packages (from matplotlib!=3.6.1,>=3.1->seaborn) (9.3.0)\n",
      "Requirement already satisfied: python-dateutil>=2.7 in /usr/local/lib/python3.9/dist-packages (from matplotlib!=3.6.1,>=3.1->seaborn) (2.8.2)\n",
      "Requirement already satisfied: pytz>=2020.1 in /usr/local/lib/python3.9/dist-packages (from pandas>=0.25->seaborn) (2022.6)\n",
      "Requirement already satisfied: six>=1.5 in /usr/local/lib/python3.9/dist-packages (from python-dateutil>=2.7->matplotlib!=3.6.1,>=3.1->seaborn) (1.16.0)\n",
      "\u001b[33mWARNING: Running pip as the 'root' user can result in broken permissions and conflicting behaviour with the system package manager. It is recommended to use a virtual environment instead: https://pip.pypa.io/warnings/venv\u001b[0m\u001b[33m\n",
      "\u001b[0m"
     ]
    }
   ],
   "source": [
    "!pip install seaborn"
   ]
  },
  {
   "cell_type": "code",
   "execution_count": 217,
   "id": "ea15817a",
   "metadata": {},
   "outputs": [
    {
     "name": "stdout",
     "output_type": "stream",
     "text": [
      "Requirement already satisfied: pandas in /usr/local/lib/python3.9/dist-packages (1.5.1)\n",
      "Requirement already satisfied: pytz>=2020.1 in /usr/local/lib/python3.9/dist-packages (from pandas) (2022.6)\n",
      "Requirement already satisfied: numpy>=1.20.3 in /usr/local/lib/python3.9/dist-packages (from pandas) (1.23.4)\n",
      "Requirement already satisfied: python-dateutil>=2.8.1 in /usr/local/lib/python3.9/dist-packages (from pandas) (2.8.2)\n",
      "Requirement already satisfied: six>=1.5 in /usr/local/lib/python3.9/dist-packages (from python-dateutil>=2.8.1->pandas) (1.16.0)\n",
      "\u001b[33mWARNING: Running pip as the 'root' user can result in broken permissions and conflicting behaviour with the system package manager. It is recommended to use a virtual environment instead: https://pip.pypa.io/warnings/venv\u001b[0m\u001b[33m\n",
      "\u001b[0m"
     ]
    }
   ],
   "source": [
    "!pip install pandas"
   ]
  },
  {
   "cell_type": "code",
   "execution_count": 218,
   "id": "7454ef2c",
   "metadata": {},
   "outputs": [
    {
     "name": "stdout",
     "output_type": "stream",
     "text": [
      "Requirement already satisfied: plot in /usr/local/lib/python3.9/dist-packages (0.6.5)\n",
      "Requirement already satisfied: numpy in /usr/local/lib/python3.9/dist-packages (from plot) (1.23.4)\n",
      "Requirement already satisfied: pyyaml in /usr/local/lib/python3.9/dist-packages (from plot) (6.0)\n",
      "Requirement already satisfied: scipy in /usr/local/lib/python3.9/dist-packages (from plot) (1.9.3)\n",
      "Requirement already satisfied: typing in /usr/local/lib/python3.9/dist-packages (from plot) (3.7.4.3)\n",
      "Requirement already satisfied: matplotlib in /usr/local/lib/python3.9/dist-packages (from plot) (3.6.2)\n",
      "Requirement already satisfied: pillow>=6.2.0 in /usr/local/lib/python3.9/dist-packages (from matplotlib->plot) (9.3.0)\n",
      "Requirement already satisfied: pyparsing>=2.2.1 in /usr/local/lib/python3.9/dist-packages (from matplotlib->plot) (3.0.9)\n",
      "Requirement already satisfied: python-dateutil>=2.7 in /usr/local/lib/python3.9/dist-packages (from matplotlib->plot) (2.8.2)\n",
      "Requirement already satisfied: cycler>=0.10 in /usr/local/lib/python3.9/dist-packages (from matplotlib->plot) (0.11.0)\n",
      "Requirement already satisfied: kiwisolver>=1.0.1 in /usr/local/lib/python3.9/dist-packages (from matplotlib->plot) (1.4.4)\n",
      "Requirement already satisfied: contourpy>=1.0.1 in /usr/local/lib/python3.9/dist-packages (from matplotlib->plot) (1.0.6)\n",
      "Requirement already satisfied: packaging>=20.0 in /usr/local/lib/python3.9/dist-packages (from matplotlib->plot) (21.3)\n",
      "Requirement already satisfied: fonttools>=4.22.0 in /usr/local/lib/python3.9/dist-packages (from matplotlib->plot) (4.38.0)\n",
      "Requirement already satisfied: six>=1.5 in /usr/local/lib/python3.9/dist-packages (from python-dateutil>=2.7->matplotlib->plot) (1.16.0)\n",
      "\u001b[33mWARNING: Running pip as the 'root' user can result in broken permissions and conflicting behaviour with the system package manager. It is recommended to use a virtual environment instead: https://pip.pypa.io/warnings/venv\u001b[0m\u001b[33m\n",
      "\u001b[0m"
     ]
    }
   ],
   "source": [
    "!pip install plot"
   ]
  },
  {
   "cell_type": "markdown",
   "id": "5d872fa9",
   "metadata": {},
   "source": [
    "4) Création et visualisation du dataframe  global :"
   ]
  },
  {
   "cell_type": "code",
   "execution_count": 219,
   "id": "277c1d8c",
   "metadata": {},
   "outputs": [
    {
     "name": "stdout",
     "output_type": "stream",
     "text": [
      "+-----+---------+-------------------------------+------------------------+----------------------------+----------------+\n",
      "|Annee|     Mois|Moyenne de circulation par mois|Nombre_accident_par_mois|Nombre_de_pollution_par_mois|Niveau pollution|\n",
      "+-----+---------+-------------------------------+------------------------+----------------------------+----------------+\n",
      "| 2018|  Janvier|                           9.39|                    4803|                    degradee|               4|\n",
      "| 2018|  Fevrier|                           2.39|                    4803|                     moyenne|               2|\n",
      "| 2018|     Mars|                           2.39|                    4759|                     moyenne|               2|\n",
      "| 2018|    Avril|                            2.4|                    4561|                       bonne|               1|\n",
      "| 2018|      Mai|                           2.39|                    4594|                     moyenne|               2|\n",
      "| 2018|     Juin|                            1.4|                    4745|                     moyenne|               2|\n",
      "| 2018|  Juillet|                            5.4|                    4741|                    degradee|               4|\n",
      "| 2018|     Aout|                           8.39|                    4726|        extremement mauvaise|               5|\n",
      "| 2018|Septembre|                           4.39|                    4693|                    degradee|               4|\n",
      "| 2018|  Octobre|                           6.34|                    4730|                    mauvaise|               3|\n",
      "| 2018| Novembre|                           7.39|                    4672|                    mauvaise|               3|\n",
      "| 2018| Decembre|                           9.34|                    4763|        extremement mauvaise|               5|\n",
      "| 2019|  Janvier|                           9.39|                    5719|        extremement mauvaise|               5|\n",
      "| 2019|  Fevrier|                           2.39|                    2432|                       bonne|               1|\n",
      "| 2019|     Mars|                           2.39|                    5306|                     moyenne|               2|\n",
      "| 2019|    Avril|                            2.4|                    5884|                       bonne|               1|\n",
      "| 2019|      Mai|                           2.39|                    5541|                     moyenne|               2|\n",
      "| 2019|     Juin|                            1.4|                    2689|                     moyenne|               2|\n",
      "| 2019|  Juillet|                            5.4|                    5633|        extremement mauvaise|               5|\n",
      "| 2019|     Aout|                           8.39|                    2847|        extremement mauvaise|               5|\n",
      "+-----+---------+-------------------------------+------------------------+----------------------------+----------------+\n",
      "only showing top 20 rows\n",
      "\n"
     ]
    }
   ],
   "source": [
    "path  = 'hdfs://namenode:9000/ma_base/global1/global1.csv'\n",
    "dataframe_global = spark.read.format('csv').options(header=True, sep=\";\").load(path)\n",
    "#dataframe_global1 = dataframe_accident_global.withColumnRenamed(\"Nombre_accident_par_mois\",\"Nombre accident\")\n",
    "dataframe_global.show()"
   ]
  },
  {
   "cell_type": "code",
   "execution_count": 220,
   "id": "9130123c",
   "metadata": {},
   "outputs": [
    {
     "data": {
      "text/plain": [
       "Annee                              object\n",
       "Mois                               object\n",
       "Moyenne de circulation par mois    object\n",
       "Nombre_accident_par_mois           object\n",
       "Nombre_de_pollution_par_mois       object\n",
       "Niveau pollution                   object\n",
       "dtype: object"
      ]
     },
     "execution_count": 220,
     "metadata": {},
     "output_type": "execute_result"
    }
   ],
   "source": [
    "dfg1=dataframe_global.toPandas()\n",
    "dfg1.dtypes\n"
   ]
  },
  {
   "cell_type": "code",
   "execution_count": 221,
   "id": "30ef55fe",
   "metadata": {},
   "outputs": [
    {
     "data": {
      "text/plain": [
       "Annee                               object\n",
       "Mois                                object\n",
       "Moyenne de circulation par mois    float64\n",
       "Nombre_accident_par_mois            object\n",
       "Nombre_de_pollution_par_mois        object\n",
       "Niveau pollution                   float64\n",
       "dtype: object"
      ]
     },
     "execution_count": 221,
     "metadata": {},
     "output_type": "execute_result"
    }
   ],
   "source": [
    "dfg1['Moyenne de circulation par mois']=dfg1['Moyenne de circulation par mois'].astype(float)\n",
    "dfg1['Mois']=dfg1['Mois'].astype(str)\n",
    "dfg1['Niveau pollution']=dfg1['Niveau pollution'].astype(float)\n",
    "dfg1.dtypes"
   ]
  },
  {
   "cell_type": "code",
   "execution_count": 222,
   "id": "7b01b006",
   "metadata": {},
   "outputs": [
    {
     "data": {
      "image/png": "[encoded data removed]",
      "text/plain": [
       "<Figure size 640x480 with 1 Axes>"
      ]
     },
     "metadata": {},
     "output_type": "display_data"
    }
   ],
   "source": [
    "\n",
    "dfg1.plot() ; plt.ylabel(\"Moyenne de circulation et Niveau de pollution\")\n",
    "plt.show()\n"
   ]
  },
  {
   "cell_type": "code",
   "execution_count": 223,
   "id": "43f0521d",
   "metadata": {},
   "outputs": [
    {
     "data": {
      "text/plain": [
       "<AxesSubplot: xlabel='Niveau pollution', ylabel='Moyenne de circulation par mois'>"
      ]
     },
     "execution_count": 223,
     "metadata": {},
     "output_type": "execute_result"
    },
    {
     "data": {
      "image/png": "[encoded data removed]",
      "text/plain": [
       "<Figure size 640x480 with 1 Axes>"
      ]
     },
     "metadata": {},
     "output_type": "display_data"
    }
   ],
   "source": [
    "sns.set_theme()\n",
    "sns.barplot(data= dfg1, x='Niveau pollution', y='Moyenne de circulation par mois',  )"
   ]
  },
  {
   "cell_type": "code",
   "execution_count": 224,
   "id": "3037fe93",
   "metadata": {},
   "outputs": [
    {
     "name": "stdout",
     "output_type": "stream",
     "text": [
      "+-----+---------+-------------------------------+------------------------+----------------------------+----------------+\n",
      "|Annee|     Mois|Moyenne de circulation par mois|Nombre_accident_par_mois|Nombre_de_pollution_par_mois|Niveau pollution|\n",
      "+-----+---------+-------------------------------+------------------------+----------------------------+----------------+\n",
      "| 2018|  Janvier|                           9.39|                    4803|                    degradee|               4|\n",
      "| 2018|  Fevrier|                           2.39|                    4803|                     moyenne|               2|\n",
      "| 2018|     Mars|                           2.39|                    4759|                     moyenne|               2|\n",
      "| 2018|    Avril|                            2.4|                    4561|                       bonne|               1|\n",
      "| 2018|      Mai|                           2.39|                    4594|                     moyenne|               2|\n",
      "| 2018|     Juin|                            1.4|                    4745|                     moyenne|               2|\n",
      "| 2018|  Juillet|                            5.4|                    4741|                    degradee|               4|\n",
      "| 2018|     Aout|                           8.39|                    4726|        extremement mauvaise|               5|\n",
      "| 2018|Septembre|                           4.39|                    4693|                    degradee|               4|\n",
      "| 2018|  Octobre|                           6.34|                    4730|                    mauvaise|               3|\n",
      "| 2018| Novembre|                           7.39|                    4672|                    mauvaise|               3|\n",
      "| 2018| Decembre|                           9.34|                    4763|        extremement mauvaise|               5|\n",
      "| 2019|  Janvier|                           9.39|                    5719|        extremement mauvaise|               5|\n",
      "| 2019|  Fevrier|                           2.39|                    2432|                       bonne|               1|\n",
      "| 2019|     Mars|                           2.39|                    5306|                     moyenne|               2|\n",
      "| 2019|    Avril|                            2.4|                    5884|                       bonne|               1|\n",
      "| 2019|      Mai|                           2.39|                    5541|                     moyenne|               2|\n",
      "| 2019|     Juin|                            1.4|                    2689|                     moyenne|               2|\n",
      "| 2019|  Juillet|                            5.4|                    5633|        extremement mauvaise|               5|\n",
      "| 2019|     Aout|                           8.39|                    2847|        extremement mauvaise|               5|\n",
      "+-----+---------+-------------------------------+------------------------+----------------------------+----------------+\n",
      "only showing top 20 rows\n",
      "\n"
     ]
    },
    {
     "data": {
      "text/plain": [
       "[('Annee', 'string'),\n",
       " ('Mois', 'string'),\n",
       " ('Moyenne de circulation par mois', 'string'),\n",
       " ('Nombre_accident_par_mois', 'string'),\n",
       " ('Nombre_de_pollution_par_mois', 'string'),\n",
       " ('Niveau pollution', 'string')]"
      ]
     },
     "execution_count": 224,
     "metadata": {},
     "output_type": "execute_result"
    }
   ],
   "source": [
    "path  = 'hdfs://namenode:9000/ma_base/global1/global1.csv'\n",
    "dataframe_global_div = spark.read.format('csv').options(header=True, sep=\";\").load(path)\n",
    "dataframe_global_div.show()\n",
    "dataframe_global_div.dtypes"
   ]
  },
  {
   "cell_type": "code",
   "execution_count": 225,
   "id": "ef2948fa",
   "metadata": {},
   "outputs": [
    {
     "data": {
      "text/plain": [
       "Annee                              object\n",
       "Mois                               object\n",
       "Moyenne de circulation par mois    object\n",
       "Nombre_accident_par_mois           object\n",
       "Nombre_de_pollution_par_mois       object\n",
       "Niveau pollution                   object\n",
       "dtype: object"
      ]
     },
     "execution_count": 225,
     "metadata": {},
     "output_type": "execute_result"
    }
   ],
   "source": [
    "dfg2=dataframe_global_div.toPandas()\n",
    "dfg2.dtypes\n"
   ]
  },
  {
   "cell_type": "code",
   "execution_count": 236,
   "id": "92afcc27",
   "metadata": {},
   "outputs": [
    {
     "data": {
      "text/plain": [
       "Annee                               object\n",
       "Mois                                object\n",
       "Moyenne de circulation par mois    float64\n",
       "Nombre_accident_par_mois            object\n",
       "Nombre_de_pollution_par_mois        object\n",
       "Niveau pollution                    object\n",
       "dtype: object"
      ]
     },
     "execution_count": 236,
     "metadata": {},
     "output_type": "execute_result"
    }
   ],
   "source": [
    "dfg2['Moyenne de circulation par mois']=dfg2['Moyenne de circulation par mois'].astype(float)\n",
    "dfg2.dtypes\n"
   ]
  },
  {
   "cell_type": "code",
   "execution_count": 237,
   "id": "35062d78",
   "metadata": {},
   "outputs": [
    {
     "data": {
      "image/png": "[encoded data removed]",
      "text/plain": [
       "<Figure size 640x480 with 1 Axes>"
      ]
     },
     "metadata": {},
     "output_type": "display_data"
    }
   ],
   "source": [
    "dfg2.plot(color=\"green\") ; plt.ylabel(\"Moyenne de circulation et Niveau de pollution\")\n",
    "plt.show()"
   ]
  },
  {
   "cell_type": "code",
   "execution_count": 246,
   "id": "4597b3d4",
   "metadata": {},
   "outputs": [],
   "source": [
    "dfg2['Nombre_accident_par_mois']=dfg2['Nombre_accident_par_mois'].astype(float)\n"
   ]
  },
  {
   "cell_type": "code",
   "execution_count": 268,
   "id": "dec8109c",
   "metadata": {},
   "outputs": [
    {
     "data": {
      "text/plain": [
       "0    4.803\n",
       "1    4.803\n",
       "Name: Nombre_accident_par_mois, dtype: float64"
      ]
     },
     "execution_count": 268,
     "metadata": {},
     "output_type": "execute_result"
    }
   ],
   "source": [
    "\n",
    "dfg3 = dfg2['Nombre_accident_par_mois']/1000\n",
    "dfg3.head(2)\n",
    "#dfg4 = (dfg2['Moyenne de circulation par mois'] , dfg3)\n"
   ]
  },
  {
   "cell_type": "code",
   "execution_count": 242,
   "id": "101f7676",
   "metadata": {},
   "outputs": [
    {
     "data": {
      "image/png": "[encoded data removed]",
      "text/plain": [
       "<Figure size 640x480 with 1 Axes>"
      ]
     },
     "metadata": {},
     "output_type": "display_data"
    }
   ],
   "source": [
    "\n",
    "dfg3.plot(color=\"purple\") ; plt.ylabel(\"nombre d'accident\")\n",
    "plt.show()\n"
   ]
  },
  {
   "cell_type": "markdown",
   "id": "b8181839",
   "metadata": {},
   "source": [
    "INTEGRATION DES DONNEES AVEC MONGODB"
   ]
  },
  {
   "cell_type": "code",
   "execution_count": 1,
   "id": "92b1afdf",
   "metadata": {},
   "outputs": [
    {
     "name": "stdout",
     "output_type": "stream",
     "text": [
      "Collecting pymongo\n",
      "  Downloading pymongo-4.3.3-cp39-cp39-manylinux_2_17_x86_64.manylinux2014_x86_64.whl (492 kB)\n",
      "\u001b[2K     \u001b[90m━━━━━━━━━━━━━━━━━━━━━━━━━━━━━━━━━━━━━━━\u001b[0m \u001b[32m492.1/492.1 kB\u001b[0m \u001b[31m2.3 MB/s\u001b[0m eta \u001b[36m0:00:00\u001b[0m00:01\u001b[0m00:01\u001b[0m\n",
      "\u001b[?25hCollecting dnspython<3.0.0,>=1.16.0\n",
      "  Downloading dnspython-2.2.1-py3-none-any.whl (269 kB)\n",
      "\u001b[2K     \u001b[90m━━━━━━━━━━━━━━━━━━━━━━━━━━━━━━━━━━━━━━━\u001b[0m \u001b[32m269.1/269.1 kB\u001b[0m \u001b[31m3.3 MB/s\u001b[0m eta \u001b[36m0:00:00\u001b[0m00:01\u001b[0m00:01\u001b[0m\n",
      "\u001b[?25hInstalling collected packages: dnspython, pymongo\n",
      "Successfully installed dnspython-2.2.1 pymongo-4.3.3\n",
      "\u001b[33mWARNING: Running pip as the 'root' user can result in broken permissions and conflicting behaviour with the system package manager. It is recommended to use a virtual environment instead: https://pip.pypa.io/warnings/venv\u001b[0m\u001b[33m\n",
      "\u001b[0m"
     ]
    }
   ],
   "source": [
    "#le module python PyMongo pour connecter le notebook Jupyter à l'hôte local MongoDB.\n",
    "\n",
    "!pip install pymongo"
   ]
  },
  {
   "cell_type": "code",
   "execution_count": 9,
   "id": "bc5044ac",
   "metadata": {},
   "outputs": [],
   "source": [
    "#importez le module PyMongo \n",
    "\n",
    "import pymongo \n",
    "from pymongo import MongoClient"
   ]
  },
  {
   "cell_type": "code",
   "execution_count": 12,
   "id": "dc3b3280",
   "metadata": {},
   "outputs": [],
   "source": [
    "#connectez la base de données MongoDB à l'aide de la ligne de code\n",
    "\n",
    "Client= MongoClient(\"localhost\",27017)"
   ]
  },
  {
   "cell_type": "code",
   "execution_count": 16,
   "id": "45e5247b",
   "metadata": {},
   "outputs": [
    {
     "data": {
      "text/plain": [
       "Database(MongoClient(host=['localhost:27017'], document_class=dict, tz_aware=False, connect=True), 'data')"
      ]
     },
     "execution_count": 16,
     "metadata": {},
     "output_type": "execute_result"
    }
   ],
   "source": [
    "#Ici, nous récupérons la collection data\n",
    "\n",
    "db=Client[\"data\"]\n",
    "db"
   ]
  },
  {
   "cell_type": "code",
   "execution_count": null,
   "id": "292bc9b3",
   "metadata": {},
   "outputs": [],
   "source": []
  },
  {
   "cell_type": "code",
   "execution_count": null,
   "id": "74209d31",
   "metadata": {},
   "outputs": [],
   "source": []
  },
  {
   "cell_type": "code",
   "execution_count": null,
   "id": "bcd1dc33",
   "metadata": {},
   "outputs": [],
   "source": []
  },
  {
   "cell_type": "code",
   "execution_count": null,
   "id": "75ec0517",
   "metadata": {},
   "outputs": [],
   "source": []
  },
  {
   "cell_type": "code",
   "execution_count": null,
   "id": "961dd307",
   "metadata": {},
   "outputs": [],
   "source": []
  },
  {
   "cell_type": "code",
   "execution_count": null,
   "id": "f59d9f07",
   "metadata": {},
   "outputs": [],
   "source": []
  },
  {
   "cell_type": "code",
   "execution_count": null,
   "id": "94074403",
   "metadata": {},
   "outputs": [],
   "source": []
  }
 ],
 "metadata": {
  "kernelspec": {
   "display_name": "Python 3 (ipykernel)",
   "language": "python",
   "name": "python3"
  },
  "language_info": {
   "codemirror_mode": {
    "name": "ipython",
    "version": 3
   },
   "file_extension": ".py",
   "mimetype": "text/x-python",
   "name": "python",
   "nbconvert_exporter": "python",
   "pygments_lexer": "ipython3",
   "version": "3.9.2"
  }
 },
 "nbformat": 4,
 "nbformat_minor": 5
}
